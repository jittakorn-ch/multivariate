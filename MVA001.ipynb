{
  "nbformat": 4,
  "nbformat_minor": 0,
  "metadata": {
    "colab": {
      "name": "MVA001.ipynb",
      "provenance": [],
      "authorship_tag": "ABX9TyPHgtpjIItZUcAWM+ejc5gE",
      "include_colab_link": true
    },
    "kernelspec": {
      "name": "python3",
      "display_name": "Python 3"
    }
  },
  "cells": [
    {
      "cell_type": "markdown",
      "metadata": {
        "id": "view-in-github",
        "colab_type": "text"
      },
      "source": [
        "<a href=\"https://colab.research.google.com/github/jittakorn-ch/multivariate/blob/main/MVA001.ipynb\" target=\"_parent\"><img src=\"https://colab.research.google.com/assets/colab-badge.svg\" alt=\"Open In Colab\"/></a>"
      ]
    },
    {
      "cell_type": "markdown",
      "metadata": {
        "id": "KuFUepdsTY7V"
      },
      "source": [
        "Scalar, vetor, Matrix"
      ]
    },
    {
      "cell_type": "markdown",
      "metadata": {
        "id": "v4OWDIluY7sS"
      },
      "source": [
        "#### Scalar"
      ]
    },
    {
      "cell_type": "code",
      "metadata": {
        "id": "tQggRDVbTqBg"
      },
      "source": [
        "import numpy as np"
      ],
      "execution_count": 1,
      "outputs": []
    },
    {
      "cell_type": "code",
      "metadata": {
        "colab": {
          "base_uri": "https://localhost:8080/"
        },
        "id": "Or4OJdqqUFGx",
        "outputId": "fbb8c556-9b05-4b16-eead-1ae4c4ed3082"
      },
      "source": [
        "scalar_a = 10   #scalar\r\n",
        "print(scalar_a)"
      ],
      "execution_count": 2,
      "outputs": [
        {
          "output_type": "stream",
          "text": [
            "10\n"
          ],
          "name": "stdout"
        }
      ]
    },
    {
      "cell_type": "markdown",
      "metadata": {
        "id": "DP3pfDtzZBok"
      },
      "source": [
        "#### vector"
      ]
    },
    {
      "cell_type": "code",
      "metadata": {
        "colab": {
          "base_uri": "https://localhost:8080/"
        },
        "id": "yweDhykwUe_-",
        "outputId": "328bcfef-09bb-4b61-e50d-85c2c2936e9e"
      },
      "source": [
        "vector_b = np.zeros([2,1])  #vector\r\n",
        "vector_b[0,0] = 1\r\n",
        "vector_b[1,0] = 3 \r\n",
        "print(vector_b)\r\n",
        "print(vector_b.shape)"
      ],
      "execution_count": 3,
      "outputs": [
        {
          "output_type": "stream",
          "text": [
            "[[1.]\n",
            " [3.]]\n",
            "(2, 1)\n"
          ],
          "name": "stdout"
        }
      ]
    },
    {
      "cell_type": "code",
      "metadata": {
        "colab": {
          "base_uri": "https://localhost:8080/"
        },
        "id": "7dL05nbLV1b2",
        "outputId": "e7aa1c5a-a73e-45ef-e0d4-4af267d16ae4"
      },
      "source": [
        "vector_c = np.array([[1],[3]])\r\n",
        "print(vector_c)\r\n",
        "print(vector_c.shape)"
      ],
      "execution_count": 4,
      "outputs": [
        {
          "output_type": "stream",
          "text": [
            "[[1]\n",
            " [3]]\n",
            "(2, 1)\n"
          ],
          "name": "stdout"
        }
      ]
    },
    {
      "cell_type": "code",
      "metadata": {
        "id": "XTiZ0LpVVG6H"
      },
      "source": [
        "from matplotlib import pyplot as plt"
      ],
      "execution_count": 5,
      "outputs": []
    },
    {
      "cell_type": "code",
      "metadata": {
        "colab": {
          "base_uri": "https://localhost:8080/",
          "height": 282
        },
        "id": "0_6zgIKeVYjI",
        "outputId": "366955d8-ce0e-40c4-a3d8-e6b02f2fc013"
      },
      "source": [
        "plt.plot(vector_b[0,0],vector_b[1,0],'or')"
      ],
      "execution_count": 6,
      "outputs": [
        {
          "output_type": "execute_result",
          "data": {
            "text/plain": [
              "[<matplotlib.lines.Line2D at 0x7f7b2a886a58>]"
            ]
          },
          "metadata": {
            "tags": []
          },
          "execution_count": 6
        },
        {
          "output_type": "display_data",
          "data": {
            "image/png": "[encoded data removed]",
            "text/plain": [
              "<Figure size 432x288 with 1 Axes>"
            ]
          },
          "metadata": {
            "tags": [],
            "needs_background": "light"
          }
        }
      ]
    },
    {
      "cell_type": "markdown",
      "metadata": {
        "id": "eG8kZHNlYE5E"
      },
      "source": [
        "ขนาดของ vector คำนวณได้ด้วยพีธากอรัส"
      ]
    },
    {
      "cell_type": "code",
      "metadata": {
        "id": "f_ltJdqYYSVI",
        "outputId": "8b00200a-d886-4546-c6b9-8283be7436fa",
        "colab": {
          "base_uri": "https://localhost:8080/",
          "height": 129
        }
      },
      "source": [
        "vector_b_size = "
      ],
      "execution_count": 7,
      "outputs": [
        {
          "output_type": "error",
          "ename": "SyntaxError",
          "evalue": "ignored",
          "traceback": [
            "\u001b[0;36m  File \u001b[0;32m\"<ipython-input-7-87042b546711>\"\u001b[0;36m, line \u001b[0;32m1\u001b[0m\n\u001b[0;31m    vector_b_size =\u001b[0m\n\u001b[0m                    ^\u001b[0m\n\u001b[0;31mSyntaxError\u001b[0m\u001b[0;31m:\u001b[0m invalid syntax\n"
          ]
        }
      ]
    },
    {
      "cell_type": "markdown",
      "metadata": {
        "id": "MQs3MduHZWkb"
      },
      "source": [
        "#### Matrix"
      ]
    },
    {
      "cell_type": "code",
      "metadata": {
        "colab": {
          "base_uri": "https://localhost:8080/"
        },
        "id": "4LdswNVRZZoi",
        "outputId": "8849bdc2-ba35-4fdb-e035-ee9dea0ae490"
      },
      "source": [
        "matrix_d = np.array([[2,3],[1,4],[-1,1]])\r\n",
        "print(matrix_d)"
      ],
      "execution_count": 8,
      "outputs": [
        {
          "output_type": "stream",
          "text": [
            "[[ 2  3]\n",
            " [ 1  4]\n",
            " [-1  1]]\n"
          ],
          "name": "stdout"
        }
      ]
    },
    {
      "cell_type": "code",
      "metadata": {
        "colab": {
          "base_uri": "https://localhost:8080/"
        },
        "id": "768jXDiLZ6xB",
        "outputId": "b3c4a2bc-9388-4730-cad8-d6c2b0288f81"
      },
      "source": [
        "matrix_d = matrix_d.T\r\n",
        "print(matrix_d)"
      ],
      "execution_count": 9,
      "outputs": [
        {
          "output_type": "stream",
          "text": [
            "[[ 2  1 -1]\n",
            " [ 3  4  1]]\n"
          ],
          "name": "stdout"
        }
      ]
    },
    {
      "cell_type": "code",
      "metadata": {
        "colab": {
          "base_uri": "https://localhost:8080/"
        },
        "id": "2lOvPbLRer9m",
        "outputId": "eb0a9238-6eeb-42c7-9899-d116c2bee1f8"
      },
      "source": [
        "matrix_d[0,:]"
      ],
      "execution_count": 10,
      "outputs": [
        {
          "output_type": "execute_result",
          "data": {
            "text/plain": [
              "array([ 2,  1, -1])"
            ]
          },
          "metadata": {
            "tags": []
          },
          "execution_count": 10
        }
      ]
    },
    {
      "cell_type": "code",
      "metadata": {
        "colab": {
          "base_uri": "https://localhost:8080/",
          "height": 282
        },
        "id": "_ajQVUC3aR0R",
        "outputId": "62c0e5e1-c1ee-4c57-fdcc-04aa53c4479d"
      },
      "source": [
        "plt.plot(matrix_d[0,:],matrix_d[1,:],'or')   ## plot(ค่าx, ค่าy, หน้าตาของจุด)\r\n",
        "plt.plot(0,0, '.b')  \r\n",
        "plt.plot([0,0],[-1,5], '--b')\r\n",
        "plt.plot([-1.5,2.5],[0,0], '--b')"
      ],
      "execution_count": 11,
      "outputs": [
        {
          "output_type": "execute_result",
          "data": {
            "text/plain": [
              "[<matplotlib.lines.Line2D at 0x7f7b2a36b6d8>]"
            ]
          },
          "metadata": {
            "tags": []
          },
          "execution_count": 11
        },
        {
          "output_type": "display_data",
          "data": {
            "image/png": "[encoded data removed]",
            "text/plain": [
              "<Figure size 432x288 with 1 Axes>"
            ]
          },
          "metadata": {
            "tags": [],
            "needs_background": "light"
          }
        }
      ]
    },
    {
      "cell_type": "markdown",
      "metadata": {
        "id": "OhVqaaiQkApA"
      },
      "source": [
        "Transpose"
      ]
    },
    {
      "cell_type": "code",
      "metadata": {
        "colab": {
          "base_uri": "https://localhost:8080/"
        },
        "id": "VDuBNcepcQnE",
        "outputId": "a876309d-efeb-488b-9e27-826217ad6067"
      },
      "source": [
        "A = np.array([[3,-1,2],[1,5,4]])\r\n",
        "print(A)"
      ],
      "execution_count": 12,
      "outputs": [
        {
          "output_type": "stream",
          "text": [
            "[[ 3 -1  2]\n",
            " [ 1  5  4]]\n"
          ],
          "name": "stdout"
        }
      ]
    },
    {
      "cell_type": "code",
      "metadata": {
        "colab": {
          "base_uri": "https://localhost:8080/"
        },
        "id": "yRoDf8dPkeyG",
        "outputId": "80b2db24-87fd-4857-982e-ae4d94375d75"
      },
      "source": [
        "A.T"
      ],
      "execution_count": 13,
      "outputs": [
        {
          "output_type": "execute_result",
          "data": {
            "text/plain": [
              "array([[ 3,  1],\n",
              "       [-1,  5],\n",
              "       [ 2,  4]])"
            ]
          },
          "metadata": {
            "tags": []
          },
          "execution_count": 13
        }
      ]
    },
    {
      "cell_type": "markdown",
      "metadata": {
        "id": "5QCJVFiGlXEM"
      },
      "source": [
        "\r\n",
        "#### Matrix Multiply\r\n",
        "\r\n",
        "\r\n",
        "$B = A * A'$"
      ]
    },
    {
      "cell_type": "code",
      "metadata": {
        "colab": {
          "base_uri": "https://localhost:8080/"
        },
        "id": "1jbAZlJVk7mU",
        "outputId": "54fc936b-da8d-4bbc-9acc-e56ea5f5108e"
      },
      "source": [
        "B = np.dot(A,A.T)\r\n",
        "print(B)"
      ],
      "execution_count": 14,
      "outputs": [
        {
          "output_type": "stream",
          "text": [
            "[[14  6]\n",
            " [ 6 42]]\n"
          ],
          "name": "stdout"
        }
      ]
    },
    {
      "cell_type": "markdown",
      "metadata": {
        "id": "KE_xaefkmJDT"
      },
      "source": [
        "####Determinant\r\n",
        "\r\n",
        "*Det(B)*"
      ]
    },
    {
      "cell_type": "code",
      "metadata": {
        "colab": {
          "base_uri": "https://localhost:8080/"
        },
        "id": "RpP25RcdmpxW",
        "outputId": "c8a17fc3-6e1a-46c8-f392-804f5e3de4fb"
      },
      "source": [
        "np.linalg.det(B)"
      ],
      "execution_count": 15,
      "outputs": [
        {
          "output_type": "execute_result",
          "data": {
            "text/plain": [
              "551.9999999999998"
            ]
          },
          "metadata": {
            "tags": []
          },
          "execution_count": 15
        }
      ]
    },
    {
      "cell_type": "markdown",
      "metadata": {
        "id": "j2MjNphhsiA_"
      },
      "source": [
        "linalg = linear algebra"
      ]
    },
    {
      "cell_type": "markdown",
      "metadata": {
        "id": "-OUnFcCosyAG"
      },
      "source": [
        "matrix algebra เพิ่มเติม"
      ]
    },
    {
      "cell_type": "code",
      "metadata": {
        "id": "ukjH5apSnR1M",
        "outputId": "bbdebd02-f243-4cbd-af12-da47ba1f044d",
        "colab": {
          "base_uri": "https://localhost:8080/",
          "height": 282
        }
      },
      "source": [
        "plt.plot([0,1],[0,1], '-r')   ## vector [1,1]\r\n",
        "plt.plot(0,0, '.b')  \r\n",
        "plt.plot([0,0],[-1,5], '^:k')\r\n",
        "plt.plot([-1.5,2.5],[0,0], '>:k')"
      ],
      "execution_count": 17,
      "outputs": [
        {
          "output_type": "execute_result",
          "data": {
            "text/plain": [
              "[<matplotlib.lines.Line2D at 0x7f7b224597f0>]"
            ]
          },
          "metadata": {
            "tags": []
          },
          "execution_count": 17
        },
        {
          "output_type": "display_data",
          "data": {
            "image/png": "[encoded data removed]",
            "text/plain": [
              "<Figure size 432x288 with 1 Axes>"
            ]
          },
          "metadata": {
            "tags": [],
            "needs_background": "light"
          }
        }
      ]
    },
    {
      "cell_type": "code",
      "metadata": {
        "id": "0pW-CmdQt9WC",
        "outputId": "3693794b-464a-4656-ddb5-3dfc75601c98",
        "colab": {
          "base_uri": "https://localhost:8080/"
        }
      },
      "source": [
        "B = np.array([[1,3],[3,4]])\r\n",
        "B"
      ],
      "execution_count": 19,
      "outputs": [
        {
          "output_type": "execute_result",
          "data": {
            "text/plain": [
              "array([[1, 3],\n",
              "       [3, 4]])"
            ]
          },
          "metadata": {
            "tags": []
          },
          "execution_count": 19
        }
      ]
    },
    {
      "cell_type": "code",
      "metadata": {
        "id": "cfC-gnayurEv",
        "outputId": "3a076ad8-b14e-408c-ad99-89157e437413",
        "colab": {
          "base_uri": "https://localhost:8080/"
        }
      },
      "source": [
        "Bv = np.dot(B,np.array([[1],[1]]))\r\n",
        "Bv"
      ],
      "execution_count": 23,
      "outputs": [
        {
          "output_type": "execute_result",
          "data": {
            "text/plain": [
              "array([[4],\n",
              "       [7]])"
            ]
          },
          "metadata": {
            "tags": []
          },
          "execution_count": 23
        }
      ]
    },
    {
      "cell_type": "code",
      "metadata": {
        "id": "sad3CHd1u-EU",
        "outputId": "1fef5093-83e1-48a2-c5f0-ec9533faa589",
        "colab": {
          "base_uri": "https://localhost:8080/",
          "height": 282
        }
      },
      "source": [
        "plt.plot([0,Bv[0,0]],[0,Bv[1,0]], '-g') ## vector Bv\r\n",
        "plt.plot([1,1],[1,0], '-r')   ## vector [1,1]\r\n",
        "plt.plot(0,0, '.b')  \r\n",
        "plt.plot([0,0],[-1,5], '^:k')                                                     # มาแก้ไขด้วย\r\n",
        "plt.plot([-1.5,2.5],[0,0], '>:k')"
      ],
      "execution_count": 34,
      "outputs": [
        {
          "output_type": "execute_result",
          "data": {
            "text/plain": [
              "[<matplotlib.lines.Line2D at 0x7f7b21a800b8>]"
            ]
          },
          "metadata": {
            "tags": []
          },
          "execution_count": 34
        },
        {
          "output_type": "display_data",
          "data": {
            "image/png": "[encoded data removed]",
            "text/plain": [
              "<Figure size 432x288 with 1 Axes>"
            ]
          },
          "metadata": {
            "tags": [],
            "needs_background": "light"
          }
        }
      ]
    },
    {
      "cell_type": "markdown",
      "metadata": {
        "id": "OYyn0zU9ybwm"
      },
      "source": [
        "Determinant ของ Matrix ($Det(B)$) คือ พื้นที่ของ unit vector ที่ถูกเปลี่ยนแปลงไป โดย Matrix นั้นๆ"
      ]
    },
    {
      "cell_type": "code",
      "metadata": {
        "id": "plLcjhG6xgBI",
        "outputId": "381706a3-f086-466d-ad31-4a2c27d70f02",
        "colab": {
          "base_uri": "https://localhost:8080/",
          "height": 282
        }
      },
      "source": [
        "plt.plot([0,Bv[0,0]],[0,Bv[1,0]], '-g') ## vector Bv\r\n",
        "plt.plot([3,3],[7,0], ':g')             ## วาดจุดไขปลา พื้นที่ของ Bv\r\n",
        "plt.plot([3,0],[7,7], ':g')             ## วาดจุดไขปลา พื้นที่ของ Bv\r\n",
        "plt.plot([0,1],[0,1], '-r')             ## vector [1,1]\r\n",
        "plt.plot([1,1],[1,0], ':r')             ## วาดจุดไขปลา พื้นที่ของ v                    # มาแก้ไขด้วย\r\n",
        "plt.plot([1,0],[1,1], ':r')             ## วาดจุดไขปลา พื้นที่ของ v\r\n",
        "plt.plot(0,0, '.b')  \r\n",
        "plt.plot([0,0],[-1,5], '^:k')\r\n",
        "plt.plot([-1.5,2.5],[0,0], '>:k')"
      ],
      "execution_count": 36,
      "outputs": [
        {
          "output_type": "execute_result",
          "data": {
            "text/plain": [
              "[<matplotlib.lines.Line2D at 0x7f7b2197b5f8>]"
            ]
          },
          "metadata": {
            "tags": []
          },
          "execution_count": 36
        },
        {
          "output_type": "display_data",
          "data": {
            "image/png": "[encoded data removed]",
            "text/plain": [
              "<Figure size 432x288 with 1 Axes>"
            ]
          },
          "metadata": {
            "tags": [],
            "needs_background": "light"
          }
        }
      ]
    },
    {
      "cell_type": "code",
      "metadata": {
        "id": "9sMTRLlYy_Af"
      },
      "source": [
        ""
      ],
      "execution_count": null,
      "outputs": []
    },
    {
      "cell_type": "markdown",
      "metadata": {
        "id": "-zqclCeB2LSr"
      },
      "source": [
        "####$BI = B = IB$"
      ]
    },
    {
      "cell_type": "code",
      "metadata": {
        "id": "2TnRQPYq2XvO",
        "outputId": "b3467943-2b90-40f2-ce54-e09dd3666cfb",
        "colab": {
          "base_uri": "https://localhost:8080/"
        }
      },
      "source": [
        "mh = np.array([[3,1,6],[7,4,5],[2,-7,1]])\r\n",
        "print(mh)"
      ],
      "execution_count": 37,
      "outputs": [
        {
          "output_type": "stream",
          "text": [
            "[[ 3  1  6]\n",
            " [ 7  4  5]\n",
            " [ 2 -7  1]]\n"
          ],
          "name": "stdout"
        }
      ]
    },
    {
      "cell_type": "code",
      "metadata": {
        "id": "TGOEJLCN4SOR",
        "outputId": "9d94cfd8-e2e8-44e8-ee23-f4bc97c7947a",
        "colab": {
          "base_uri": "https://localhost:8080/"
        }
      },
      "source": [
        "np.linalg.det(mh)"
      ],
      "execution_count": 38,
      "outputs": [
        {
          "output_type": "execute_result",
          "data": {
            "text/plain": [
              "-221.99999999999997"
            ]
          },
          "metadata": {
            "tags": []
          },
          "execution_count": 38
        }
      ]
    },
    {
      "cell_type": "code",
      "metadata": {
        "id": "QJKdtdNb5Gdt"
      },
      "source": [
        ""
      ],
      "execution_count": null,
      "outputs": []
    }
  ]
}