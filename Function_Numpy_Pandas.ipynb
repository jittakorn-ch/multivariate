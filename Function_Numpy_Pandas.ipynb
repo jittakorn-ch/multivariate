{
  "nbformat": 4,
  "nbformat_minor": 0,
  "metadata": {
    "colab": {
      "name": "Function_Numpy_Pandas.ipynb",
      "provenance": [],
      "authorship_tag": "ABX9TyOiu1wRd+EWC5HBH7qPLdVx",
      "include_colab_link": true
    },
    "kernelspec": {
      "name": "python3",
      "display_name": "Python 3"
    }
  },
  "cells": [
    {
      "cell_type": "markdown",
      "metadata": {
        "id": "view-in-github",
        "colab_type": "text"
      },
      "source": [
        "<a href=\"https://colab.research.google.com/github/jittakorn-ch/multivariate/blob/main/Function_Numpy_Pandas.ipynb\" target=\"_parent\"><img src=\"https://colab.research.google.com/assets/colab-badge.svg\" alt=\"Open In Colab\"/></a>"
      ]
    },
    {
      "cell_type": "code",
      "metadata": {
        "id": "Q2_-N5tGSGlK"
      },
      "source": [
        ""
      ],
      "execution_count": null,
      "outputs": []
    },
    {
      "cell_type": "markdown",
      "metadata": {
        "id": "fy-_uvLiShg9"
      },
      "source": [
        "###Function"
      ]
    },
    {
      "cell_type": "markdown",
      "metadata": {
        "id": "oVHl8-pUThM1"
      },
      "source": [
        "Function มีส่วนสำคัญทั้งหมด 4 ส่วน\r\n",
        "\r\n",
        "1. บอก python ว่าเราจะเขียนฟังค์ชั่น ชื่ออะไร def function_name(): (ขาดไม่ได้)\r\n",
        "2. กำหนดตัวแปรที่จะเป็น input **input* (ขาดไม่ได้)\r\n",
        "3. ส่วนประมวลผล do_something with *input* to get Output (ขาดไม่ได้)\r\n",
        "4. ส่วน putput return *Output* (ขาดไม่ได้)\r\n",
        "\r\n",
        "เราใช้ เว้นวรรค(indent) เพื่อกำหนดขอบเขต"
      ]
    },
    {
      "cell_type": "code",
      "metadata": {
        "id": "ZXm7Sa0WSqHZ"
      },
      "source": [
        "def print_name(name,surname,ID):   # มีกี่ตัวแปรก็ได้\r\n",
        "  st = f'ชื่อ {name} นามสกุล {surname} ID {ID}'\r\n",
        "  return st"
      ],
      "execution_count": 1,
      "outputs": []
    },
    {
      "cell_type": "markdown",
      "metadata": {
        "id": "posBMzXfWoee"
      },
      "source": [
        "เรียกใช้ฟังค์ชั่น"
      ]
    },
    {
      "cell_type": "code",
      "metadata": {
        "colab": {
          "base_uri": "https://localhost:8080/",
          "height": 33
        },
        "id": "hgwm5M36V-cw",
        "outputId": "8e8ad259-b595-4758-e650-2591a0c26a01"
      },
      "source": [
        "print_name('จิตรกร', 'จันทะสี', '623021044-1')"
      ],
      "execution_count": 3,
      "outputs": [
        {
          "output_type": "execute_result",
          "data": {
            "application/vnd.google.colaboratory.intrinsic+json": {
              "type": "string"
            },
            "text/plain": [
              "'ชื่อ จิตรกร นามสกุล จันทะสี ID 623021044-1'"
            ]
          },
          "metadata": {
            "tags": []
          },
          "execution_count": 3
        }
      ]
    },
    {
      "cell_type": "code",
      "metadata": {
        "id": "-4qfZQj1XF_W"
      },
      "source": [
        "def print_name2(name,ID,surname):   # มีกี่ตัวแปรก็ได้\r\n",
        "  st = f'ชื่อ {name} นามสกุล {surname} ID {ID}'\r\n",
        "  print(st)"
      ],
      "execution_count": 6,
      "outputs": []
    },
    {
      "cell_type": "code",
      "metadata": {
        "colab": {
          "base_uri": "https://localhost:8080/"
        },
        "id": "rsx_mX1aX-UN",
        "outputId": "038cc9f7-1698-4092-90a5-3e7675eb45f6"
      },
      "source": [
        "print_name2('จิตรกร', 'จันทะสี', '623021044-1')"
      ],
      "execution_count": 7,
      "outputs": [
        {
          "output_type": "stream",
          "text": [
            "ชื่อ จิตรกร นามสกุล 623021044-1 ID จันทะสี\n"
          ],
          "name": "stdout"
        }
      ]
    },
    {
      "cell_type": "code",
      "metadata": {
        "colab": {
          "base_uri": "https://localhost:8080/"
        },
        "id": "EgqWCItUYFRm",
        "outputId": "93938a8c-1ea3-4cc6-e289-2aea758f15d8"
      },
      "source": [
        "op2 = print_name2('จิตรกร', 'จันทะสี', '623021044-1')"
      ],
      "execution_count": 8,
      "outputs": [
        {
          "output_type": "stream",
          "text": [
            "ชื่อ จิตรกร นามสกุล 623021044-1 ID จันทะสี\n"
          ],
          "name": "stdout"
        }
      ]
    },
    {
      "cell_type": "code",
      "metadata": {
        "colab": {
          "base_uri": "https://localhost:8080/"
        },
        "id": "mtvXl5H_Y2FE",
        "outputId": "2fb58415-c1a8-4a5d-855c-435193a8441a"
      },
      "source": [
        "print(op2)"
      ],
      "execution_count": 9,
      "outputs": [
        {
          "output_type": "stream",
          "text": [
            "None\n"
          ],
          "name": "stdout"
        }
      ]
    },
    {
      "cell_type": "markdown",
      "metadata": {
        "id": "sWogzuzlZFxq"
      },
      "source": [
        "ฟังค์ชั่นไม่จำเป็นต้องมี input"
      ]
    },
    {
      "cell_type": "code",
      "metadata": {
        "id": "qDipZYg9ZCJe"
      },
      "source": [
        "def Pi():\r\n",
        "  return 3.14159265359"
      ],
      "execution_count": 10,
      "outputs": []
    },
    {
      "cell_type": "code",
      "metadata": {
        "colab": {
          "base_uri": "https://localhost:8080/"
        },
        "id": "G79FlmT3ZjO3",
        "outputId": "0969008b-4949-40b8-b71d-237782027180"
      },
      "source": [
        "#คำพื้นที่วงกลมที่มีขนาดเส้นผ่านศุนย์กลางเท่ากับ 3\r\n",
        "Pi()*(1.5**2)"
      ],
      "execution_count": 11,
      "outputs": [
        {
          "output_type": "execute_result",
          "data": {
            "text/plain": [
              "7.0685834705775"
            ]
          },
          "metadata": {
            "tags": []
          },
          "execution_count": 11
        }
      ]
    },
    {
      "cell_type": "code",
      "metadata": {
        "id": "cnbrQ-ocZ-b9"
      },
      "source": [
        "def print_my_name():\r\n",
        "  print('จิตรกร จันทะสี ID 623021044-1')"
      ],
      "execution_count": 12,
      "outputs": []
    },
    {
      "cell_type": "code",
      "metadata": {
        "colab": {
          "base_uri": "https://localhost:8080/"
        },
        "id": "MJeq7119aZF9",
        "outputId": "7dfece10-448d-4f55-8d17-b86fbeeb81cd"
      },
      "source": [
        "print_my_name()"
      ],
      "execution_count": 13,
      "outputs": [
        {
          "output_type": "stream",
          "text": [
            "จิตรกร จันทะสี ID 623021044-1\n"
          ],
          "name": "stdout"
        }
      ]
    },
    {
      "cell_type": "markdown",
      "metadata": {
        "id": "yTjYF0ugah2e"
      },
      "source": [
        "###input ของ function ใน python มีสองแบบ input ที่จำเป็นต้องใส่ กับ input ที่ไม่จำเป็นต้องใส่ (มีาค่า default) เราต้องเรียง input ที่จำเป็นต้องใส่ขึ้นก่อน"
      ]
    },
    {
      "cell_type": "code",
      "metadata": {
        "id": "lCXtQrMSaf1x"
      },
      "source": [
        "def print_2lines_default(name, surname, ID, grade='F'):\r\n",
        "  st = f'ชื่อ {name} นามสกุล {surname} รหัส {ID}'\r\n",
        "  print(st)\r\n",
        "  st2=f'เกรดวิชา Multivariat >>> {grade}'\r\n",
        "  print(st2)"
      ],
      "execution_count": 14,
      "outputs": []
    },
    {
      "cell_type": "code",
      "metadata": {
        "colab": {
          "base_uri": "https://localhost:8080/"
        },
        "id": "h1mWidrNccSP",
        "outputId": "84111ebd-8e90-41b1-be08-50f04aaeb7f8"
      },
      "source": [
        "print_2lines_default('จิตรกร','จันทะสี','623021044-1')"
      ],
      "execution_count": 15,
      "outputs": [
        {
          "output_type": "stream",
          "text": [
            "ชื่อ จิตรกร นามสกุล จันทะสี รหัส 623021044-1\n",
            "เกรดวิชา Multivariat >>> F\n"
          ],
          "name": "stdout"
        }
      ]
    },
    {
      "cell_type": "code",
      "metadata": {
        "colab": {
          "base_uri": "https://localhost:8080/"
        },
        "id": "Nm3kofRedNpk",
        "outputId": "1ef68869-c12b-47f7-9240-0421b2eaec76"
      },
      "source": [
        "print_2lines_default('จิตรกร','จันทะสี','623021044-1','A')"
      ],
      "execution_count": 19,
      "outputs": [
        {
          "output_type": "stream",
          "text": [
            "ชื่อ จิตรกร นามสกุล จันทะสี รหัส 623021044-1\n",
            "เกรดวิชา Multivariat >>> A\n"
          ],
          "name": "stdout"
        }
      ]
    },
    {
      "cell_type": "markdown",
      "metadata": {
        "id": "2GGo9pfxgtgC"
      },
      "source": [
        "เราสามารถเรียกฟังค์โดยใช้ชื่อตัวแปรของฟังค์ชั่นช่วยได้"
      ]
    },
    {
      "cell_type": "code",
      "metadata": {
        "colab": {
          "base_uri": "https://localhost:8080/"
        },
        "id": "fiOpsIHHhLBH",
        "outputId": "90beb2b8-1611-445c-a76a-2dbe2226513b"
      },
      "source": [
        "print_name2(name='จิตรกร', surname='จันทะสี', ID='623021044-1')"
      ],
      "execution_count": 20,
      "outputs": [
        {
          "output_type": "stream",
          "text": [
            "ชื่อ จิตรกร นามสกุล จันทะสี ID 623021044-1\n"
          ],
          "name": "stdout"
        }
      ]
    },
    {
      "cell_type": "markdown",
      "metadata": {
        "id": "GTqyCeH8dsGy"
      },
      "source": [
        "####HW3 ให้เขียน function คำนวณจำนวนวินาที เวลาต่อไปนี้\r\n",
        "\r\n",
        "'14-15-31'\r\n",
        "\r\n",
        "'13-00-01'\r\n",
        "\r\n",
        "'05-49-44'\r\n",
        "\r\n",
        "'00-00-16'\r\n",
        "\r\n",
        "และ print ให้สวยงาม"
      ]
    },
    {
      "cell_type": "code",
      "metadata": {
        "id": "3Redds0Te03x"
      },
      "source": [
        ""
      ],
      "execution_count": null,
      "outputs": []
    }
  ]
}