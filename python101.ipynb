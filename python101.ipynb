{
  "nbformat": 4,
  "nbformat_minor": 0,
  "metadata": {
    "colab": {
      "name": "python101.ipynb",
      "provenance": [],
      "authorship_tag": "ABX9TyPXOnVzlUxfS42dOmBfHlX7",
      "include_colab_link": true
    },
    "kernelspec": {
      "name": "python3",
      "display_name": "Python 3"
    }
  },
  "cells": [
    {
      "cell_type": "markdown",
      "metadata": {
        "id": "view-in-github",
        "colab_type": "text"
      },
      "source": [
        "<a href=\"https://colab.research.google.com/github/jittakorn-ch/multivariate/blob/main/python101.ipynb\" target=\"_parent\"><img src=\"https://colab.research.google.com/assets/colab-badge.svg\" alt=\"Open In Colab\"/></a>"
      ]
    },
    {
      "cell_type": "markdown",
      "metadata": {
        "id": "VJVh3ryWLqSX"
      },
      "source": [
        "ตัวแปร variable\r\n",
        "\r\n",
        "หลักการตั้งชื่อตัวแปรเบื้องต้น\r\n",
        "\r\n",
        "1.ตั้งให้สื่อ\r\n",
        "\r\n",
        "2.ภาษาอังกฤษ\r\n",
        "\r\n",
        "3.ใช้ตัวเลขได้แต่ห้ามขึ้นต้นด้วยตัวเลข\r\n",
        "\r\n",
        "4.ห้ามเว้นวรรค\r\n",
        "\r\n",
        "5.ตัวเล็กกับตัวใหญ่ไม่เหมือนกัน\r\n",
        "\r\n",
        "มี output 2 mode: ออกหน้าจอ กับ เข้าไปเก็บในตัวแปร"
      ]
    },
    {
      "cell_type": "code",
      "metadata": {
        "colab": {
          "base_uri": "https://localhost:8080/"
        },
        "id": "OltGXE6DN2lN",
        "outputId": "04527cd8-ddc8-44a3-bef6-1c2cb15e890d"
      },
      "source": [
        "a = 1234567\r\n",
        "print(a)"
      ],
      "execution_count": 3,
      "outputs": [
        {
          "output_type": "stream",
          "text": [
            "1234567\n"
          ],
          "name": "stdout"
        }
      ]
    },
    {
      "cell_type": "markdown",
      "metadata": {
        "id": "CWgvB9LZOx6m"
      },
      "source": [
        "จำนวนเต็ม (integer, int)"
      ]
    },
    {
      "cell_type": "code",
      "metadata": {
        "colab": {
          "base_uri": "https://localhost:8080/"
        },
        "id": "age8LK5ZPGe-",
        "outputId": "94783636-e9b4-4d87-f37b-b77fd5eacb8a"
      },
      "source": [
        "aaa = 234\r\n",
        "print(aaa)"
      ],
      "execution_count": 4,
      "outputs": [
        {
          "output_type": "stream",
          "text": [
            "234\n"
          ],
          "name": "stdout"
        }
      ]
    },
    {
      "cell_type": "code",
      "metadata": {
        "colab": {
          "base_uri": "https://localhost:8080/"
        },
        "id": "z7_uF6xCPDJv",
        "outputId": "35006843-4b0f-4155-f219-5d40398924bf"
      },
      "source": [
        "a + aaa"
      ],
      "execution_count": 5,
      "outputs": [
        {
          "output_type": "execute_result",
          "data": {
            "text/plain": [
              "1234801"
            ]
          },
          "metadata": {
            "tags": []
          },
          "execution_count": 5
        }
      ]
    },
    {
      "cell_type": "code",
      "metadata": {
        "colab": {
          "base_uri": "https://localhost:8080/"
        },
        "id": "l7MOtDjWQG5A",
        "outputId": "120501a4-ed08-41b6-f1d9-838f3b577445"
      },
      "source": [
        "ddd = 'จิตรกร'\r\n",
        "print(ddd)"
      ],
      "execution_count": 6,
      "outputs": [
        {
          "output_type": "stream",
          "text": [
            "จิตรกร\n"
          ],
          "name": "stdout"
        }
      ]
    },
    {
      "cell_type": "code",
      "metadata": {
        "colab": {
          "base_uri": "https://localhost:8080/"
        },
        "id": "tFfWuvjOQv3Q",
        "outputId": "50749220-3ba5-46b6-b34d-ad415da2f674"
      },
      "source": [
        "a = 30\r\n",
        "print(a)"
      ],
      "execution_count": 9,
      "outputs": [
        {
          "output_type": "stream",
          "text": [
            "30\n"
          ],
          "name": "stdout"
        }
      ]
    },
    {
      "cell_type": "code",
      "metadata": {
        "colab": {
          "base_uri": "https://localhost:8080/"
        },
        "id": "fQARswYdS7hy",
        "outputId": "9359ef26-fa54-45de-d932-73fa4a6de062"
      },
      "source": [
        "b = 13\r\n",
        "print(b)"
      ],
      "execution_count": 10,
      "outputs": [
        {
          "output_type": "stream",
          "text": [
            "13\n"
          ],
          "name": "stdout"
        }
      ]
    },
    {
      "cell_type": "code",
      "metadata": {
        "colab": {
          "base_uri": "https://localhost:8080/"
        },
        "id": "J7MrxCHzTHJ8",
        "outputId": "3232d975-390b-4b1e-d607-1cd840275bad"
      },
      "source": [
        "ab = a*b\r\n",
        "print(ab)"
      ],
      "execution_count": 11,
      "outputs": [
        {
          "output_type": "stream",
          "text": [
            "390\n"
          ],
          "name": "stdout"
        }
      ]
    },
    {
      "cell_type": "code",
      "metadata": {
        "colab": {
          "base_uri": "https://localhost:8080/"
        },
        "id": "nquncniNTkNI",
        "outputId": "2937c52a-7a9f-40e2-99dc-ec361b7346ca"
      },
      "source": [
        "print(f'% คือการหารเอาเศษ เช่น 7%3 = {7%3} \\\r\n",
        "แต่\\n/ คือการหารปกติ เช่น 7/3 = {7/3} \\\r\n",
        "และ\\n//  คือการหารเอาส่วน เช่น 7//3 = {7//3} \\\r\n",
        "หรือ\\n ใช้ int() เพื่อหารเอาส่น เช่น int(7/3) = {7/3}')"
      ],
      "execution_count": 12,
      "outputs": [
        {
          "output_type": "stream",
          "text": [
            "% คือการหารเอาเศษ เช่น 7%3 = 1 แต่\n",
            "/ คือการหารปกติ เช่น 7/3 = 2.3333333333333335 และ\n",
            "//  คือการหารเอาส่วน เช่น 7//3 = 2 หรือ\n",
            " ใช้ int() เพื่อหารเอาส่น เช่น int(7/3) = 2.3333333333333335\n"
          ],
          "name": "stdout"
        }
      ]
    },
    {
      "cell_type": "code",
      "metadata": {
        "id": "X-UEVHM_XYXi"
      },
      "source": [
        ""
      ],
      "execution_count": null,
      "outputs": []
    }
  ]
}