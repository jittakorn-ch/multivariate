{
  "nbformat": 4,
  "nbformat_minor": 0,
  "metadata": {
    "colab": {
      "name": "python101.ipynb",
      "provenance": [],
      "authorship_tag": "ABX9TyMMpHWWrCpNjUGwGDq+AxYG",
      "include_colab_link": true
    },
    "kernelspec": {
      "name": "python3",
      "display_name": "Python 3"
    }
  },
  "cells": [
    {
      "cell_type": "markdown",
      "metadata": {
        "id": "view-in-github",
        "colab_type": "text"
      },
      "source": [
        "<a href=\"https://colab.research.google.com/github/jittakorn-ch/multivariate/blob/main/python101.ipynb\" target=\"_parent\"><img src=\"https://colab.research.google.com/assets/colab-badge.svg\" alt=\"Open In Colab\"/></a>"
      ]
    },
    {
      "cell_type": "markdown",
      "metadata": {
        "id": "VJVh3ryWLqSX"
      },
      "source": [
        "ตัวแปร variable\r\n",
        "\r\n",
        "หลักการตั้งชื่อตัวแปรเบื้องต้น\r\n",
        "\r\n",
        "1.ตั้งให้สื่อ\r\n",
        "\r\n",
        "2.ภาษาอังกฤษ\r\n",
        "\r\n",
        "3.ใช้ตัวเลขได้แต่ห้ามขึ้นต้นด้วยตัวเลข\r\n",
        "\r\n",
        "4.ห้ามเว้นวรรค\r\n",
        "\r\n",
        "5.ตัวเล็กกับตัวใหญ่ไม่เหมือนกัน\r\n",
        "\r\n",
        "มี output 2 mode: ออกหน้าจอ กับ เข้าไปเก็บในตัวแปร"
      ]
    },
    {
      "cell_type": "code",
      "metadata": {
        "colab": {
          "base_uri": "https://localhost:8080/"
        },
        "id": "75eXOXvKwZ9y",
        "outputId": "c358202a-21fc-435f-8ef1-7e468e3713a0"
      },
      "source": [
        "3.14159  # hashtag หรือ sharp # คือ comment >>> อันนี้คือ output ที่ออกจากหน้าจอ"
      ],
      "execution_count": 50,
      "outputs": [
        {
          "output_type": "execute_result",
          "data": {
            "text/plain": [
              "3.14159"
            ]
          },
          "metadata": {
            "tags": []
          },
          "execution_count": 50
        }
      ]
    },
    {
      "cell_type": "code",
      "metadata": {
        "id": "VqDUGwlkw9VN"
      },
      "source": [
        "Pi = 3.14159  # อันนี้คือ output ที่เข้าไปอยู่ในตัวแปร"
      ],
      "execution_count": 51,
      "outputs": []
    },
    {
      "cell_type": "code",
      "metadata": {
        "colab": {
          "base_uri": "https://localhost:8080/"
        },
        "id": "s1VWyYtrxbkU",
        "outputId": "4d46a338-58db-413e-9e11-e49545ffa005"
      },
      "source": [
        "Pi"
      ],
      "execution_count": 52,
      "outputs": [
        {
          "output_type": "execute_result",
          "data": {
            "text/plain": [
              "3.14159"
            ]
          },
          "metadata": {
            "tags": []
          },
          "execution_count": 52
        }
      ]
    },
    {
      "cell_type": "code",
      "metadata": {
        "colab": {
          "base_uri": "https://localhost:8080/"
        },
        "id": "TgEu2xPexh9t",
        "outputId": "9bbef12c-dc5e-45c7-e9d5-8c53b362bcf7"
      },
      "source": [
        "a = 32\r\n",
        "print(a)"
      ],
      "execution_count": 53,
      "outputs": [
        {
          "output_type": "stream",
          "text": [
            "32\n"
          ],
          "name": "stdout"
        }
      ]
    },
    {
      "cell_type": "code",
      "metadata": {
        "id": "_X30RRt5hWMi",
        "outputId": "1195fa29-24db-4c1b-ff4c-b00b2fb7d8af",
        "colab": {
          "base_uri": "https://localhost:8080/"
        }
      },
      "source": [
        "b = 20\r\n",
        "print(b)"
      ],
      "execution_count": 54,
      "outputs": [
        {
          "output_type": "stream",
          "text": [
            "20\n"
          ],
          "name": "stdout"
        }
      ]
    },
    {
      "cell_type": "markdown",
      "metadata": {
        "id": "doQVPO06x4Mi"
      },
      "source": [
        "##ชนิดของตัวแปร 3 ชนิด##"
      ]
    },
    {
      "cell_type": "markdown",
      "metadata": {
        "id": "rmo5TT2FyVMK"
      },
      "source": [
        "###จำนวนเต็ม (integer, int)###"
      ]
    },
    {
      "cell_type": "code",
      "metadata": {
        "colab": {
          "base_uri": "https://localhost:8080/"
        },
        "id": "vn36SDQaxtPr",
        "outputId": "6fa02b0f-8979-448b-8128-bae9a0d7eae3"
      },
      "source": [
        "g = 234\r\n",
        "print(g)"
      ],
      "execution_count": 55,
      "outputs": [
        {
          "output_type": "stream",
          "text": [
            "234\n"
          ],
          "name": "stdout"
        }
      ]
    },
    {
      "cell_type": "markdown",
      "metadata": {
        "id": "WGgx_XvVywdC"
      },
      "source": [
        "###จำนวนจริง (float)###"
      ]
    },
    {
      "cell_type": "code",
      "metadata": {
        "colab": {
          "base_uri": "https://localhost:8080/"
        },
        "id": "KCVln44gyuA8",
        "outputId": "03ea06ed-fe96-4d4e-ed36-3e483cb76044"
      },
      "source": [
        "t = 878.\r\n",
        "print(t)"
      ],
      "execution_count": 56,
      "outputs": [
        {
          "output_type": "stream",
          "text": [
            "878.0\n"
          ],
          "name": "stdout"
        }
      ]
    },
    {
      "cell_type": "markdown",
      "metadata": {
        "id": "v5JM-wUJ2ZuV"
      },
      "source": [
        "###อักษร-ข้อความ (character และ text, string)###"
      ]
    },
    {
      "cell_type": "code",
      "metadata": {
        "colab": {
          "base_uri": "https://localhost:8080/"
        },
        "id": "OTtiDJnTzHbF",
        "outputId": "d5aec9c5-5ba0-463f-c617-3904ebbdf5de"
      },
      "source": [
        "ccc = '123456'   # เราใช้ single quote ' หรือ double qoute \" ล้อมรอบตัวหนังสือเพื่อระบุว่าเป็น character-string\r\n",
        "print(ccc)"
      ],
      "execution_count": 57,
      "outputs": [
        {
          "output_type": "stream",
          "text": [
            "123456\n"
          ],
          "name": "stdout"
        }
      ]
    },
    {
      "cell_type": "code",
      "metadata": {
        "colab": {
          "base_uri": "https://localhost:8080/"
        },
        "id": "lO9NJFvk4Ukf",
        "outputId": "168678c6-1783-4189-fbbe-cc172ccf1505"
      },
      "source": [
        "g + t   # float + int = float"
      ],
      "execution_count": 58,
      "outputs": [
        {
          "output_type": "execute_result",
          "data": {
            "text/plain": [
              "1112.0"
            ]
          },
          "metadata": {
            "tags": []
          },
          "execution_count": 58
        }
      ]
    },
    {
      "cell_type": "markdown",
      "metadata": {
        "id": "tP1n7m81fIBf"
      },
      "source": [
        "####t + ccc    ( float + string โดยตรงจะทำให้เกิด error)\r\n",
        "\r\n",
        "TypeError                      Traceback (most recentcall last)\r\n",
        "\r\n",
        "<ipython-input-10-6905783b86ad> in <module>()\r\n",
        "----> 1 t + ccc\r\n",
        "\r\n",
        "TypeError: unsupported operand type(s) for +: 'float' and 'str"
      ]
    },
    {
      "cell_type": "code",
      "metadata": {
        "colab": {
          "base_uri": "https://localhost:8080/"
        },
        "id": "RqaiTdTW5AnO",
        "outputId": "2a3c24b1-aeb0-411e-b068-03167758bf11"
      },
      "source": [
        "ddd = 'จิตรกร'\r\n",
        "print(ddd)"
      ],
      "execution_count": 59,
      "outputs": [
        {
          "output_type": "stream",
          "text": [
            "จิตรกร\n"
          ],
          "name": "stdout"
        }
      ]
    },
    {
      "cell_type": "markdown",
      "metadata": {
        "id": "DqlAvD8M5kwZ"
      },
      "source": [
        "##การเปลี่ยนชนิดของตัวแปร (variable casting)##"
      ]
    },
    {
      "cell_type": "code",
      "metadata": {
        "colab": {
          "base_uri": "https://localhost:8080/"
        },
        "id": "HVRkTydT5ih4",
        "outputId": "8fa6bd4c-66e0-497b-a7b3-76a009f68f5b"
      },
      "source": [
        "g + int(ccc)  # เปลียน string เป็น int เพื่อบวกกับ int"
      ],
      "execution_count": 60,
      "outputs": [
        {
          "output_type": "execute_result",
          "data": {
            "text/plain": [
              "123690"
            ]
          },
          "metadata": {
            "tags": []
          },
          "execution_count": 60
        }
      ]
    },
    {
      "cell_type": "code",
      "metadata": {
        "colab": {
          "base_uri": "https://localhost:8080/"
        },
        "id": "hqeKVvrh6bQ1",
        "outputId": "1fe8ee59-99f8-40fd-b0f9-7f49e525d855"
      },
      "source": [
        "g + float(ccc)  # เปลียน string เป็น float เพื่อบวกกับ float"
      ],
      "execution_count": 61,
      "outputs": [
        {
          "output_type": "execute_result",
          "data": {
            "text/plain": [
              "123690.0"
            ]
          },
          "metadata": {
            "tags": []
          },
          "execution_count": 61
        }
      ]
    },
    {
      "cell_type": "code",
      "metadata": {
        "colab": {
          "base_uri": "https://localhost:8080/",
          "height": 33
        },
        "id": "Q8Lb3LTC6kP5",
        "outputId": "c66173ab-659e-4ae9-ccef-1e0491a90e62"
      },
      "source": [
        "str(g) # "
      ],
      "execution_count": 62,
      "outputs": [
        {
          "output_type": "execute_result",
          "data": {
            "application/vnd.google.colaboratory.intrinsic+json": {
              "type": "string"
            },
            "text/plain": [
              "'234'"
            ]
          },
          "metadata": {
            "tags": []
          },
          "execution_count": 62
        }
      ]
    },
    {
      "cell_type": "markdown",
      "metadata": {
        "id": "aAOeErfy7hK1"
      },
      "source": [
        "##การดำเนินการ Operation (Operation +, -, *, /, %)##"
      ]
    },
    {
      "cell_type": "code",
      "metadata": {
        "colab": {
          "base_uri": "https://localhost:8080/"
        },
        "id": "qhoR0Tdo8AZo",
        "outputId": "09733f21-fde2-40a3-9604-dd3cc7583175"
      },
      "source": [
        "a + g"
      ],
      "execution_count": 63,
      "outputs": [
        {
          "output_type": "execute_result",
          "data": {
            "text/plain": [
              "266"
            ]
          },
          "metadata": {
            "tags": []
          },
          "execution_count": 63
        }
      ]
    },
    {
      "cell_type": "code",
      "metadata": {
        "id": "mI9NPgKz8gAD",
        "outputId": "c8b190df-c0b5-49b0-aed7-8c5369d130b3",
        "colab": {
          "base_uri": "https://localhost:8080/"
        }
      },
      "source": [
        "print(b)"
      ],
      "execution_count": 64,
      "outputs": [
        {
          "output_type": "stream",
          "text": [
            "20\n"
          ],
          "name": "stdout"
        }
      ]
    },
    {
      "cell_type": "code",
      "metadata": {
        "colab": {
          "base_uri": "https://localhost:8080/"
        },
        "id": "eF6YgtCC8m2Q",
        "outputId": "10deaf14-4340-4eef-b31b-43435ba468be"
      },
      "source": [
        "g - t"
      ],
      "execution_count": 65,
      "outputs": [
        {
          "output_type": "execute_result",
          "data": {
            "text/plain": [
              "-644.0"
            ]
          },
          "metadata": {
            "tags": []
          },
          "execution_count": 65
        }
      ]
    },
    {
      "cell_type": "code",
      "metadata": {
        "colab": {
          "base_uri": "https://localhost:8080/"
        },
        "id": "XAylyYqq876Q",
        "outputId": "a5ba13ae-35e6-41ea-afb6-537fbca0d2c4"
      },
      "source": [
        "ab = g*t\r\n",
        "print(ab)"
      ],
      "execution_count": 66,
      "outputs": [
        {
          "output_type": "stream",
          "text": [
            "205452.0\n"
          ],
          "name": "stdout"
        }
      ]
    },
    {
      "cell_type": "code",
      "metadata": {
        "colab": {
          "base_uri": "https://localhost:8080/"
        },
        "id": "jlm7g6U79FvB",
        "outputId": "a9c4f3da-bded-4b42-8ac0-134833ae4399"
      },
      "source": [
        "ab + int(ccc)"
      ],
      "execution_count": 67,
      "outputs": [
        {
          "output_type": "execute_result",
          "data": {
            "text/plain": [
              "328908.0"
            ]
          },
          "metadata": {
            "tags": []
          },
          "execution_count": 67
        }
      ]
    },
    {
      "cell_type": "markdown",
      "metadata": {
        "id": "fDs3DEcx9QmB"
      },
      "source": [
        "###% คือเครื่องหมาย modulo###"
      ]
    },
    {
      "cell_type": "code",
      "metadata": {
        "colab": {
          "base_uri": "https://localhost:8080/"
        },
        "id": "2wB3xG3x9Nly",
        "outputId": "1fd98540-d19f-461e-da33-787948cee866"
      },
      "source": [
        "5%3"
      ],
      "execution_count": 68,
      "outputs": [
        {
          "output_type": "execute_result",
          "data": {
            "text/plain": [
              "2"
            ]
          },
          "metadata": {
            "tags": []
          },
          "execution_count": 68
        }
      ]
    },
    {
      "cell_type": "code",
      "metadata": {
        "colab": {
          "base_uri": "https://localhost:8080/"
        },
        "id": "xvSTlscN9rRR",
        "outputId": "0272e68b-c675-4cfc-dfc1-78c77d8c862a"
      },
      "source": [
        "7%3"
      ],
      "execution_count": 69,
      "outputs": [
        {
          "output_type": "execute_result",
          "data": {
            "text/plain": [
              "1"
            ]
          },
          "metadata": {
            "tags": []
          },
          "execution_count": 69
        }
      ]
    },
    {
      "cell_type": "markdown",
      "metadata": {
        "id": "kojWyTrX-KN8"
      },
      "source": [
        "###คำสั่ง print แบบพิเศษ (การ format string)###"
      ]
    },
    {
      "cell_type": "code",
      "metadata": {
        "id": "i8Vvl3-d9tZF",
        "outputId": "2bba9973-5f2b-4661-ed72-7f029e237514",
        "colab": {
          "base_uri": "https://localhost:8080/"
        }
      },
      "source": [
        "print('ตัวแปร')  # สิ่งที่อยู่ข้างในวงเล็บคือ ตัวแปร และ string"
      ],
      "execution_count": 70,
      "outputs": [
        {
          "output_type": "stream",
          "text": [
            "ตัวแปร\n"
          ],
          "name": "stdout"
        }
      ]
    },
    {
      "cell_type": "code",
      "metadata": {
        "id": "KH7EEFjR-HDd",
        "outputId": "3d3203e9-a48b-42d8-d3d3-3e33a35ead29",
        "colab": {
          "base_uri": "https://localhost:8080/"
        }
      },
      "source": [
        "print(f'% คือการหารเอาเศษ เช่น 7%3 = {7%3}')  # เพิ่ม f หน้า 'string' และใช้ {} ใส่ code"
      ],
      "execution_count": 71,
      "outputs": [
        {
          "output_type": "stream",
          "text": [
            "% คือการหารเอาเศษ เช่น 7%3 = 1\n"
          ],
          "name": "stdout"
        }
      ]
    },
    {
      "cell_type": "code",
      "metadata": {
        "id": "PlgBQwpFAqPd",
        "outputId": "d3143ae1-f5ce-4264-9b76-f259aa86d54b",
        "colab": {
          "base_uri": "https://localhost:8080/"
        }
      },
      "source": [
        "print(f'% คือการหารเอาเศษ เช่น 7%3 = {7%3} \\\r\n",
        "    แต่\\n/ คือการหารปกติ เช่น 7/3 = {7/3} \\\r\n",
        "    และ\\n// คือการหารเอาส่วน เช่น 7//3 = {7//3} \\\r\n",
        "    หรือ\\nใช้ int() เพื่อหารเอาส่วน เช่น int(7/3) = {int(7/3)}') # \\n คือการขึ้นบรรทัดใหม่ \\ ใช้ในการตัด code แต่ com จะไม่เห็น"
      ],
      "execution_count": 72,
      "outputs": [
        {
          "output_type": "stream",
          "text": [
            "% คือการหารเอาเศษ เช่น 7%3 = 1     แต่\n",
            "/ คือการหารปกติ เช่น 7/3 = 2.3333333333333335     และ\n",
            "// คือการหารเอาส่วน เช่น 7//3 = 2     หรือ\n",
            "ใช้ int() เพื่อหารเอาส่วน เช่น int(7/3) = 2\n"
          ],
          "name": "stdout"
        }
      ]
    },
    {
      "cell_type": "markdown",
      "metadata": {
        "id": "yUcqNPIACo6s"
      },
      "source": [
        "##DATA STRUCTURE (โครงสร้างข้อมูล)"
      ]
    },
    {
      "cell_type": "code",
      "metadata": {
        "colab": {
          "base_uri": "https://localhost:8080/"
        },
        "id": "MhWkyYk_Bi5l",
        "outputId": "36714356-1095-4c9e-cef3-ad8fd85cdd5e"
      },
      "source": [
        "[111,'c','งง',a]"
      ],
      "execution_count": 73,
      "outputs": [
        {
          "output_type": "execute_result",
          "data": {
            "text/plain": [
              "[111, 'c', 'งง', 32]"
            ]
          },
          "metadata": {
            "tags": []
          },
          "execution_count": 73
        }
      ]
    },
    {
      "cell_type": "markdown",
      "metadata": {
        "id": "5DzmPH7yDSq7"
      },
      "source": [
        "###List คือ การเอาข้อมูลหลายๆ ตัวมาเรียงกัน\r\n",
        "####list สามารถสร้างได้ 2 แบบ ดังนี้"
      ]
    },
    {
      "cell_type": "markdown",
      "metadata": {
        "id": "7BOaFcTJD7ds"
      },
      "source": [
        "####แบบที่ 1 > square brackets"
      ]
    },
    {
      "cell_type": "code",
      "metadata": {
        "colab": {
          "base_uri": "https://localhost:8080/"
        },
        "id": "WKQZOT7JDFZw",
        "outputId": "9a4097a9-f1d1-4603-a512-83d714470025"
      },
      "source": [
        "list_a = []\r\n",
        "print(list_a)"
      ],
      "execution_count": 74,
      "outputs": [
        {
          "output_type": "stream",
          "text": [
            "[]\n"
          ],
          "name": "stdout"
        }
      ]
    },
    {
      "cell_type": "code",
      "metadata": {
        "colab": {
          "base_uri": "https://localhost:8080/"
        },
        "id": "R9YSVe0uEgzc",
        "outputId": "8ae37a57-243d-4009-d0ae-bf3062e525c4"
      },
      "source": [
        "list_b = [111,'c','งง',a]\r\n",
        "print(list_b)"
      ],
      "execution_count": 75,
      "outputs": [
        {
          "output_type": "stream",
          "text": [
            "[111, 'c', 'งง', 32]\n"
          ],
          "name": "stdout"
        }
      ]
    },
    {
      "cell_type": "markdown",
      "metadata": {
        "id": "kcu_WWEPE8YW"
      },
      "source": [
        "####ลำดับที่อยู่ใน list มีความสำคัญ (ลำดับใน list เริ่มจาก 0,1,2,..)"
      ]
    },
    {
      "cell_type": "code",
      "metadata": {
        "colab": {
          "base_uri": "https://localhost:8080/",
          "height": 33
        },
        "id": "retMhg2REvw8",
        "outputId": "d6773593-0a72-4d76-ab2d-110e970d70b4"
      },
      "source": [
        "list_b[2]"
      ],
      "execution_count": 76,
      "outputs": [
        {
          "output_type": "execute_result",
          "data": {
            "application/vnd.google.colaboratory.intrinsic+json": {
              "type": "string"
            },
            "text/plain": [
              "'งง'"
            ]
          },
          "metadata": {
            "tags": []
          },
          "execution_count": 76
        }
      ]
    },
    {
      "cell_type": "markdown",
      "metadata": {
        "id": "ohudhk5YFjHg"
      },
      "source": [
        "####แบบที่ 2"
      ]
    },
    {
      "cell_type": "code",
      "metadata": {
        "colab": {
          "base_uri": "https://localhost:8080/"
        },
        "id": "FJpbngvKFZk0",
        "outputId": "37d79493-b01b-48ea-f534-cc12f829488f"
      },
      "source": [
        "list_c = list()\r\n",
        "print(list_c)"
      ],
      "execution_count": 77,
      "outputs": [
        {
          "output_type": "stream",
          "text": [
            "[]\n"
          ],
          "name": "stdout"
        }
      ]
    },
    {
      "cell_type": "markdown",
      "metadata": {
        "id": "iV-WKo4xxX3d"
      },
      "source": [
        "####append() เพิ่มสมาชิกใหม่ใน list"
      ]
    },
    {
      "cell_type": "code",
      "metadata": {
        "colab": {
          "base_uri": "https://localhost:8080/"
        },
        "id": "nJpZupM0Fu13",
        "outputId": "c52a93d3-80e1-49b0-a07c-c57364d7a8d6"
      },
      "source": [
        "list_b.append('y')\r\n",
        "print(list_b)"
      ],
      "execution_count": 78,
      "outputs": [
        {
          "output_type": "stream",
          "text": [
            "[111, 'c', 'งง', 32, 'y']\n"
          ],
          "name": "stdout"
        }
      ]
    },
    {
      "cell_type": "markdown",
      "metadata": {
        "id": "tWIJCuTOzz_9"
      },
      "source": [
        "#####ตัวที่อยู่ในวงเล็บหลังจากตัวแปร list เรียกว่า index ใช้สำหรับชี้ข้อมูลใน list \r\n",
        "\r\n",
        "(ชี้จากข้างหน้า,ชี้จากข้างหลัง)\r\n",
        "\r\n",
        "0 คือสมาชิกตัวแรก , -1 คือสมาชิกตัวสุดท้าย"
      ]
    },
    {
      "cell_type": "code",
      "metadata": {
        "colab": {
          "base_uri": "https://localhost:8080/",
          "height": 33
        },
        "id": "RCm0woqvyTG1",
        "outputId": "0a259de1-a7ae-43fd-dfbd-2be0e6cb1dd6"
      },
      "source": [
        "list_b[-1]"
      ],
      "execution_count": 79,
      "outputs": [
        {
          "output_type": "execute_result",
          "data": {
            "application/vnd.google.colaboratory.intrinsic+json": {
              "type": "string"
            },
            "text/plain": [
              "'y'"
            ]
          },
          "metadata": {
            "tags": []
          },
          "execution_count": 79
        }
      ]
    },
    {
      "cell_type": "markdown",
      "metadata": {
        "id": "IY9Kn-5P0IwS"
      },
      "source": [
        "###String > list of characters\r\n",
        "\r\n",
        "> Indented block\r\n",
        "\r\n"
      ]
    },
    {
      "cell_type": "code",
      "metadata": {
        "colab": {
          "base_uri": "https://localhost:8080/"
        },
        "id": "_hs5ulRF0Enq",
        "outputId": "66b00378-a38a-465e-d077-81f6ad6df4db"
      },
      "source": [
        "p = 'python is easy'\r\n",
        "print(p)"
      ],
      "execution_count": 80,
      "outputs": [
        {
          "output_type": "stream",
          "text": [
            "python is easy\n"
          ],
          "name": "stdout"
        }
      ]
    },
    {
      "cell_type": "code",
      "metadata": {
        "colab": {
          "base_uri": "https://localhost:8080/",
          "height": 33
        },
        "id": "kkMP5P0h0m6S",
        "outputId": "d33ce86c-f635-4416-a2d3-8ecfe85fb985"
      },
      "source": [
        "p[4]"
      ],
      "execution_count": 81,
      "outputs": [
        {
          "output_type": "execute_result",
          "data": {
            "application/vnd.google.colaboratory.intrinsic+json": {
              "type": "string"
            },
            "text/plain": [
              "'o'"
            ]
          },
          "metadata": {
            "tags": []
          },
          "execution_count": 81
        }
      ]
    },
    {
      "cell_type": "code",
      "metadata": {
        "id": "Y-ZVF3wP00Na",
        "outputId": "9e3d7b82-c473-4593-e645-a9146f47cce8",
        "colab": {
          "base_uri": "https://localhost:8080/",
          "height": 33
        }
      },
      "source": [
        "p[7]"
      ],
      "execution_count": 82,
      "outputs": [
        {
          "output_type": "execute_result",
          "data": {
            "application/vnd.google.colaboratory.intrinsic+json": {
              "type": "string"
            },
            "text/plain": [
              "'i'"
            ]
          },
          "metadata": {
            "tags": []
          },
          "execution_count": 82
        }
      ]
    },
    {
      "cell_type": "markdown",
      "metadata": {
        "id": "3ZEn23Nihqy1"
      },
      "source": [
        "####คาบ 3 11 มค 2021"
      ]
    },
    {
      "cell_type": "code",
      "metadata": {
        "id": "fYE0KglB02z0",
        "colab": {
          "base_uri": "https://localhost:8080/"
        },
        "outputId": "981a8efd-387d-4ac7-fe4d-b7192b18f35c"
      },
      "source": [
        "len(p)"
      ],
      "execution_count": 83,
      "outputs": [
        {
          "output_type": "execute_result",
          "data": {
            "text/plain": [
              "14"
            ]
          },
          "metadata": {
            "tags": []
          },
          "execution_count": 83
        }
      ]
    },
    {
      "cell_type": "markdown",
      "metadata": {
        "id": "iRxXSXlZlu_i"
      },
      "source": [
        "####List slicing สามารถทำได้โดยใช้ colon :\r\n",
        "colon เอาตัวแรก ไม่เอาตัวสุดท้าย [ )"
      ]
    },
    {
      "cell_type": "code",
      "metadata": {
        "id": "tafXsVLbiy_k",
        "colab": {
          "base_uri": "https://localhost:8080/"
        },
        "outputId": "c4a16d13-cbb1-44b8-8f74-c227e06c81a5"
      },
      "source": [
        "print(p)\r\n",
        "print(p[7:9])\r\n",
        "print(len(p[7:9]))"
      ],
      "execution_count": 84,
      "outputs": [
        {
          "output_type": "stream",
          "text": [
            "python is easy\n",
            "is\n",
            "2\n"
          ],
          "name": "stdout"
        }
      ]
    },
    {
      "cell_type": "code",
      "metadata": {
        "id": "Q7feZF5Am0SX",
        "colab": {
          "base_uri": "https://localhost:8080/",
          "height": 33
        },
        "outputId": "ffd779c1-154b-4a6b-ba0f-b5476e2b2c5e"
      },
      "source": [
        "p[0:14:2]  # เอาตัวแรกเว้นแล้วตัวถัดไป (เอาทุกๆ 2 ตัว)"
      ],
      "execution_count": 85,
      "outputs": [
        {
          "output_type": "execute_result",
          "data": {
            "application/vnd.google.colaboratory.intrinsic+json": {
              "type": "string"
            },
            "text/plain": [
              "'pto ses'"
            ]
          },
          "metadata": {
            "tags": []
          },
          "execution_count": 85
        }
      ]
    },
    {
      "cell_type": "code",
      "metadata": {
        "id": "y-pEqD9ynu3Q",
        "colab": {
          "base_uri": "https://localhost:8080/"
        },
        "outputId": "50cdd7f9-7159-4adc-c4e3-9cb361d000e1"
      },
      "source": [
        "z = [1,2,3,4,5,6,7,8,9,10]  # list เริ่มนับตั้งแต่ 0,1,2,...\r\n",
        "print(z[1:10:2])"
      ],
      "execution_count": 86,
      "outputs": [
        {
          "output_type": "stream",
          "text": [
            "[2, 4, 6, 8, 10]\n"
          ],
          "name": "stdout"
        }
      ]
    },
    {
      "cell_type": "markdown",
      "metadata": {
        "id": "suhdkaeqpOzH"
      },
      "source": [
        "ถ้าเว้นว่างหน้า : หมายความว่าเริ่มตั้งแต่ (0)\r\n",
        "\r\n",
        "ถ้าเว้นว่างหลัง : หมายความว่า ไปจนถึงตัวสุดท้าย (len(list))"
      ]
    },
    {
      "cell_type": "code",
      "metadata": {
        "id": "MCTLzw9BoehF",
        "colab": {
          "base_uri": "https://localhost:8080/"
        },
        "outputId": "d6b0a4b4-73d6-49d0-f710-ea08c3b6d4a2"
      },
      "source": [
        "print(p)\r\n",
        "print(p[:])\r\n",
        "print(p[10:])\r\n",
        "print(p[-4:])\r\n",
        "print(p[:])"
      ],
      "execution_count": 87,
      "outputs": [
        {
          "output_type": "stream",
          "text": [
            "python is easy\n",
            "python is easy\n",
            "easy\n",
            "easy\n",
            "python is easy\n"
          ],
          "name": "stdout"
        }
      ]
    },
    {
      "cell_type": "code",
      "metadata": {
        "id": "KgjpT23Pqfk4",
        "colab": {
          "base_uri": "https://localhost:8080/"
        },
        "outputId": "e368cb73-a91e-488e-b6b1-a23903df6480"
      },
      "source": [
        "print(z[::2])"
      ],
      "execution_count": 88,
      "outputs": [
        {
          "output_type": "stream",
          "text": [
            "[1, 3, 5, 7, 9]\n"
          ],
          "name": "stdout"
        }
      ]
    },
    {
      "cell_type": "markdown",
      "metadata": {
        "id": "xr3pE3g1r7DV"
      },
      "source": [
        "####เราสามารถเอา list มาต่อกันได้ด้วย +"
      ]
    },
    {
      "cell_type": "code",
      "metadata": {
        "id": "oSlXBH5nqnAJ",
        "colab": {
          "base_uri": "https://localhost:8080/"
        },
        "outputId": "1412ca42-6fd1-4901-da38-7bb5827615a4"
      },
      "source": [
        "print(list_a)\r\n",
        "print(list_b)\r\n",
        "print(list_a + list_b)  # เอาสมาชิกมารวมกัน หรือ ยูเนียน"
      ],
      "execution_count": 89,
      "outputs": [
        {
          "output_type": "stream",
          "text": [
            "[]\n",
            "[111, 'c', 'งง', 32, 'y']\n",
            "[111, 'c', 'งง', 32, 'y']\n"
          ],
          "name": "stdout"
        }
      ]
    },
    {
      "cell_type": "markdown",
      "metadata": {
        "id": "AjkzfvEXtu1R"
      },
      "source": [
        "####การแบ่ง string ตามสัญลักษณ์ที่กำหนด => split string"
      ]
    },
    {
      "cell_type": "code",
      "metadata": {
        "id": "CZ2ed6IPsztd",
        "colab": {
          "base_uri": "https://localhost:8080/",
          "height": 33
        },
        "outputId": "a1800fc4-25f6-442d-b4be-4b31edebf3c2"
      },
      "source": [
        "p"
      ],
      "execution_count": 90,
      "outputs": [
        {
          "output_type": "execute_result",
          "data": {
            "application/vnd.google.colaboratory.intrinsic+json": {
              "type": "string"
            },
            "text/plain": [
              "'python is easy'"
            ]
          },
          "metadata": {
            "tags": []
          },
          "execution_count": 90
        }
      ]
    },
    {
      "cell_type": "code",
      "metadata": {
        "id": "uuDD-SKHuEqw",
        "colab": {
          "base_uri": "https://localhost:8080/"
        },
        "outputId": "40bcb6fb-da8a-41c1-9f76-a60bc3ed1192"
      },
      "source": [
        "p.split(' ')  # แบ่ง string ด้วยช่องว่าง เจอช่องว่างแล้วแบ่งข้อความ"
      ],
      "execution_count": 91,
      "outputs": [
        {
          "output_type": "execute_result",
          "data": {
            "text/plain": [
              "['python', 'is', 'easy']"
            ]
          },
          "metadata": {
            "tags": []
          },
          "execution_count": 91
        }
      ]
    },
    {
      "cell_type": "code",
      "metadata": {
        "id": "iPpvRciZuN5b"
      },
      "source": [
        "time = '12:30:15'"
      ],
      "execution_count": 92,
      "outputs": []
    },
    {
      "cell_type": "code",
      "metadata": {
        "id": "wZsbcteJu4uA",
        "colab": {
          "base_uri": "https://localhost:8080/"
        },
        "outputId": "08f43def-3571-48de-8f52-d67f36052239"
      },
      "source": [
        "time.split(':')"
      ],
      "execution_count": 93,
      "outputs": [
        {
          "output_type": "execute_result",
          "data": {
            "text/plain": [
              "['12', '30', '15']"
            ]
          },
          "metadata": {
            "tags": []
          },
          "execution_count": 93
        }
      ]
    },
    {
      "cell_type": "markdown",
      "metadata": {
        "id": "wlth5QdIvmfM"
      },
      "source": [
        "###HW คำนวณเป็นหน่วยวินาทีของเวลาต่อไปนี้โดยใช้คำสั่ง split() ช่วย (print ออกมาให้สวยงาม)\r\n",
        "12:30:15\r\n",
        "\r\n",
        "13:41:07\r\n",
        "\r\n",
        "12:53:15\r\n",
        "\r\n",
        "00:59:25\r\n",
        "\r\n",
        "11:11:11\r\n",
        "\r\n",
        "16:06:09\r\n",
        "\r\n",
        "21:12:30\r\n",
        "\r\n",
        "10:06:15"
      ]
    },
    {
      "cell_type": "code",
      "metadata": {
        "id": "R0iHKkA5u_l4",
        "outputId": "797270c1-ca09-41ed-d9ac-56aacd8d9e67",
        "colab": {
          "base_uri": "https://localhost:8080/"
        }
      },
      "source": [
        "q1 = '12:30:15'\r\n",
        "t11 = int(q1.split(':')[0])*60*60\r\n",
        "t12 = int(q1.split(':')[1])*60\r\n",
        "t13 = int(q1.split(':')[2])\r\n",
        "\r\n",
        "s1 = t11+t12+t13\r\n",
        "print(s1)"
      ],
      "execution_count": 111,
      "outputs": [
        {
          "output_type": "stream",
          "text": [
            "45015\n"
          ],
          "name": "stdout"
        }
      ]
    },
    {
      "cell_type": "code",
      "metadata": {
        "id": "KvuYXyG5nipo",
        "outputId": "4dd36121-dc2f-4008-adfc-c0fe27eade79",
        "colab": {
          "base_uri": "https://localhost:8080/"
        }
      },
      "source": [
        "q2 = '13:41:07'\r\n",
        "t21 = int(q2.split(':')[0])*60*60\r\n",
        "t22 = int(q2.split(':')[1])*60\r\n",
        "t23 = int(q2.split(':')[2])\r\n",
        "\r\n",
        "s2 = t21+t22+t23\r\n",
        "print(s2)"
      ],
      "execution_count": 114,
      "outputs": [
        {
          "output_type": "stream",
          "text": [
            "49267\n"
          ],
          "name": "stdout"
        }
      ]
    },
    {
      "cell_type": "code",
      "metadata": {
        "id": "umVVEebhoS4C",
        "outputId": "dc5dbf61-ba54-46a9-d83e-686cb1f8a1ed",
        "colab": {
          "base_uri": "https://localhost:8080/"
        }
      },
      "source": [
        "q3 = '12:53:15'\r\n",
        "t31 = int(q3.split(':')[0])*60*60\r\n",
        "t32 = int(q3.split(':')[1])*60\r\n",
        "t33 = int(q3.split(':')[2])\r\n",
        "\r\n",
        "s3 = t31+t32+t33\r\n",
        "print(s3)"
      ],
      "execution_count": 115,
      "outputs": [
        {
          "output_type": "stream",
          "text": [
            "46395\n"
          ],
          "name": "stdout"
        }
      ]
    },
    {
      "cell_type": "code",
      "metadata": {
        "id": "iUHnNZgRqAOj",
        "outputId": "44837278-8721-4652-b522-590fc0c81c81",
        "colab": {
          "base_uri": "https://localhost:8080/"
        }
      },
      "source": [
        "q4 = '00:59:25'\r\n",
        "t41 = int(q4.split(':')[0])*60*60\r\n",
        "t42 = int(q4.split(':')[1])*60\r\n",
        "t43 = int(q4.split(':')[2])\r\n",
        "\r\n",
        "s4 = t41+t42+t43\r\n",
        "print(s4)"
      ],
      "execution_count": 116,
      "outputs": [
        {
          "output_type": "stream",
          "text": [
            "3565\n"
          ],
          "name": "stdout"
        }
      ]
    },
    {
      "cell_type": "code",
      "metadata": {
        "id": "lrodIWVBqck4",
        "outputId": "ae6bd5ff-8ca3-40da-c84e-d7d24cf99734",
        "colab": {
          "base_uri": "https://localhost:8080/"
        }
      },
      "source": [
        "q5 = '11:11:11'\r\n",
        "t51 = int(q5.split(':')[0])*60*60\r\n",
        "t52 = int(q5.split(':')[1])*60\r\n",
        "t53 = int(q5.split(':')[2])\r\n",
        "\r\n",
        "s5 = t51+t52+t53\r\n",
        "print(s5)"
      ],
      "execution_count": 117,
      "outputs": [
        {
          "output_type": "stream",
          "text": [
            "40271\n"
          ],
          "name": "stdout"
        }
      ]
    },
    {
      "cell_type": "code",
      "metadata": {
        "id": "DsLCjI0gq2nh",
        "outputId": "00ada5cc-3cec-4e56-e2e9-7486fd2a592a",
        "colab": {
          "base_uri": "https://localhost:8080/"
        }
      },
      "source": [
        "q6 = '16:06:09'\r\n",
        "t61 = int(q6.split(':')[0])*60*60\r\n",
        "t62 = int(q6.split(':')[1])*60\r\n",
        "t63 = int(q6.split(':')[2])\r\n",
        "\r\n",
        "s6 = t61+t62+t63\r\n",
        "print(s6)"
      ],
      "execution_count": 118,
      "outputs": [
        {
          "output_type": "stream",
          "text": [
            "57969\n"
          ],
          "name": "stdout"
        }
      ]
    },
    {
      "cell_type": "code",
      "metadata": {
        "id": "jn08nfN_repB",
        "outputId": "a997c45b-3499-4849-b6b3-bb4a482b286b",
        "colab": {
          "base_uri": "https://localhost:8080/"
        }
      },
      "source": [
        "q7 = '21:12:30'\r\n",
        "t71 = int(q7.split(':')[0])*60*60\r\n",
        "t72 = int(q7.split(':')[1])*60\r\n",
        "t73 = int(q7.split(':')[2])\r\n",
        "\r\n",
        "s7 = t71+t72+t73\r\n",
        "print(s7)"
      ],
      "execution_count": 119,
      "outputs": [
        {
          "output_type": "stream",
          "text": [
            "76350\n"
          ],
          "name": "stdout"
        }
      ]
    },
    {
      "cell_type": "code",
      "metadata": {
        "id": "0mKwyxeCrl4W",
        "outputId": "abb2f071-a0cb-4e2d-ff1f-9a32c205e7b8",
        "colab": {
          "base_uri": "https://localhost:8080/"
        }
      },
      "source": [
        "q8 = '10:06:15'\r\n",
        "t81 = int(q8.split(':')[0])*60*60\r\n",
        "t82 = int(q8.split(':')[1])*60\r\n",
        "t83 = int(q8.split(':')[2])\r\n",
        "\r\n",
        "s8 = t81+t82+t83\r\n",
        "print(s8)"
      ],
      "execution_count": 120,
      "outputs": [
        {
          "output_type": "stream",
          "text": [
            "36375\n"
          ],
          "name": "stdout"
        }
      ]
    },
    {
      "cell_type": "code",
      "metadata": {
        "id": "vb2wH97dsfhZ",
        "outputId": "665b5112-a6ad-4c18-ca47-73322836e611",
        "colab": {
          "base_uri": "https://localhost:8080/"
        }
      },
      "source": [
        "print(f'12:30:15 = {s1} วินาที\\\r\n",
        "\\n13:41:07 = {s2}  วินาที\\\r\n",
        "\\n12:53:15 = {s3}  วินาที\\\r\n",
        "\\n00:59:25 = {s4}  วินาที\\\r\n",
        "\\n11:11:11 = {s5}  วินาที\\\r\n",
        "\\n16:06:09 = {s6}  วินาที\\\r\n",
        "\\n21:12:30 = {s7}  วินาที\\\r\n",
        "\\n10:06:15 = {s8}  วินาที')"
      ],
      "execution_count": 133,
      "outputs": [
        {
          "output_type": "stream",
          "text": [
            "12:30:15 = 45015 วินาที\n",
            "13:41:07 = 49267  วินาที\n",
            "12:53:15 = 46395  วินาที\n",
            "00:59:25 = 3565  วินาที\n",
            "11:11:11 = 40271  วินาที\n",
            "16:06:09 = 57969  วินาที\n",
            "21:12:30 = 76350  วินาที\n",
            "10:06:15 = 36375  วินาที\n"
          ],
          "name": "stdout"
        }
      ]
    }
  ]
}