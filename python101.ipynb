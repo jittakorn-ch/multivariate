{
  "nbformat": 4,
  "nbformat_minor": 0,
  "metadata": {
    "colab": {
      "name": "python101.ipynb",
      "provenance": [],
      "authorship_tag": "ABX9TyMerjK4CmVUyUE5Wn18uKT+",
      "include_colab_link": true
    },
    "kernelspec": {
      "name": "python3",
      "display_name": "Python 3"
    }
  },
  "cells": [
    {
      "cell_type": "markdown",
      "metadata": {
        "id": "view-in-github",
        "colab_type": "text"
      },
      "source": [
        "<a href=\"https://colab.research.google.com/github/jittakorn-ch/multivariate/blob/main/python101.ipynb\" target=\"_parent\"><img src=\"https://colab.research.google.com/assets/colab-badge.svg\" alt=\"Open In Colab\"/></a>"
      ]
    },
    {
      "cell_type": "markdown",
      "metadata": {
        "id": "VJVh3ryWLqSX"
      },
      "source": [
        "ตัวแปร variable\r\n",
        "\r\n",
        "หลักการตั้งชื่อตัวแปรเบื้องต้น\r\n",
        "\r\n",
        "1.ตั้งให้สื่อ\r\n",
        "\r\n",
        "2.ภาษาอังกฤษ\r\n",
        "\r\n",
        "3.ใช้ตัวเลขได้แต่ห้ามขึ้นต้นด้วยตัวเลข\r\n",
        "\r\n",
        "4.ห้ามเว้นวรรค\r\n",
        "\r\n",
        "5.ตัวเล็กกับตัวใหญ่ไม่เหมือนกัน\r\n",
        "\r\n",
        "มี output 2 mode: ออกหน้าจอ กับ เข้าไปเก็บในตัวแปร"
      ]
    },
    {
      "cell_type": "code",
      "metadata": {
        "colab": {
          "base_uri": "https://localhost:8080/"
        },
        "id": "75eXOXvKwZ9y",
        "outputId": "fe855d9e-15ea-4022-d4ad-37d1ab6013ec"
      },
      "source": [
        "3.14159  # hashtag หรือ sharp # คือ comment >>> อันนี้คือ output ที่ออกจากหน้าจอ"
      ],
      "execution_count": 2,
      "outputs": [
        {
          "output_type": "execute_result",
          "data": {
            "text/plain": [
              "3.14159"
            ]
          },
          "metadata": {
            "tags": []
          },
          "execution_count": 2
        }
      ]
    },
    {
      "cell_type": "code",
      "metadata": {
        "id": "VqDUGwlkw9VN"
      },
      "source": [
        "Pi = 3.14159  # อันนี้คือ output ที่เข้าไปอยู่ในตัวแปร"
      ],
      "execution_count": 3,
      "outputs": []
    },
    {
      "cell_type": "code",
      "metadata": {
        "colab": {
          "base_uri": "https://localhost:8080/"
        },
        "id": "s1VWyYtrxbkU",
        "outputId": "0fe77bfe-7a3f-4093-87e9-3aa7a706ac9f"
      },
      "source": [
        "Pi"
      ],
      "execution_count": 4,
      "outputs": [
        {
          "output_type": "execute_result",
          "data": {
            "text/plain": [
              "3.14159"
            ]
          },
          "metadata": {
            "tags": []
          },
          "execution_count": 4
        }
      ]
    },
    {
      "cell_type": "code",
      "metadata": {
        "colab": {
          "base_uri": "https://localhost:8080/"
        },
        "id": "TgEu2xPexh9t",
        "outputId": "bab43687-0108-4635-f0ed-f0cf8362dea5"
      },
      "source": [
        "a = 32\r\n",
        "print(a)"
      ],
      "execution_count": 5,
      "outputs": [
        {
          "output_type": "stream",
          "text": [
            "32\n"
          ],
          "name": "stdout"
        }
      ]
    },
    {
      "cell_type": "markdown",
      "metadata": {
        "id": "doQVPO06x4Mi"
      },
      "source": [
        "##ชนิดของตัวแปร 3 ชนิด##"
      ]
    },
    {
      "cell_type": "markdown",
      "metadata": {
        "id": "rmo5TT2FyVMK"
      },
      "source": [
        "###จำนวนเต็ม (integer, int)###"
      ]
    },
    {
      "cell_type": "code",
      "metadata": {
        "colab": {
          "base_uri": "https://localhost:8080/"
        },
        "id": "vn36SDQaxtPr",
        "outputId": "154033df-c54b-47f0-b3a6-da05adba9caf"
      },
      "source": [
        "g = 234\r\n",
        "print(g)"
      ],
      "execution_count": 6,
      "outputs": [
        {
          "output_type": "stream",
          "text": [
            "234\n"
          ],
          "name": "stdout"
        }
      ]
    },
    {
      "cell_type": "markdown",
      "metadata": {
        "id": "WGgx_XvVywdC"
      },
      "source": [
        "###จำนวนจริง (float)###"
      ]
    },
    {
      "cell_type": "code",
      "metadata": {
        "colab": {
          "base_uri": "https://localhost:8080/"
        },
        "id": "KCVln44gyuA8",
        "outputId": "82204b9b-339c-406f-e550-f61c508e5b27"
      },
      "source": [
        "t = 878.\r\n",
        "print(t)"
      ],
      "execution_count": 7,
      "outputs": [
        {
          "output_type": "stream",
          "text": [
            "878.0\n"
          ],
          "name": "stdout"
        }
      ]
    },
    {
      "cell_type": "markdown",
      "metadata": {
        "id": "v5JM-wUJ2ZuV"
      },
      "source": [
        "###อักษร-ข้อความ (character และ text, string)###"
      ]
    },
    {
      "cell_type": "code",
      "metadata": {
        "colab": {
          "base_uri": "https://localhost:8080/"
        },
        "id": "OTtiDJnTzHbF",
        "outputId": "fe44ef1d-0f74-4be8-b558-b784f8deb507"
      },
      "source": [
        "ccc = '123456'   # เราใช้ single quote ' หรือ double qoute \" ล้อมรอบตัวหนังสือเพื่อระบุว่าเป็น character-string\r\n",
        "print(ccc)"
      ],
      "execution_count": 8,
      "outputs": [
        {
          "output_type": "stream",
          "text": [
            "123456\n"
          ],
          "name": "stdout"
        }
      ]
    },
    {
      "cell_type": "code",
      "metadata": {
        "colab": {
          "base_uri": "https://localhost:8080/"
        },
        "id": "lO9NJFvk4Ukf",
        "outputId": "e2b6d0e7-03ac-49be-8503-b0db7d0d5503"
      },
      "source": [
        "g + t   # float + int = float"
      ],
      "execution_count": 9,
      "outputs": [
        {
          "output_type": "execute_result",
          "data": {
            "text/plain": [
              "1112.0"
            ]
          },
          "metadata": {
            "tags": []
          },
          "execution_count": 9
        }
      ]
    },
    {
      "cell_type": "code",
      "metadata": {
        "colab": {
          "base_uri": "https://localhost:8080/",
          "height": 163
        },
        "id": "-Nitk7uX4xku",
        "outputId": "bc6d33ba-5d1f-459a-a095-e0e49fcae952"
      },
      "source": [
        "t + ccc  # float + string โดยตรงจะทำให้เกิด error"
      ],
      "execution_count": 10,
      "outputs": [
        {
          "output_type": "error",
          "ename": "TypeError",
          "evalue": "ignored",
          "traceback": [
            "\u001b[0;31m---------------------------------------------------------------------------\u001b[0m",
            "\u001b[0;31mTypeError\u001b[0m                                 Traceback (most recent call last)",
            "\u001b[0;32m<ipython-input-10-aa042ad5e13c>\u001b[0m in \u001b[0;36m<module>\u001b[0;34m()\u001b[0m\n\u001b[0;32m----> 1\u001b[0;31m \u001b[0mt\u001b[0m \u001b[0;34m+\u001b[0m \u001b[0mccc\u001b[0m  \u001b[0;31m# float + string โดยตรงจะทำให้เกิด error\u001b[0m\u001b[0;34m\u001b[0m\u001b[0;34m\u001b[0m\u001b[0m\n\u001b[0m",
            "\u001b[0;31mTypeError\u001b[0m: unsupported operand type(s) for +: 'float' and 'str'"
          ]
        }
      ]
    },
    {
      "cell_type": "code",
      "metadata": {
        "colab": {
          "base_uri": "https://localhost:8080/"
        },
        "id": "RqaiTdTW5AnO",
        "outputId": "86f5b144-2d5c-4834-e315-9e1ac4471248"
      },
      "source": [
        "ddd = 'จิตรกร'\r\n",
        "print(ddd)"
      ],
      "execution_count": 11,
      "outputs": [
        {
          "output_type": "stream",
          "text": [
            "จิตรกร\n"
          ],
          "name": "stdout"
        }
      ]
    },
    {
      "cell_type": "markdown",
      "metadata": {
        "id": "DqlAvD8M5kwZ"
      },
      "source": [
        "##การเปลี่ยนชนิดของตัวแปร (variable casting)##"
      ]
    },
    {
      "cell_type": "code",
      "metadata": {
        "colab": {
          "base_uri": "https://localhost:8080/"
        },
        "id": "HVRkTydT5ih4",
        "outputId": "72ab55fc-5763-4d57-96a4-f7341cfbf258"
      },
      "source": [
        "g + int(ccc)  # เปลียน string เป็น int เพื่อบวกกับ int"
      ],
      "execution_count": 12,
      "outputs": [
        {
          "output_type": "execute_result",
          "data": {
            "text/plain": [
              "123690"
            ]
          },
          "metadata": {
            "tags": []
          },
          "execution_count": 12
        }
      ]
    },
    {
      "cell_type": "code",
      "metadata": {
        "colab": {
          "base_uri": "https://localhost:8080/"
        },
        "id": "hqeKVvrh6bQ1",
        "outputId": "ba2afe78-717d-44eb-a330-69c5af340fb5"
      },
      "source": [
        "g + float(ccc)  # เปลียน string เป็น float เพื่อบวกกับ float"
      ],
      "execution_count": 13,
      "outputs": [
        {
          "output_type": "execute_result",
          "data": {
            "text/plain": [
              "123690.0"
            ]
          },
          "metadata": {
            "tags": []
          },
          "execution_count": 13
        }
      ]
    },
    {
      "cell_type": "code",
      "metadata": {
        "colab": {
          "base_uri": "https://localhost:8080/",
          "height": 33
        },
        "id": "Q8Lb3LTC6kP5",
        "outputId": "92a505cd-6bf4-49f5-92eb-450e6f87c516"
      },
      "source": [
        "str(g) # "
      ],
      "execution_count": 14,
      "outputs": [
        {
          "output_type": "execute_result",
          "data": {
            "application/vnd.google.colaboratory.intrinsic+json": {
              "type": "string"
            },
            "text/plain": [
              "'234'"
            ]
          },
          "metadata": {
            "tags": []
          },
          "execution_count": 14
        }
      ]
    },
    {
      "cell_type": "markdown",
      "metadata": {
        "id": "aAOeErfy7hK1"
      },
      "source": [
        "##การดำเนินการ Operation (Operation +, -, *, /, %)##"
      ]
    },
    {
      "cell_type": "code",
      "metadata": {
        "colab": {
          "base_uri": "https://localhost:8080/"
        },
        "id": "qhoR0Tdo8AZo",
        "outputId": "5c1684f3-390c-44fb-f27e-3b3374fa1dba"
      },
      "source": [
        "a + g"
      ],
      "execution_count": 23,
      "outputs": [
        {
          "output_type": "execute_result",
          "data": {
            "text/plain": [
              "266"
            ]
          },
          "metadata": {
            "tags": []
          },
          "execution_count": 23
        }
      ]
    },
    {
      "cell_type": "code",
      "metadata": {
        "id": "mI9NPgKz8gAD"
      },
      "source": [
        "print(b)"
      ],
      "execution_count": null,
      "outputs": []
    },
    {
      "cell_type": "code",
      "metadata": {
        "colab": {
          "base_uri": "https://localhost:8080/"
        },
        "id": "eF6YgtCC8m2Q",
        "outputId": "13944542-aea7-4a1b-c0c3-f1cc9a42447b"
      },
      "source": [
        "g - t"
      ],
      "execution_count": 17,
      "outputs": [
        {
          "output_type": "execute_result",
          "data": {
            "text/plain": [
              "-644.0"
            ]
          },
          "metadata": {
            "tags": []
          },
          "execution_count": 17
        }
      ]
    },
    {
      "cell_type": "code",
      "metadata": {
        "colab": {
          "base_uri": "https://localhost:8080/"
        },
        "id": "XAylyYqq876Q",
        "outputId": "603fd761-cc0a-4fbc-e564-6033e44ef71d"
      },
      "source": [
        "ab = g*t\r\n",
        "print(ab)"
      ],
      "execution_count": 18,
      "outputs": [
        {
          "output_type": "stream",
          "text": [
            "205452.0\n"
          ],
          "name": "stdout"
        }
      ]
    },
    {
      "cell_type": "code",
      "metadata": {
        "colab": {
          "base_uri": "https://localhost:8080/"
        },
        "id": "jlm7g6U79FvB",
        "outputId": "5f033b3f-9703-45de-a7c4-bbb7781dfbeb"
      },
      "source": [
        "ab + int(ccc)"
      ],
      "execution_count": 19,
      "outputs": [
        {
          "output_type": "execute_result",
          "data": {
            "text/plain": [
              "328908.0"
            ]
          },
          "metadata": {
            "tags": []
          },
          "execution_count": 19
        }
      ]
    },
    {
      "cell_type": "markdown",
      "metadata": {
        "id": "fDs3DEcx9QmB"
      },
      "source": [
        "###% คือเครื่องหมาย modulo###"
      ]
    },
    {
      "cell_type": "code",
      "metadata": {
        "colab": {
          "base_uri": "https://localhost:8080/"
        },
        "id": "2wB3xG3x9Nly",
        "outputId": "5544ca00-b26e-4866-b05d-01b1d759cae9"
      },
      "source": [
        "5%3"
      ],
      "execution_count": 20,
      "outputs": [
        {
          "output_type": "execute_result",
          "data": {
            "text/plain": [
              "2"
            ]
          },
          "metadata": {
            "tags": []
          },
          "execution_count": 20
        }
      ]
    },
    {
      "cell_type": "code",
      "metadata": {
        "colab": {
          "base_uri": "https://localhost:8080/"
        },
        "id": "xvSTlscN9rRR",
        "outputId": "dfb259be-da4c-4332-b613-d2ff5843869e"
      },
      "source": [
        "7%3"
      ],
      "execution_count": 21,
      "outputs": [
        {
          "output_type": "execute_result",
          "data": {
            "text/plain": [
              "1"
            ]
          },
          "metadata": {
            "tags": []
          },
          "execution_count": 21
        }
      ]
    },
    {
      "cell_type": "markdown",
      "metadata": {
        "id": "kojWyTrX-KN8"
      },
      "source": [
        "###คำสั่ง print แบบพิเศษ (การ format string)###"
      ]
    },
    {
      "cell_type": "code",
      "metadata": {
        "id": "i8Vvl3-d9tZF"
      },
      "source": [
        "print('ตัวแปร')  # สิ่งที่อยู่ข้างในวงเล็บคือ ตัวแปร และ string"
      ],
      "execution_count": null,
      "outputs": []
    },
    {
      "cell_type": "code",
      "metadata": {
        "id": "KH7EEFjR-HDd"
      },
      "source": [
        "print(f'% คือการหารเอาเศษ เช่น 7%3 = {7%3}')  # เพิ่ม f หน้า 'string' และใช้ {} ใส่ code"
      ],
      "execution_count": null,
      "outputs": []
    },
    {
      "cell_type": "code",
      "metadata": {
        "id": "826X0ZW2-2Zv"
      },
      "source": [
        "print(f'% คือการหารเอาเศษ เช่น 7%3 = {7%3} \\ \r\n",
        "แต่\\n/ คือการหารปกติ เช่น 7/3 = {7/3} \\\r\n",
        "และ\\n// คือการหารเอาส่วน เช่น 7//3 = {7//3} \\\r\n",
        "หรือ\\nใช้ int() เพื่อหารเอาส่วน เช่น int(7/3) = {int(7/3)}')"
      ],
      "execution_count": null,
      "outputs": []
    },
    {
      "cell_type": "code",
      "metadata": {
        "id": "PlgBQwpFAqPd"
      },
      "source": [
        "print(f'% คือการหารเอาเศษ เช่น 7%3 = {7%3} \\\r\n",
        "    แต่\\n/ คือการหารปกติ เช่น 7/3 = {7/3} \\\r\n",
        "    และ\\n// คือการหารเอาส่วน เช่น 7//3 = {7//3} \\\r\n",
        "    หรือ\\nใช้ int() เพื่อหารเอาส่วน เช่น int(7/3) = {int(7/3)}') # \\n คือการขึ้นบรรทัดใหม่ \\ ใช้ในการตัด code แต่ com จะไม่เห็น"
      ],
      "execution_count": null,
      "outputs": []
    },
    {
      "cell_type": "markdown",
      "metadata": {
        "id": "yUcqNPIACo6s"
      },
      "source": [
        "##DATA STRUCTURE (โครงสร้างข้อมูล)"
      ]
    },
    {
      "cell_type": "code",
      "metadata": {
        "colab": {
          "base_uri": "https://localhost:8080/"
        },
        "id": "MhWkyYk_Bi5l",
        "outputId": "72e6d486-9b11-4423-bfe7-7252054dc43f"
      },
      "source": [
        "[111,'c','งง',a]"
      ],
      "execution_count": 24,
      "outputs": [
        {
          "output_type": "execute_result",
          "data": {
            "text/plain": [
              "[111, 'c', 'งง', 32]"
            ]
          },
          "metadata": {
            "tags": []
          },
          "execution_count": 24
        }
      ]
    },
    {
      "cell_type": "markdown",
      "metadata": {
        "id": "5DzmPH7yDSq7"
      },
      "source": [
        "###List คือ การเอาข้อมูลหลายๆ ตัวมาเรียงกัน\r\n",
        "####list สามารถสร้างได้ 2 แบบ ดังนี้"
      ]
    },
    {
      "cell_type": "markdown",
      "metadata": {
        "id": "7BOaFcTJD7ds"
      },
      "source": [
        "####แบบที่ 1 > square brackets"
      ]
    },
    {
      "cell_type": "code",
      "metadata": {
        "colab": {
          "base_uri": "https://localhost:8080/"
        },
        "id": "WKQZOT7JDFZw",
        "outputId": "a1e85a74-ef36-41f7-afe3-2b722e7e6ffd"
      },
      "source": [
        "list_a = []\r\n",
        "print(list_a)"
      ],
      "execution_count": 25,
      "outputs": [
        {
          "output_type": "stream",
          "text": [
            "[]\n"
          ],
          "name": "stdout"
        }
      ]
    },
    {
      "cell_type": "code",
      "metadata": {
        "colab": {
          "base_uri": "https://localhost:8080/"
        },
        "id": "R9YSVe0uEgzc",
        "outputId": "f4590a78-463d-474f-88fc-3a78638a43d4"
      },
      "source": [
        "list_b = [111,'c','งง',a]\r\n",
        "print(list_b)"
      ],
      "execution_count": 26,
      "outputs": [
        {
          "output_type": "stream",
          "text": [
            "[111, 'c', 'งง', 32]\n"
          ],
          "name": "stdout"
        }
      ]
    },
    {
      "cell_type": "markdown",
      "metadata": {
        "id": "kcu_WWEPE8YW"
      },
      "source": [
        "####ลำดับที่อยู่ใน list มีความสำคัญ (ลำดับใน list เริ่มจาก 0,1,2,..)"
      ]
    },
    {
      "cell_type": "code",
      "metadata": {
        "colab": {
          "base_uri": "https://localhost:8080/",
          "height": 33
        },
        "id": "retMhg2REvw8",
        "outputId": "85b29fab-c99c-4b4c-bf4c-3b31630f032a"
      },
      "source": [
        "list_b[2]"
      ],
      "execution_count": 27,
      "outputs": [
        {
          "output_type": "execute_result",
          "data": {
            "application/vnd.google.colaboratory.intrinsic+json": {
              "type": "string"
            },
            "text/plain": [
              "'งง'"
            ]
          },
          "metadata": {
            "tags": []
          },
          "execution_count": 27
        }
      ]
    },
    {
      "cell_type": "markdown",
      "metadata": {
        "id": "ohudhk5YFjHg"
      },
      "source": [
        "####แบบที่ 2"
      ]
    },
    {
      "cell_type": "code",
      "metadata": {
        "colab": {
          "base_uri": "https://localhost:8080/"
        },
        "id": "FJpbngvKFZk0",
        "outputId": "6c3a21d7-1ff9-4aac-a461-8c20c1d7564a"
      },
      "source": [
        "list_c = list()\r\n",
        "print(list_c)"
      ],
      "execution_count": 28,
      "outputs": [
        {
          "output_type": "stream",
          "text": [
            "[]\n"
          ],
          "name": "stdout"
        }
      ]
    },
    {
      "cell_type": "markdown",
      "metadata": {
        "id": "iV-WKo4xxX3d"
      },
      "source": [
        "####append() เพิ่มสมาชิกใหม่ใน list"
      ]
    },
    {
      "cell_type": "code",
      "metadata": {
        "colab": {
          "base_uri": "https://localhost:8080/"
        },
        "id": "nJpZupM0Fu13",
        "outputId": "4b108f6f-b8dc-4eca-b41d-d3312b199199"
      },
      "source": [
        "list_b.append('y')\r\n",
        "print(list_b)"
      ],
      "execution_count": 29,
      "outputs": [
        {
          "output_type": "stream",
          "text": [
            "[111, 'c', 'งง', 32, 'y']\n"
          ],
          "name": "stdout"
        }
      ]
    },
    {
      "cell_type": "markdown",
      "metadata": {
        "id": "tWIJCuTOzz_9"
      },
      "source": [
        "#####ตัวที่อยู่ในวงเล็บหลังจากตัวแปร list เรียกว่า index ใช้สำหรับชี้ข้อมูลใน list \r\n",
        "\r\n",
        "(ชี้จากข้างหน้า,ชี้จากข้างหลัง)\r\n",
        "\r\n",
        "0 คือสมาชิกตัวแรก , -1 คือสมาชิกตัวสุดท้าย"
      ]
    },
    {
      "cell_type": "code",
      "metadata": {
        "colab": {
          "base_uri": "https://localhost:8080/",
          "height": 33
        },
        "id": "RCm0woqvyTG1",
        "outputId": "e88cc34b-6692-4bb5-9832-8fdb76215ae9"
      },
      "source": [
        "list_b[-1]"
      ],
      "execution_count": 31,
      "outputs": [
        {
          "output_type": "execute_result",
          "data": {
            "application/vnd.google.colaboratory.intrinsic+json": {
              "type": "string"
            },
            "text/plain": [
              "'y'"
            ]
          },
          "metadata": {
            "tags": []
          },
          "execution_count": 31
        }
      ]
    },
    {
      "cell_type": "markdown",
      "metadata": {
        "id": "IY9Kn-5P0IwS"
      },
      "source": [
        "###String > list of characters\r\n",
        "\r\n",
        "> Indented block\r\n",
        "\r\n"
      ]
    },
    {
      "cell_type": "code",
      "metadata": {
        "colab": {
          "base_uri": "https://localhost:8080/"
        },
        "id": "_hs5ulRF0Enq",
        "outputId": "07714e69-5b83-4823-ae4c-2ae7d52a8ae3"
      },
      "source": [
        "p = 'python is easy'\r\n",
        "print(p)"
      ],
      "execution_count": 32,
      "outputs": [
        {
          "output_type": "stream",
          "text": [
            "python is easy\n"
          ],
          "name": "stdout"
        }
      ]
    },
    {
      "cell_type": "code",
      "metadata": {
        "colab": {
          "base_uri": "https://localhost:8080/",
          "height": 33
        },
        "id": "kkMP5P0h0m6S",
        "outputId": "cc323f8e-3ac2-41ea-868d-d26ad56bed8d"
      },
      "source": [
        "p[4]"
      ],
      "execution_count": 33,
      "outputs": [
        {
          "output_type": "execute_result",
          "data": {
            "application/vnd.google.colaboratory.intrinsic+json": {
              "type": "string"
            },
            "text/plain": [
              "'o'"
            ]
          },
          "metadata": {
            "tags": []
          },
          "execution_count": 33
        }
      ]
    },
    {
      "cell_type": "code",
      "metadata": {
        "id": "Y-ZVF3wP00Na"
      },
      "source": [
        "p[7]"
      ],
      "execution_count": null,
      "outputs": []
    },
    {
      "cell_type": "markdown",
      "metadata": {
        "id": "3ZEn23Nihqy1"
      },
      "source": [
        "####คาบ 3 11 มค 2021"
      ]
    },
    {
      "cell_type": "code",
      "metadata": {
        "id": "fYE0KglB02z0",
        "outputId": "ae9ee137-8bd3-413a-963c-46913dd33ff9",
        "colab": {
          "base_uri": "https://localhost:8080/"
        }
      },
      "source": [
        "len(p)"
      ],
      "execution_count": 34,
      "outputs": [
        {
          "output_type": "execute_result",
          "data": {
            "text/plain": [
              "14"
            ]
          },
          "metadata": {
            "tags": []
          },
          "execution_count": 34
        }
      ]
    },
    {
      "cell_type": "markdown",
      "metadata": {
        "id": "iRxXSXlZlu_i"
      },
      "source": [
        "####List slicing สามารถทำได้โดยใช้ colon :\r\n",
        "colon เอาตัวแรก ไม่เอาตัวสุดท้าย [ )"
      ]
    },
    {
      "cell_type": "code",
      "metadata": {
        "id": "tafXsVLbiy_k",
        "outputId": "d18fc675-e6c8-42a2-a24b-7d0025d714e1",
        "colab": {
          "base_uri": "https://localhost:8080/"
        }
      },
      "source": [
        "print(p)\r\n",
        "print(p[7:9])\r\n",
        "print(len(p[7:9]))"
      ],
      "execution_count": 37,
      "outputs": [
        {
          "output_type": "stream",
          "text": [
            "python is easy\n",
            "is\n",
            "2\n"
          ],
          "name": "stdout"
        }
      ]
    },
    {
      "cell_type": "code",
      "metadata": {
        "id": "Q7feZF5Am0SX",
        "outputId": "56c9e5df-710c-4e5e-dacb-fce8073d5b78",
        "colab": {
          "base_uri": "https://localhost:8080/",
          "height": 33
        }
      },
      "source": [
        "p[0:14:2]  # เอาตัวแรกเว้นแล้วตัวถัดไป (เอาทุกๆ 2 ตัว)"
      ],
      "execution_count": 45,
      "outputs": [
        {
          "output_type": "execute_result",
          "data": {
            "application/vnd.google.colaboratory.intrinsic+json": {
              "type": "string"
            },
            "text/plain": [
              "'pto ses'"
            ]
          },
          "metadata": {
            "tags": []
          },
          "execution_count": 45
        }
      ]
    },
    {
      "cell_type": "code",
      "metadata": {
        "id": "y-pEqD9ynu3Q",
        "outputId": "6514e3ad-513e-4a48-96b8-5b27f01c15cf",
        "colab": {
          "base_uri": "https://localhost:8080/"
        }
      },
      "source": [
        "z = [1,2,3,4,5,6,7,8,9,10]  # list เริ่มนับตั้งแต่ 0,1,2,...\r\n",
        "print(z[1:10:2])"
      ],
      "execution_count": 42,
      "outputs": [
        {
          "output_type": "stream",
          "text": [
            "[2, 4, 6, 8, 10]\n"
          ],
          "name": "stdout"
        }
      ]
    },
    {
      "cell_type": "markdown",
      "metadata": {
        "id": "suhdkaeqpOzH"
      },
      "source": [
        "ถ้าเว้นว่างหน้า : หมายความว่าเริ่มตั้งแต่ (0)\r\n",
        "\r\n",
        "ถ้าเว้นว่างหลัง : หมายความว่า ไปจนถึงตัวสุดท้าย (len(list))"
      ]
    },
    {
      "cell_type": "code",
      "metadata": {
        "id": "MCTLzw9BoehF",
        "outputId": "42d7a98b-1d27-4273-a4be-ef0ddef55254",
        "colab": {
          "base_uri": "https://localhost:8080/"
        }
      },
      "source": [
        "print(p)\r\n",
        "print(p[:])\r\n",
        "print(p[10:])\r\n",
        "print(p[-4:])\r\n",
        "print(p[:])"
      ],
      "execution_count": 43,
      "outputs": [
        {
          "output_type": "stream",
          "text": [
            "python is easy\n",
            "python is easy\n",
            "easy\n",
            "easy\n",
            "python is easy\n"
          ],
          "name": "stdout"
        }
      ]
    },
    {
      "cell_type": "code",
      "metadata": {
        "id": "KgjpT23Pqfk4",
        "outputId": "75e2c8f8-8d15-4938-8eab-4802e76226ee",
        "colab": {
          "base_uri": "https://localhost:8080/"
        }
      },
      "source": [
        "print(z[::2])"
      ],
      "execution_count": 44,
      "outputs": [
        {
          "output_type": "stream",
          "text": [
            "[1, 3, 5, 7, 9]\n"
          ],
          "name": "stdout"
        }
      ]
    },
    {
      "cell_type": "markdown",
      "metadata": {
        "id": "xr3pE3g1r7DV"
      },
      "source": [
        "####เราสามารถเอา list มาต่อกันได้ด้วย +"
      ]
    },
    {
      "cell_type": "code",
      "metadata": {
        "id": "oSlXBH5nqnAJ",
        "outputId": "a97f7ae7-e515-4763-91cd-10f9bd54fff7",
        "colab": {
          "base_uri": "https://localhost:8080/"
        }
      },
      "source": [
        "print(list_a)\r\n",
        "print(list_b)\r\n",
        "print(list_a + list_b)  # เอาสมาชิกมารวมกัน หรือ ยูเนียน"
      ],
      "execution_count": 47,
      "outputs": [
        {
          "output_type": "stream",
          "text": [
            "[]\n",
            "[111, 'c', 'งง', 32, 'y']\n",
            "[111, 'c', 'งง', 32, 'y']\n"
          ],
          "name": "stdout"
        }
      ]
    },
    {
      "cell_type": "markdown",
      "metadata": {
        "id": "AjkzfvEXtu1R"
      },
      "source": [
        "####การแบ่ง string ตามสัญลักษณ์ที่กำหนด => split string"
      ]
    },
    {
      "cell_type": "code",
      "metadata": {
        "id": "CZ2ed6IPsztd",
        "outputId": "1b192eeb-4110-4189-c409-bd145b76bc73",
        "colab": {
          "base_uri": "https://localhost:8080/",
          "height": 33
        }
      },
      "source": [
        "p"
      ],
      "execution_count": 48,
      "outputs": [
        {
          "output_type": "execute_result",
          "data": {
            "application/vnd.google.colaboratory.intrinsic+json": {
              "type": "string"
            },
            "text/plain": [
              "'python is easy'"
            ]
          },
          "metadata": {
            "tags": []
          },
          "execution_count": 48
        }
      ]
    },
    {
      "cell_type": "code",
      "metadata": {
        "id": "uuDD-SKHuEqw",
        "outputId": "5a53e9e0-b421-4eb8-c43c-2ca5917fb957",
        "colab": {
          "base_uri": "https://localhost:8080/"
        }
      },
      "source": [
        "p.split(' ')  # แบ่ง string ด้วยช่องว่าง เจอช่องว่างแล้วแบ่งข้อความ"
      ],
      "execution_count": 50,
      "outputs": [
        {
          "output_type": "execute_result",
          "data": {
            "text/plain": [
              "['python', 'is', 'easy']"
            ]
          },
          "metadata": {
            "tags": []
          },
          "execution_count": 50
        }
      ]
    },
    {
      "cell_type": "code",
      "metadata": {
        "id": "iPpvRciZuN5b"
      },
      "source": [
        "time = '12:30:15'"
      ],
      "execution_count": 51,
      "outputs": []
    },
    {
      "cell_type": "code",
      "metadata": {
        "id": "wZsbcteJu4uA",
        "outputId": "27f184f0-52b0-42bc-f136-1195227e1b06",
        "colab": {
          "base_uri": "https://localhost:8080/"
        }
      },
      "source": [
        "time.split(':')"
      ],
      "execution_count": 53,
      "outputs": [
        {
          "output_type": "execute_result",
          "data": {
            "text/plain": [
              "['12', '30', '15']"
            ]
          },
          "metadata": {
            "tags": []
          },
          "execution_count": 53
        }
      ]
    },
    {
      "cell_type": "markdown",
      "metadata": {
        "id": "wlth5QdIvmfM"
      },
      "source": [
        "###HW คำนวณเป็นหน่วยวินาทีของเวลาต่อไปนี้โดยใช้คำสั่ง split() ช่วย (print ออกมาให้สวยงาม)\r\n",
        "12:30:15\r\n",
        "\r\n",
        "13:41:07\r\n",
        "\r\n",
        "12:53:15\r\n",
        "\r\n",
        "00:59:25\r\n",
        "\r\n",
        "11:11:11\r\n",
        "\r\n",
        "16:06:09\r\n",
        "\r\n",
        "21:12:30\r\n",
        "\r\n",
        "10:06:15"
      ]
    },
    {
      "cell_type": "code",
      "metadata": {
        "id": "R0iHKkA5u_l4"
      },
      "source": [
        "q1 = '12:30:15'\r\n"
      ],
      "execution_count": null,
      "outputs": []
    }
  ]
}