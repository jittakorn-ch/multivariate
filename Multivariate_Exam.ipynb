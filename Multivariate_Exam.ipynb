{
  "nbformat": 4,
  "nbformat_minor": 0,
  "metadata": {
    "colab": {
      "name": "Multivariate Exam.ipynb",
      "provenance": [],
      "include_colab_link": true
    },
    "kernelspec": {
      "name": "python3",
      "display_name": "Python 3"
    },
    "language_info": {
      "name": "python"
    }
  },
  "cells": [
    {
      "cell_type": "markdown",
      "metadata": {
        "id": "view-in-github",
        "colab_type": "text"
      },
      "source": [
        "<a href=\"https://colab.research.google.com/github/jittakorn-ch/multivariate/blob/main/Multivariate_Exam.ipynb\" target=\"_parent\"><img src=\"https://colab.research.google.com/assets/colab-badge.svg\" alt=\"Open In Colab\"/></a>"
      ]
    },
    {
      "cell_type": "markdown",
      "metadata": {
        "id": "JZxiNADfaDtv"
      },
      "source": [
        "ให้นักศึกษาทำข้อสอบใน Colab Notebook นี้โดยกรอกข้อมูลของตัวเองใน cell ที่ 2 แล้วรัน cell ที่ 1 - 5 และเริ่มทำข้อสอบใน cell ที่ 6 เป็นต้นไป\n",
        "\n",
        "โดยโจทย์คือ\n",
        "1. ข้อมูลโจทย์ อยู่ใน ตัวแปร ```Data```\n",
        "2. ทำ clustering แล้วทำ visualize ข้อมูลแบบ 2 มิติ\n",
        "3. ลด Dimension ของข้อมูลเหลือ 2 มิติ แล้วทำ clustering แล้ว visualize ข้อมูลแบบ 2 มิติ\n",
        "4. เปรียบเทียบความแตกต่างของผลข้อ 2. กับ ข้อ 3.\n",
        "5. เขียน comments อธิบายทุกขั้นตอน\n",
        "6. อัด video อธิบาย code ทุกๆขั้นตอนรวมถึงผลแล้วอัพลง youtube ในรูปแบบ unlist \n",
        "7. commit โดยใช้ชื่อ commit เป็น link youtube ที่อธิบาย code ในข้อ 6.\n",
        "\n",
        "กำหนดส่งวันที่ 2 พฤษภาคม 2564 (โดยให้มากรอกวันที่ commit ครั้งสุดท้ายใน sheet: https://docs.google.com/spreadsheets/d/1_qJwLDJVtOW1HxBcf_FHVc6UT4J_SOonuR6o3EEnVzw/edit?usp=sharing ช่อง Final)"
      ]
    },
    {
      "cell_type": "code",
      "metadata": {
        "id": "cWl2x1bPGtQl"
      },
      "source": [
        "from sklearn.datasets import make_blobs\n",
        "import random,math\n",
        "import numpy as np\n",
        "import pandas"
      ],
      "execution_count": 1,
      "outputs": []
    },
    {
      "cell_type": "code",
      "metadata": {
        "id": "gZfzuiHsZksh"
      },
      "source": [
        "Name = 'จิตรกร จันทะสี'\n",
        "ID = '623021044-1'"
      ],
      "execution_count": 2,
      "outputs": []
    },
    {
      "cell_type": "code",
      "metadata": {
        "id": "8hFQXkF5aAiA"
      },
      "source": [
        "def DataGenerator(name,id):\n",
        "    random.seed(int(id[3:6]))\n",
        "    numfeat = random.randint(20,30)\n",
        "    ct = random.randint(len(name)-6,len(name))\n",
        "    \n",
        "    X, y = make_blobs(n_samples=10000, centers=ct, n_features=numfeat , random_state=int(id[3:6]))\n",
        "\n",
        "    print(f'{id[3:6]}:{numfeat}:{ct}')\n",
        "    X_t = (X[:,1]*2)+int(id[3])\n",
        "    X_t2 = (X[:,-1]*5)+int(id[4])\n",
        "\n",
        "    DT = np.append(X,X_t.reshape([10000,1]),axis=1)\n",
        "    DT = np.append(DT,X_t2.reshape([10000,1]),axis=1)\n",
        "    \n",
        "    return pandas.DataFrame(DT)"
      ],
      "execution_count": 3,
      "outputs": []
    },
    {
      "cell_type": "code",
      "metadata": {
        "colab": {
          "base_uri": "https://localhost:8080/"
        },
        "id": "hbXlxumSBX9i",
        "outputId": "43d260c2-64ad-4e2a-ab9b-e0f2efae3f1b"
      },
      "source": [
        "Data = DataGenerator(Name,ID)"
      ],
      "execution_count": 4,
      "outputs": [
        {
          "output_type": "stream",
          "text": [
            "021:22:11\n"
          ],
          "name": "stdout"
        }
      ]
    },
    {
      "cell_type": "code",
      "metadata": {
        "colab": {
          "base_uri": "https://localhost:8080/",
          "height": 439
        },
        "id": "pQcCySXvBdN-",
        "outputId": "34a46048-c22c-4a04-d092-b29206d10be5"
      },
      "source": [
        "Data"
      ],
      "execution_count": 5,
      "outputs": [
        {
          "output_type": "execute_result",
          "data": {
            "text/html": [
              "<div>\n",
              "<style scoped>\n",
              "    .dataframe tbody tr th:only-of-type {\n",
              "        vertical-align: middle;\n",
              "    }\n",
              "\n",
              "    .dataframe tbody tr th {\n",
              "        vertical-align: top;\n",
              "    }\n",
              "\n",
              "    .dataframe thead th {\n",
              "        text-align: right;\n",
              "    }\n",
              "</style>\n",
              "<table border=\"1\" class=\"dataframe\">\n",
              "  <thead>\n",
              "    <tr style=\"text-align: right;\">\n",
              "      <th></th>\n",
              "      <th>0</th>\n",
              "      <th>1</th>\n",
              "      <th>2</th>\n",
              "      <th>3</th>\n",
              "      <th>4</th>\n",
              "      <th>5</th>\n",
              "      <th>6</th>\n",
              "      <th>7</th>\n",
              "      <th>8</th>\n",
              "      <th>9</th>\n",
              "      <th>10</th>\n",
              "      <th>11</th>\n",
              "      <th>12</th>\n",
              "      <th>13</th>\n",
              "      <th>14</th>\n",
              "      <th>15</th>\n",
              "      <th>16</th>\n",
              "      <th>17</th>\n",
              "      <th>18</th>\n",
              "      <th>19</th>\n",
              "      <th>20</th>\n",
              "      <th>21</th>\n",
              "      <th>22</th>\n",
              "      <th>23</th>\n",
              "    </tr>\n",
              "  </thead>\n",
              "  <tbody>\n",
              "    <tr>\n",
              "      <th>0</th>\n",
              "      <td>-0.889351</td>\n",
              "      <td>-3.687852</td>\n",
              "      <td>5.854784</td>\n",
              "      <td>-3.415873</td>\n",
              "      <td>-5.610665</td>\n",
              "      <td>-2.582173</td>\n",
              "      <td>3.694650</td>\n",
              "      <td>-5.062654</td>\n",
              "      <td>-4.586200</td>\n",
              "      <td>6.457132</td>\n",
              "      <td>2.304650</td>\n",
              "      <td>4.329046</td>\n",
              "      <td>7.206710</td>\n",
              "      <td>-5.144610</td>\n",
              "      <td>-1.245484</td>\n",
              "      <td>-7.250447</td>\n",
              "      <td>9.249019</td>\n",
              "      <td>4.797001</td>\n",
              "      <td>5.020432</td>\n",
              "      <td>-3.889117</td>\n",
              "      <td>8.994408</td>\n",
              "      <td>-11.231579</td>\n",
              "      <td>-7.375703</td>\n",
              "      <td>-54.157893</td>\n",
              "    </tr>\n",
              "    <tr>\n",
              "      <th>1</th>\n",
              "      <td>6.888596</td>\n",
              "      <td>-6.324905</td>\n",
              "      <td>-5.740092</td>\n",
              "      <td>5.299575</td>\n",
              "      <td>-2.842515</td>\n",
              "      <td>2.372734</td>\n",
              "      <td>7.933971</td>\n",
              "      <td>-9.659946</td>\n",
              "      <td>6.361068</td>\n",
              "      <td>-10.214856</td>\n",
              "      <td>0.338380</td>\n",
              "      <td>-1.412124</td>\n",
              "      <td>3.624184</td>\n",
              "      <td>4.602672</td>\n",
              "      <td>-8.628475</td>\n",
              "      <td>-7.482172</td>\n",
              "      <td>-0.471848</td>\n",
              "      <td>5.111467</td>\n",
              "      <td>-7.731085</td>\n",
              "      <td>2.441740</td>\n",
              "      <td>-7.366802</td>\n",
              "      <td>-1.858061</td>\n",
              "      <td>-12.649810</td>\n",
              "      <td>-7.290306</td>\n",
              "    </tr>\n",
              "    <tr>\n",
              "      <th>2</th>\n",
              "      <td>8.017362</td>\n",
              "      <td>8.473604</td>\n",
              "      <td>3.038962</td>\n",
              "      <td>-6.893468</td>\n",
              "      <td>-7.191756</td>\n",
              "      <td>-2.181812</td>\n",
              "      <td>-8.602517</td>\n",
              "      <td>1.635662</td>\n",
              "      <td>-4.501795</td>\n",
              "      <td>-8.114539</td>\n",
              "      <td>-6.316734</td>\n",
              "      <td>-4.982942</td>\n",
              "      <td>1.302537</td>\n",
              "      <td>-2.022844</td>\n",
              "      <td>0.086704</td>\n",
              "      <td>-2.306383</td>\n",
              "      <td>-8.802485</td>\n",
              "      <td>-6.781084</td>\n",
              "      <td>-3.476832</td>\n",
              "      <td>-4.668904</td>\n",
              "      <td>-9.690799</td>\n",
              "      <td>5.240675</td>\n",
              "      <td>16.947207</td>\n",
              "      <td>28.203376</td>\n",
              "    </tr>\n",
              "    <tr>\n",
              "      <th>3</th>\n",
              "      <td>-5.259314</td>\n",
              "      <td>7.534503</td>\n",
              "      <td>7.437431</td>\n",
              "      <td>4.414411</td>\n",
              "      <td>-0.059253</td>\n",
              "      <td>-7.445860</td>\n",
              "      <td>-4.424710</td>\n",
              "      <td>-3.564299</td>\n",
              "      <td>-3.465228</td>\n",
              "      <td>-0.862653</td>\n",
              "      <td>2.011504</td>\n",
              "      <td>-4.724475</td>\n",
              "      <td>6.885026</td>\n",
              "      <td>4.804179</td>\n",
              "      <td>7.909228</td>\n",
              "      <td>-4.198045</td>\n",
              "      <td>4.079989</td>\n",
              "      <td>2.923757</td>\n",
              "      <td>-2.001206</td>\n",
              "      <td>-2.269056</td>\n",
              "      <td>6.894771</td>\n",
              "      <td>1.137825</td>\n",
              "      <td>15.069006</td>\n",
              "      <td>7.689124</td>\n",
              "    </tr>\n",
              "    <tr>\n",
              "      <th>4</th>\n",
              "      <td>11.803001</td>\n",
              "      <td>-5.373877</td>\n",
              "      <td>-6.309848</td>\n",
              "      <td>5.999780</td>\n",
              "      <td>-2.165905</td>\n",
              "      <td>3.767224</td>\n",
              "      <td>8.701775</td>\n",
              "      <td>-8.471486</td>\n",
              "      <td>5.789175</td>\n",
              "      <td>-9.041266</td>\n",
              "      <td>0.967662</td>\n",
              "      <td>-0.752092</td>\n",
              "      <td>4.443130</td>\n",
              "      <td>3.572116</td>\n",
              "      <td>-9.602990</td>\n",
              "      <td>-7.327553</td>\n",
              "      <td>2.603626</td>\n",
              "      <td>3.287083</td>\n",
              "      <td>-6.879058</td>\n",
              "      <td>1.562324</td>\n",
              "      <td>-6.132335</td>\n",
              "      <td>-0.672218</td>\n",
              "      <td>-10.747753</td>\n",
              "      <td>-1.361092</td>\n",
              "    </tr>\n",
              "    <tr>\n",
              "      <th>...</th>\n",
              "      <td>...</td>\n",
              "      <td>...</td>\n",
              "      <td>...</td>\n",
              "      <td>...</td>\n",
              "      <td>...</td>\n",
              "      <td>...</td>\n",
              "      <td>...</td>\n",
              "      <td>...</td>\n",
              "      <td>...</td>\n",
              "      <td>...</td>\n",
              "      <td>...</td>\n",
              "      <td>...</td>\n",
              "      <td>...</td>\n",
              "      <td>...</td>\n",
              "      <td>...</td>\n",
              "      <td>...</td>\n",
              "      <td>...</td>\n",
              "      <td>...</td>\n",
              "      <td>...</td>\n",
              "      <td>...</td>\n",
              "      <td>...</td>\n",
              "      <td>...</td>\n",
              "      <td>...</td>\n",
              "      <td>...</td>\n",
              "    </tr>\n",
              "    <tr>\n",
              "      <th>9995</th>\n",
              "      <td>9.386310</td>\n",
              "      <td>0.143661</td>\n",
              "      <td>7.034918</td>\n",
              "      <td>8.043940</td>\n",
              "      <td>6.736725</td>\n",
              "      <td>6.999241</td>\n",
              "      <td>4.103643</td>\n",
              "      <td>-2.564332</td>\n",
              "      <td>-3.517837</td>\n",
              "      <td>6.354337</td>\n",
              "      <td>-7.514451</td>\n",
              "      <td>-2.221127</td>\n",
              "      <td>-5.829928</td>\n",
              "      <td>2.024862</td>\n",
              "      <td>6.591702</td>\n",
              "      <td>-3.938688</td>\n",
              "      <td>6.786948</td>\n",
              "      <td>5.749472</td>\n",
              "      <td>2.184205</td>\n",
              "      <td>-5.268825</td>\n",
              "      <td>6.337545</td>\n",
              "      <td>-0.350062</td>\n",
              "      <td>0.287322</td>\n",
              "      <td>0.249688</td>\n",
              "    </tr>\n",
              "    <tr>\n",
              "      <th>9996</th>\n",
              "      <td>-5.933911</td>\n",
              "      <td>7.865360</td>\n",
              "      <td>7.554697</td>\n",
              "      <td>5.966666</td>\n",
              "      <td>-0.086257</td>\n",
              "      <td>-5.588988</td>\n",
              "      <td>-3.534003</td>\n",
              "      <td>-2.527750</td>\n",
              "      <td>-4.761734</td>\n",
              "      <td>-0.426129</td>\n",
              "      <td>1.003535</td>\n",
              "      <td>-6.136890</td>\n",
              "      <td>5.449768</td>\n",
              "      <td>3.955082</td>\n",
              "      <td>6.685563</td>\n",
              "      <td>-6.451825</td>\n",
              "      <td>3.396171</td>\n",
              "      <td>3.630983</td>\n",
              "      <td>-1.397212</td>\n",
              "      <td>-3.044932</td>\n",
              "      <td>5.194200</td>\n",
              "      <td>1.544812</td>\n",
              "      <td>15.730721</td>\n",
              "      <td>9.724062</td>\n",
              "    </tr>\n",
              "    <tr>\n",
              "      <th>9997</th>\n",
              "      <td>-9.191507</td>\n",
              "      <td>-5.048968</td>\n",
              "      <td>4.294216</td>\n",
              "      <td>-9.342154</td>\n",
              "      <td>-7.362920</td>\n",
              "      <td>-9.229852</td>\n",
              "      <td>-4.192468</td>\n",
              "      <td>3.754275</td>\n",
              "      <td>-2.734278</td>\n",
              "      <td>4.230375</td>\n",
              "      <td>-9.031066</td>\n",
              "      <td>7.426534</td>\n",
              "      <td>-6.797743</td>\n",
              "      <td>-5.650139</td>\n",
              "      <td>2.036746</td>\n",
              "      <td>8.826735</td>\n",
              "      <td>5.432167</td>\n",
              "      <td>9.468526</td>\n",
              "      <td>6.800718</td>\n",
              "      <td>-1.900056</td>\n",
              "      <td>-3.067357</td>\n",
              "      <td>3.287883</td>\n",
              "      <td>-10.097935</td>\n",
              "      <td>18.439417</td>\n",
              "    </tr>\n",
              "    <tr>\n",
              "      <th>9998</th>\n",
              "      <td>-2.169208</td>\n",
              "      <td>11.419935</td>\n",
              "      <td>-5.335483</td>\n",
              "      <td>3.089792</td>\n",
              "      <td>8.711882</td>\n",
              "      <td>6.311260</td>\n",
              "      <td>-4.494053</td>\n",
              "      <td>11.339766</td>\n",
              "      <td>-1.473491</td>\n",
              "      <td>10.446842</td>\n",
              "      <td>-9.495673</td>\n",
              "      <td>9.596118</td>\n",
              "      <td>5.562927</td>\n",
              "      <td>-7.996054</td>\n",
              "      <td>4.785754</td>\n",
              "      <td>-5.670202</td>\n",
              "      <td>1.141286</td>\n",
              "      <td>0.046121</td>\n",
              "      <td>-7.345678</td>\n",
              "      <td>5.898585</td>\n",
              "      <td>8.302183</td>\n",
              "      <td>2.210728</td>\n",
              "      <td>22.839871</td>\n",
              "      <td>13.053641</td>\n",
              "    </tr>\n",
              "    <tr>\n",
              "      <th>9999</th>\n",
              "      <td>-1.127325</td>\n",
              "      <td>7.843972</td>\n",
              "      <td>-4.099255</td>\n",
              "      <td>4.558747</td>\n",
              "      <td>7.852268</td>\n",
              "      <td>5.034660</td>\n",
              "      <td>-4.552104</td>\n",
              "      <td>8.939836</td>\n",
              "      <td>-1.925336</td>\n",
              "      <td>6.983523</td>\n",
              "      <td>-8.159121</td>\n",
              "      <td>7.927639</td>\n",
              "      <td>7.834505</td>\n",
              "      <td>-9.620846</td>\n",
              "      <td>3.095374</td>\n",
              "      <td>-6.055264</td>\n",
              "      <td>0.180302</td>\n",
              "      <td>-1.477641</td>\n",
              "      <td>-9.056913</td>\n",
              "      <td>5.848816</td>\n",
              "      <td>7.980008</td>\n",
              "      <td>0.949692</td>\n",
              "      <td>15.687945</td>\n",
              "      <td>6.748462</td>\n",
              "    </tr>\n",
              "  </tbody>\n",
              "</table>\n",
              "<p>10000 rows × 24 columns</p>\n",
              "</div>"
            ],
            "text/plain": [
              "             0          1         2   ...         21         22         23\n",
              "0     -0.889351  -3.687852  5.854784  ... -11.231579  -7.375703 -54.157893\n",
              "1      6.888596  -6.324905 -5.740092  ...  -1.858061 -12.649810  -7.290306\n",
              "2      8.017362   8.473604  3.038962  ...   5.240675  16.947207  28.203376\n",
              "3     -5.259314   7.534503  7.437431  ...   1.137825  15.069006   7.689124\n",
              "4     11.803001  -5.373877 -6.309848  ...  -0.672218 -10.747753  -1.361092\n",
              "...         ...        ...       ...  ...        ...        ...        ...\n",
              "9995   9.386310   0.143661  7.034918  ...  -0.350062   0.287322   0.249688\n",
              "9996  -5.933911   7.865360  7.554697  ...   1.544812  15.730721   9.724062\n",
              "9997  -9.191507  -5.048968  4.294216  ...   3.287883 -10.097935  18.439417\n",
              "9998  -2.169208  11.419935 -5.335483  ...   2.210728  22.839871  13.053641\n",
              "9999  -1.127325   7.843972 -4.099255  ...   0.949692  15.687945   6.748462\n",
              "\n",
              "[10000 rows x 24 columns]"
            ]
          },
          "metadata": {
            "tags": []
          },
          "execution_count": 5
        }
      ]
    },
    {
      "cell_type": "markdown",
      "metadata": {
        "id": "aZ0ERfekUjZk"
      },
      "source": [
        "## K-mean\n",
        "\n",
        "ทำ K-mean เพื่อแบ่งกลุ่มข้อมุล"
      ]
    },
    {
      "cell_type": "markdown",
      "metadata": {
        "id": "Kgmo0ZN9VYlV"
      },
      "source": [
        "### Import"
      ]
    },
    {
      "cell_type": "code",
      "metadata": {
        "id": "jUARadkFEuyJ"
      },
      "source": [
        "from sklearn.cluster import KMeans           ### import KMeans จาก Packages sklearn"
      ],
      "execution_count": 6,
      "outputs": []
    },
    {
      "cell_type": "markdown",
      "metadata": {
        "id": "tquyXzQ1XbbA"
      },
      "source": [
        "### Define"
      ]
    },
    {
      "cell_type": "code",
      "metadata": {
        "id": "HJIMVsB0XUYi"
      },
      "source": [
        "kmeans = KMeans(random_state=1313)        ### กำหนดให้ KMeans เริ่มสุ่มที่จุด 1313 "
      ],
      "execution_count": 7,
      "outputs": []
    },
    {
      "cell_type": "markdown",
      "metadata": {
        "id": "E4iMYJIEcZZS"
      },
      "source": [
        "### Fit-tranform"
      ]
    },
    {
      "cell_type": "code",
      "metadata": {
        "id": "gZF1BZzmcX6v",
        "outputId": "38324e81-793a-4301-b096-49f7d60d50a1",
        "colab": {
          "base_uri": "https://localhost:8080/"
        }
      },
      "source": [
        "kmeans.fit(Data)          ### คำนวณหา จุด cluster centers ของข้อมูล Data ด้วยวิธี K-means clustering"
      ],
      "execution_count": 8,
      "outputs": [
        {
          "output_type": "execute_result",
          "data": {
            "text/plain": [
              "KMeans(algorithm='auto', copy_x=True, init='k-means++', max_iter=300,\n",
              "       n_clusters=8, n_init=10, n_jobs=None, precompute_distances='auto',\n",
              "       random_state=1313, tol=0.0001, verbose=0)"
            ]
          },
          "metadata": {
            "tags": []
          },
          "execution_count": 8
        }
      ]
    },
    {
      "cell_type": "code",
      "metadata": {
        "id": "E-DNK9MndNrq",
        "outputId": "2b328d0f-9c84-4c63-c2e6-8e72711e7371",
        "colab": {
          "base_uri": "https://localhost:8080/"
        }
      },
      "source": [
        "kmeans.cluster_centers_      ### แสดง จุด cluster centers ที่คำนวณออกมาได้    ### จะมี 8 กลุ่มตามค่า default ของ KMeans"
      ],
      "execution_count": 9,
      "outputs": [
        {
          "output_type": "execute_result",
          "data": {
            "text/plain": [
              "array([[ 7.99878169e-01, -4.13327576e+00, -2.61121470e+00,\n",
              "        -4.63424571e+00, -8.14523499e+00,  5.04060677e+00,\n",
              "         4.64575823e+00, -9.89875880e+00, -5.23545328e+00,\n",
              "        -4.59016345e+00,  5.83404448e+00,  1.23782137e-01,\n",
              "        -7.07781395e-01, -4.76360664e+00,  2.10403771e+00,\n",
              "         7.55216488e+00,  9.83123863e+00, -9.43608580e+00,\n",
              "         4.58543183e-01, -9.16352277e+00,  6.91082925e+00,\n",
              "         2.77306995e+00, -8.26655151e+00,  1.58653498e+01],\n",
              "       [ 8.77937711e+00,  3.33697678e+00,  5.16330468e+00,\n",
              "         3.22868710e+00,  7.01977676e+00,  6.22551454e+00,\n",
              "        -3.00544074e+00,  1.30543503e+00, -1.13929025e+00,\n",
              "         3.03895574e+00, -4.27975902e+00, -2.34884745e+00,\n",
              "        -4.85295342e+00,  3.61541849e+00,  6.05407544e+00,\n",
              "        -5.05756662e+00,  5.63730766e+00,  5.83636917e+00,\n",
              "         4.02906192e+00, -5.32069353e+00,  1.44726987e+00,\n",
              "        -2.58214311e+00,  6.67395356e+00, -1.09107156e+01],\n",
              "       [-5.47906040e-01,  3.09021987e+00,  4.48192488e+00,\n",
              "         3.69760664e+00, -2.50804091e+00, -6.66511179e+00,\n",
              "         3.36790996e+00, -3.29762790e+00, -4.60346010e+00,\n",
              "        -6.38662477e+00,  8.88291775e-01, -2.36450137e+00,\n",
              "         6.03080233e+00, -3.44242390e+00,  1.41032069e+00,\n",
              "        -6.45890431e+00,  1.94561683e+00,  1.60569412e+00,\n",
              "         2.12273894e+00,  1.45669814e+00,  4.60586164e-01,\n",
              "         8.61697841e-01,  6.18043975e+00,  6.30848921e+00],\n",
              "       [-9.03857717e+00, -4.22698997e+00,  4.39439620e+00,\n",
              "        -9.53972231e+00, -5.90491154e+00, -8.96995863e+00,\n",
              "        -3.94302809e+00,  3.30010585e+00, -3.80390308e+00,\n",
              "         1.62849487e+00, -8.65362680e+00,  7.36216540e+00,\n",
              "        -7.26613062e+00, -6.43014969e+00, -5.46669254e-02,\n",
              "         7.31602103e+00,  5.19282624e+00,  9.46849281e+00,\n",
              "         5.15636366e+00, -2.23694660e+00, -1.79084552e+00,\n",
              "         4.28468014e+00, -8.45397994e+00,  2.34234007e+01],\n",
              "       [-1.50343210e+00,  8.91149737e+00, -3.62436713e+00,\n",
              "         5.53819740e+00,  9.53660492e+00,  4.02624385e+00,\n",
              "        -3.89676623e+00,  9.38427185e+00, -2.08542960e+00,\n",
              "         9.01943037e+00, -7.39081824e+00,  8.72376471e+00,\n",
              "         5.11414794e+00, -9.07888494e+00,  3.24556395e+00,\n",
              "        -5.46806148e+00,  3.86535151e-01,  2.70061063e-01,\n",
              "        -7.84262534e+00,  6.26729205e+00,  9.20395614e+00,\n",
              "         1.80873130e+00,  1.78229947e+01,  1.10436565e+01],\n",
              "       [-2.97533795e-02, -4.57661517e+00,  6.23348894e+00,\n",
              "        -3.25228053e+00, -6.14794637e+00, -3.16062980e+00,\n",
              "         3.49371500e+00, -4.31946022e+00, -4.67319384e+00,\n",
              "         7.59081903e+00,  7.72685800e-01,  4.91466220e+00,\n",
              "         7.91240849e+00, -4.53399283e+00,  6.55399564e-01,\n",
              "        -7.31046992e+00,  9.20510559e+00,  6.24346469e+00,\n",
              "         3.01234098e+00, -5.93577584e+00,  9.39153403e+00,\n",
              "        -9.26478579e+00, -9.15323034e+00, -4.43239289e+01],\n",
              "       [ 8.67244034e+00, -5.09695471e+00, -5.88644493e+00,\n",
              "         6.31655648e+00, -3.95553084e+00,  3.51339260e+00,\n",
              "         8.41324115e+00, -8.60057394e+00,  5.64116929e+00,\n",
              "        -9.32911563e+00,  2.13952632e-01, -1.28506623e+00,\n",
              "         3.85688739e+00,  5.54771592e+00, -9.05053468e+00,\n",
              "        -8.56511236e+00,  2.10125735e+00,  4.24010352e+00,\n",
              "        -6.97781587e+00,  2.29127865e+00, -6.95348213e+00,\n",
              "        -7.25897189e-01, -1.01939094e+01, -1.62948594e+00],\n",
              "       [ 7.91785450e+00,  8.47869576e+00,  2.32418024e+00,\n",
              "        -7.17773029e+00, -7.22657294e+00, -2.70575044e+00,\n",
              "        -7.71586865e+00,  2.63359740e-01, -4.82439414e+00,\n",
              "        -7.76829056e+00, -6.28656189e+00, -3.51888235e+00,\n",
              "         3.30304971e+00, -3.73801829e+00,  4.36505916e-01,\n",
              "        -3.32555424e+00, -8.26674027e+00, -8.24147189e+00,\n",
              "        -4.92650912e+00, -5.70167798e+00, -8.72907926e+00,\n",
              "         5.54374871e+00,  1.69573915e+01,  2.97187436e+01]])"
            ]
          },
          "metadata": {
            "tags": []
          },
          "execution_count": 9
        }
      ]
    },
    {
      "cell_type": "code",
      "metadata": {
        "id": "9SZEDMkGdczw",
        "outputId": "4660af1c-7a57-41e4-a7ad-0b7c91097197",
        "colab": {
          "base_uri": "https://localhost:8080/"
        }
      },
      "source": [
        "test = kmeans.predict(Data)           ### ทดสอบการจัดกลุ่มของข้อมูลด้วยการทำ K-mean        ### ดูว่าจุดไหนอยู่กลุ่มไหน\n",
        "test"
      ],
      "execution_count": 10,
      "outputs": [
        {
          "output_type": "execute_result",
          "data": {
            "text/plain": [
              "array([5, 6, 7, ..., 3, 4, 4], dtype=int32)"
            ]
          },
          "metadata": {
            "tags": []
          },
          "execution_count": 10
        }
      ]
    },
    {
      "cell_type": "markdown",
      "metadata": {
        "id": "qsrBoB-hht88"
      },
      "source": [
        "## ทำ PCA \n",
        "\n",
        "เพื่อลดจำนวน Dimension ของข้อมูลให้เหลือ 2 Dimension เพื่อพล็อตกราฟ"
      ]
    },
    {
      "cell_type": "code",
      "metadata": {
        "id": "IZl3rr5Of3uF"
      },
      "source": [
        "from sklearn.decomposition import PCA             ### import PCA จาก sklearn\n",
        "\n",
        "pca = PCA(n_components=2)                         ### กำหนดให้มี 2 dimension\n",
        "\n",
        "new_pca = pca.fit_transform(Data)                 ### คำนวณ PCA"
      ],
      "execution_count": 11,
      "outputs": []
    },
    {
      "cell_type": "markdown",
      "metadata": {
        "id": "pF6Xa7UpkIZZ"
      },
      "source": [
        "## Plot กราฟ"
      ]
    },
    {
      "cell_type": "code",
      "metadata": {
        "id": "E55vEgO3jmyU"
      },
      "source": [
        "from matplotlib import pyplot as plt              ### import pypplot จาก matplotlib    "
      ],
      "execution_count": 12,
      "outputs": []
    },
    {
      "cell_type": "code",
      "metadata": {
        "id": "Y8dX2KT6kCkB",
        "outputId": "768c8b1a-fb46-4846-d368-a4c4592c5700",
        "colab": {
          "base_uri": "https://localhost:8080/",
          "height": 282
        }
      },
      "source": [
        "plt.scatter(new_pca[:,0],new_pca[:,1],c=test)        ### พล็อตกราฟของ new_pca โดยกำหนดสีตาม test(test คือ กลุ่มของข้อมูลจากการทำ K-mean) "
      ],
      "execution_count": 14,
      "outputs": [
        {
          "output_type": "execute_result",
          "data": {
            "text/plain": [
              "<matplotlib.collections.PathCollection at 0x7f9aeb52ba90>"
            ]
          },
          "metadata": {
            "tags": []
          },
          "execution_count": 14
        },
        {
          "output_type": "display_data",
          "data": {
            "image/png": "[encoded data removed]",
            "text/plain": [
              "<Figure size 432x288 with 1 Axes>"
            ]
          },
          "metadata": {
            "tags": [],
            "needs_background": "light"
          }
        }
      ]
    },
    {
      "cell_type": "markdown",
      "metadata": {
        "id": "gGJJCodcq8ni"
      },
      "source": [
        "## หาว่าควรมีกี่กลุ่ม หรือ ค่า K ควรจะเป็นเท่าไหร่"
      ]
    },
    {
      "cell_type": "markdown",
      "metadata": {
        "id": "leZYBt7ct39X"
      },
      "source": [
        "### **Elbow Method**"
      ]
    },
    {
      "cell_type": "markdown",
      "metadata": {
        "id": "nBoMZzVOuXvP"
      },
      "source": [
        "SSE"
      ]
    },
    {
      "cell_type": "code",
      "metadata": {
        "id": "fpi8zLUilP2E",
        "outputId": "3f97e74b-6399-475e-90eb-223e1fb3ea02",
        "colab": {
          "base_uri": "https://localhost:8080/"
        }
      },
      "source": [
        "kmeans.inertia_                      ## SSE (Sum of Squared Errors)"
      ],
      "execution_count": 15,
      "outputs": [
        {
          "output_type": "execute_result",
          "data": {
            "text/plain": [
              "2063455.4084842256"
            ]
          },
          "metadata": {
            "tags": []
          },
          "execution_count": 15
        }
      ]
    },
    {
      "cell_type": "code",
      "metadata": {
        "id": "LykjSrVGuVmG"
      },
      "source": [
        "SSE = list()\n",
        "for k in [1,2,3,4,5,6,7,8]:\n",
        "  kmeans = KMeans(n_clusters=k, random_state=1313)\n",
        "  kmeans.fit(Data)\n",
        "  SSE.append(kmeans.inertia_)"
      ],
      "execution_count": 17,
      "outputs": []
    },
    {
      "cell_type": "code",
      "metadata": {
        "id": "NFcTpDptuwXB",
        "outputId": "339edd1f-b26a-41a5-cf5b-e4a0347c04b2",
        "colab": {
          "base_uri": "https://localhost:8080/"
        }
      },
      "source": [
        "SSE"
      ],
      "execution_count": 18,
      "outputs": [
        {
          "output_type": "execute_result",
          "data": {
            "text/plain": [
              "[11957322.79958456,\n",
              " 8702497.21684175,\n",
              " 7022215.316135556,\n",
              " 5664542.793044245,\n",
              " 4323475.685648333,\n",
              " 3514402.820131163,\n",
              " 2684949.6732077827,\n",
              " 2063455.4084842256]"
            ]
          },
          "metadata": {
            "tags": []
          },
          "execution_count": 18
        }
      ]
    },
    {
      "cell_type": "code",
      "metadata": {
        "id": "AH7L8rfku3tI",
        "outputId": "f574013b-a7de-4c78-af32-e988c0aee34d",
        "colab": {
          "base_uri": "https://localhost:8080/",
          "height": 293
        }
      },
      "source": [
        "plt.plot([1,2,3,4,5,6,7,8],SSE,'o-b')"
      ],
      "execution_count": 19,
      "outputs": [
        {
          "output_type": "execute_result",
          "data": {
            "text/plain": [
              "[<matplotlib.lines.Line2D at 0x7f9aeafb96d0>]"
            ]
          },
          "metadata": {
            "tags": []
          },
          "execution_count": 19
        },
        {
          "output_type": "display_data",
          "data": {
            "image/png": "[encoded data removed]",
            "text/plain": [
              "<Figure size 432x288 with 1 Axes>"
            ]
          },
          "metadata": {
            "tags": [],
            "needs_background": "light"
          }
        }
      ]
    },
    {
      "cell_type": "markdown",
      "metadata": {
        "id": "rC_9-vbRvH3q"
      },
      "source": [
        "### **Silhouette coefficient**"
      ]
    },
    {
      "cell_type": "code",
      "metadata": {
        "id": "DBw6Qkmcu8mr"
      },
      "source": [
        "from sklearn import metrics"
      ],
      "execution_count": 20,
      "outputs": []
    },
    {
      "cell_type": "code",
      "metadata": {
        "id": "H0QgxWRGvVDS"
      },
      "source": [
        "SilH = list()\n",
        "for k in [2,3,4,5,6,7,8]:\n",
        "    kmeans = KMeans(n_clusters=k, random_state=1313)\n",
        "    kmeans.fit(Data)\n",
        "    score = metrics.silhouette_score(Data,kmeans.labels_)\n",
        "    SilH.append(score)"
      ],
      "execution_count": 21,
      "outputs": []
    },
    {
      "cell_type": "code",
      "metadata": {
        "id": "YU--91aAvj-B",
        "outputId": "53a6564e-2430-40dd-f68c-14064969d740",
        "colab": {
          "base_uri": "https://localhost:8080/",
          "height": 279
        }
      },
      "source": [
        "plt.plot([2,3,4,5,6,7,8],SilH,'o-g')\n",
        "plt.xlabel('k')\n",
        "plt.ylabel('Silhouette Score');"
      ],
      "execution_count": 22,
      "outputs": [
        {
          "output_type": "display_data",
          "data": {
            "image/png": "[encoded data removed]",
            "text/plain": [
              "<Figure size 432x288 with 1 Axes>"
            ]
          },
          "metadata": {
            "tags": [],
            "needs_background": "light"
          }
        }
      ]
    },
    {
      "cell_type": "code",
      "metadata": {
        "id": "ZQSrElocvrlB"
      },
      "source": [
        ""
      ],
      "execution_count": null,
      "outputs": []
    }
  ]
}