{
  "nbformat": 4,
  "nbformat_minor": 0,
  "metadata": {
    "colab": {
      "name": "Multivariate Exam.ipynb",
      "provenance": [],
      "include_colab_link": true
    },
    "kernelspec": {
      "name": "python3",
      "display_name": "Python 3"
    },
    "language_info": {
      "name": "python"
    }
  },
  "cells": [
    {
      "cell_type": "markdown",
      "metadata": {
        "id": "view-in-github",
        "colab_type": "text"
      },
      "source": [
        "<a href=\"https://colab.research.google.com/github/jittakorn-ch/multivariate/blob/main/Multivariate_Exam.ipynb\" target=\"_parent\"><img src=\"https://colab.research.google.com/assets/colab-badge.svg\" alt=\"Open In Colab\"/></a>"
      ]
    },
    {
      "cell_type": "markdown",
      "metadata": {
        "id": "JZxiNADfaDtv"
      },
      "source": [
        "ให้นักศึกษาทำข้อสอบใน Colab Notebook นี้โดยกรอกข้อมูลของตัวเองใน cell ที่ 2 แล้วรัน cell ที่ 1 - 5 และเริ่มทำข้อสอบใน cell ที่ 6 เป็นต้นไป\n",
        "\n",
        "โดยโจทย์คือ\n",
        "1. ข้อมูลโจทย์ อยู่ใน ตัวแปร ```Data```\n",
        "2. ทำ clustering แล้วทำ visualize ข้อมูลแบบ 2 มิติ\n",
        "3. ลด Dimension ของข้อมูลเหลือ 2 มิติ แล้วทำ clustering แล้ว visualize ข้อมูลแบบ 2 มิติ\n",
        "4. เปรียบเทียบความแตกต่างของผลข้อ 2. กับ ข้อ 3.\n",
        "5. เขียน comments อธิบายทุกขั้นตอน\n",
        "6. อัด video อธิบาย code ทุกๆขั้นตอนรวมถึงผลแล้วอัพลง youtube ในรูปแบบ unlist \n",
        "7. commit โดยใช้ชื่อ commit เป็น link youtube ที่อธิบาย code ในข้อ 6.\n",
        "\n",
        "กำหนดส่งวันที่ 2 พฤษภาคม 2564 (โดยให้มากรอกวันที่ commit ครั้งสุดท้ายใน sheet: https://docs.google.com/spreadsheets/d/1_qJwLDJVtOW1HxBcf_FHVc6UT4J_SOonuR6o3EEnVzw/edit?usp=sharing ช่อง Final)"
      ]
    },
    {
      "cell_type": "code",
      "metadata": {
        "id": "cWl2x1bPGtQl"
      },
      "source": [
        "from sklearn.datasets import make_blobs\n",
        "import random,math\n",
        "import numpy as np\n",
        "import pandas"
      ],
      "execution_count": null,
      "outputs": []
    },
    {
      "cell_type": "code",
      "metadata": {
        "id": "gZfzuiHsZksh"
      },
      "source": [
        "Name = 'จิตรกร จันทะสี'\n",
        "ID = '623021044-1'"
      ],
      "execution_count": null,
      "outputs": []
    },
    {
      "cell_type": "code",
      "metadata": {
        "id": "8hFQXkF5aAiA"
      },
      "source": [
        "def DataGenerator(name,id):\n",
        "    random.seed(int(id[3:6]))\n",
        "    numfeat = random.randint(20,30)\n",
        "    ct = random.randint(len(name)-6,len(name))\n",
        "    \n",
        "    X, y = make_blobs(n_samples=10000, centers=ct, n_features=numfeat , random_state=int(id[3:6]))\n",
        "\n",
        "    print(f'{id[3:6]}:{numfeat}:{ct}')\n",
        "    X_t = (X[:,1]*2)+int(id[3])\n",
        "    X_t2 = (X[:,-1]*5)+int(id[4])\n",
        "\n",
        "    DT = np.append(X,X_t.reshape([10000,1]),axis=1)\n",
        "    DT = np.append(DT,X_t2.reshape([10000,1]),axis=1)\n",
        "    \n",
        "    return pandas.DataFrame(DT)"
      ],
      "execution_count": null,
      "outputs": []
    },
    {
      "cell_type": "code",
      "metadata": {
        "colab": {
          "base_uri": "https://localhost:8080/"
        },
        "id": "hbXlxumSBX9i",
        "outputId": "a0690bd9-a492-42ce-bc44-a5ea3f7cf821"
      },
      "source": [
        "Data = DataGenerator(Name,ID)"
      ],
      "execution_count": null,
      "outputs": [
        {
          "output_type": "stream",
          "text": [
            "021:22:11\n"
          ],
          "name": "stdout"
        }
      ]
    },
    {
      "cell_type": "code",
      "metadata": {
        "colab": {
          "base_uri": "https://localhost:8080/",
          "height": 439
        },
        "id": "pQcCySXvBdN-",
        "outputId": "e163ba90-23d1-47e9-da35-50ecb31288d3"
      },
      "source": [
        "Data"
      ],
      "execution_count": null,
      "outputs": [
        {
          "output_type": "execute_result",
          "data": {
            "text/html": [
              "<div>\n",
              "<style scoped>\n",
              "    .dataframe tbody tr th:only-of-type {\n",
              "        vertical-align: middle;\n",
              "    }\n",
              "\n",
              "    .dataframe tbody tr th {\n",
              "        vertical-align: top;\n",
              "    }\n",
              "\n",
              "    .dataframe thead th {\n",
              "        text-align: right;\n",
              "    }\n",
              "</style>\n",
              "<table border=\"1\" class=\"dataframe\">\n",
              "  <thead>\n",
              "    <tr style=\"text-align: right;\">\n",
              "      <th></th>\n",
              "      <th>0</th>\n",
              "      <th>1</th>\n",
              "      <th>2</th>\n",
              "      <th>3</th>\n",
              "      <th>4</th>\n",
              "      <th>5</th>\n",
              "      <th>6</th>\n",
              "      <th>7</th>\n",
              "      <th>8</th>\n",
              "      <th>9</th>\n",
              "      <th>10</th>\n",
              "      <th>11</th>\n",
              "      <th>12</th>\n",
              "      <th>13</th>\n",
              "      <th>14</th>\n",
              "      <th>15</th>\n",
              "      <th>16</th>\n",
              "      <th>17</th>\n",
              "      <th>18</th>\n",
              "      <th>19</th>\n",
              "      <th>20</th>\n",
              "      <th>21</th>\n",
              "      <th>22</th>\n",
              "      <th>23</th>\n",
              "    </tr>\n",
              "  </thead>\n",
              "  <tbody>\n",
              "    <tr>\n",
              "      <th>0</th>\n",
              "      <td>-0.889351</td>\n",
              "      <td>-3.687852</td>\n",
              "      <td>5.854784</td>\n",
              "      <td>-3.415873</td>\n",
              "      <td>-5.610665</td>\n",
              "      <td>-2.582173</td>\n",
              "      <td>3.694650</td>\n",
              "      <td>-5.062654</td>\n",
              "      <td>-4.586200</td>\n",
              "      <td>6.457132</td>\n",
              "      <td>2.304650</td>\n",
              "      <td>4.329046</td>\n",
              "      <td>7.206710</td>\n",
              "      <td>-5.144610</td>\n",
              "      <td>-1.245484</td>\n",
              "      <td>-7.250447</td>\n",
              "      <td>9.249019</td>\n",
              "      <td>4.797001</td>\n",
              "      <td>5.020432</td>\n",
              "      <td>-3.889117</td>\n",
              "      <td>8.994408</td>\n",
              "      <td>-11.231579</td>\n",
              "      <td>-7.375703</td>\n",
              "      <td>-54.157893</td>\n",
              "    </tr>\n",
              "    <tr>\n",
              "      <th>1</th>\n",
              "      <td>6.888596</td>\n",
              "      <td>-6.324905</td>\n",
              "      <td>-5.740092</td>\n",
              "      <td>5.299575</td>\n",
              "      <td>-2.842515</td>\n",
              "      <td>2.372734</td>\n",
              "      <td>7.933971</td>\n",
              "      <td>-9.659946</td>\n",
              "      <td>6.361068</td>\n",
              "      <td>-10.214856</td>\n",
              "      <td>0.338380</td>\n",
              "      <td>-1.412124</td>\n",
              "      <td>3.624184</td>\n",
              "      <td>4.602672</td>\n",
              "      <td>-8.628475</td>\n",
              "      <td>-7.482172</td>\n",
              "      <td>-0.471848</td>\n",
              "      <td>5.111467</td>\n",
              "      <td>-7.731085</td>\n",
              "      <td>2.441740</td>\n",
              "      <td>-7.366802</td>\n",
              "      <td>-1.858061</td>\n",
              "      <td>-12.649810</td>\n",
              "      <td>-7.290306</td>\n",
              "    </tr>\n",
              "    <tr>\n",
              "      <th>2</th>\n",
              "      <td>8.017362</td>\n",
              "      <td>8.473604</td>\n",
              "      <td>3.038962</td>\n",
              "      <td>-6.893468</td>\n",
              "      <td>-7.191756</td>\n",
              "      <td>-2.181812</td>\n",
              "      <td>-8.602517</td>\n",
              "      <td>1.635662</td>\n",
              "      <td>-4.501795</td>\n",
              "      <td>-8.114539</td>\n",
              "      <td>-6.316734</td>\n",
              "      <td>-4.982942</td>\n",
              "      <td>1.302537</td>\n",
              "      <td>-2.022844</td>\n",
              "      <td>0.086704</td>\n",
              "      <td>-2.306383</td>\n",
              "      <td>-8.802485</td>\n",
              "      <td>-6.781084</td>\n",
              "      <td>-3.476832</td>\n",
              "      <td>-4.668904</td>\n",
              "      <td>-9.690799</td>\n",
              "      <td>5.240675</td>\n",
              "      <td>16.947207</td>\n",
              "      <td>28.203376</td>\n",
              "    </tr>\n",
              "    <tr>\n",
              "      <th>3</th>\n",
              "      <td>-5.259314</td>\n",
              "      <td>7.534503</td>\n",
              "      <td>7.437431</td>\n",
              "      <td>4.414411</td>\n",
              "      <td>-0.059253</td>\n",
              "      <td>-7.445860</td>\n",
              "      <td>-4.424710</td>\n",
              "      <td>-3.564299</td>\n",
              "      <td>-3.465228</td>\n",
              "      <td>-0.862653</td>\n",
              "      <td>2.011504</td>\n",
              "      <td>-4.724475</td>\n",
              "      <td>6.885026</td>\n",
              "      <td>4.804179</td>\n",
              "      <td>7.909228</td>\n",
              "      <td>-4.198045</td>\n",
              "      <td>4.079989</td>\n",
              "      <td>2.923757</td>\n",
              "      <td>-2.001206</td>\n",
              "      <td>-2.269056</td>\n",
              "      <td>6.894771</td>\n",
              "      <td>1.137825</td>\n",
              "      <td>15.069006</td>\n",
              "      <td>7.689124</td>\n",
              "    </tr>\n",
              "    <tr>\n",
              "      <th>4</th>\n",
              "      <td>11.803001</td>\n",
              "      <td>-5.373877</td>\n",
              "      <td>-6.309848</td>\n",
              "      <td>5.999780</td>\n",
              "      <td>-2.165905</td>\n",
              "      <td>3.767224</td>\n",
              "      <td>8.701775</td>\n",
              "      <td>-8.471486</td>\n",
              "      <td>5.789175</td>\n",
              "      <td>-9.041266</td>\n",
              "      <td>0.967662</td>\n",
              "      <td>-0.752092</td>\n",
              "      <td>4.443130</td>\n",
              "      <td>3.572116</td>\n",
              "      <td>-9.602990</td>\n",
              "      <td>-7.327553</td>\n",
              "      <td>2.603626</td>\n",
              "      <td>3.287083</td>\n",
              "      <td>-6.879058</td>\n",
              "      <td>1.562324</td>\n",
              "      <td>-6.132335</td>\n",
              "      <td>-0.672218</td>\n",
              "      <td>-10.747753</td>\n",
              "      <td>-1.361092</td>\n",
              "    </tr>\n",
              "    <tr>\n",
              "      <th>...</th>\n",
              "      <td>...</td>\n",
              "      <td>...</td>\n",
              "      <td>...</td>\n",
              "      <td>...</td>\n",
              "      <td>...</td>\n",
              "      <td>...</td>\n",
              "      <td>...</td>\n",
              "      <td>...</td>\n",
              "      <td>...</td>\n",
              "      <td>...</td>\n",
              "      <td>...</td>\n",
              "      <td>...</td>\n",
              "      <td>...</td>\n",
              "      <td>...</td>\n",
              "      <td>...</td>\n",
              "      <td>...</td>\n",
              "      <td>...</td>\n",
              "      <td>...</td>\n",
              "      <td>...</td>\n",
              "      <td>...</td>\n",
              "      <td>...</td>\n",
              "      <td>...</td>\n",
              "      <td>...</td>\n",
              "      <td>...</td>\n",
              "    </tr>\n",
              "    <tr>\n",
              "      <th>9995</th>\n",
              "      <td>9.386310</td>\n",
              "      <td>0.143661</td>\n",
              "      <td>7.034918</td>\n",
              "      <td>8.043940</td>\n",
              "      <td>6.736725</td>\n",
              "      <td>6.999241</td>\n",
              "      <td>4.103643</td>\n",
              "      <td>-2.564332</td>\n",
              "      <td>-3.517837</td>\n",
              "      <td>6.354337</td>\n",
              "      <td>-7.514451</td>\n",
              "      <td>-2.221127</td>\n",
              "      <td>-5.829928</td>\n",
              "      <td>2.024862</td>\n",
              "      <td>6.591702</td>\n",
              "      <td>-3.938688</td>\n",
              "      <td>6.786948</td>\n",
              "      <td>5.749472</td>\n",
              "      <td>2.184205</td>\n",
              "      <td>-5.268825</td>\n",
              "      <td>6.337545</td>\n",
              "      <td>-0.350062</td>\n",
              "      <td>0.287322</td>\n",
              "      <td>0.249688</td>\n",
              "    </tr>\n",
              "    <tr>\n",
              "      <th>9996</th>\n",
              "      <td>-5.933911</td>\n",
              "      <td>7.865360</td>\n",
              "      <td>7.554697</td>\n",
              "      <td>5.966666</td>\n",
              "      <td>-0.086257</td>\n",
              "      <td>-5.588988</td>\n",
              "      <td>-3.534003</td>\n",
              "      <td>-2.527750</td>\n",
              "      <td>-4.761734</td>\n",
              "      <td>-0.426129</td>\n",
              "      <td>1.003535</td>\n",
              "      <td>-6.136890</td>\n",
              "      <td>5.449768</td>\n",
              "      <td>3.955082</td>\n",
              "      <td>6.685563</td>\n",
              "      <td>-6.451825</td>\n",
              "      <td>3.396171</td>\n",
              "      <td>3.630983</td>\n",
              "      <td>-1.397212</td>\n",
              "      <td>-3.044932</td>\n",
              "      <td>5.194200</td>\n",
              "      <td>1.544812</td>\n",
              "      <td>15.730721</td>\n",
              "      <td>9.724062</td>\n",
              "    </tr>\n",
              "    <tr>\n",
              "      <th>9997</th>\n",
              "      <td>-9.191507</td>\n",
              "      <td>-5.048968</td>\n",
              "      <td>4.294216</td>\n",
              "      <td>-9.342154</td>\n",
              "      <td>-7.362920</td>\n",
              "      <td>-9.229852</td>\n",
              "      <td>-4.192468</td>\n",
              "      <td>3.754275</td>\n",
              "      <td>-2.734278</td>\n",
              "      <td>4.230375</td>\n",
              "      <td>-9.031066</td>\n",
              "      <td>7.426534</td>\n",
              "      <td>-6.797743</td>\n",
              "      <td>-5.650139</td>\n",
              "      <td>2.036746</td>\n",
              "      <td>8.826735</td>\n",
              "      <td>5.432167</td>\n",
              "      <td>9.468526</td>\n",
              "      <td>6.800718</td>\n",
              "      <td>-1.900056</td>\n",
              "      <td>-3.067357</td>\n",
              "      <td>3.287883</td>\n",
              "      <td>-10.097935</td>\n",
              "      <td>18.439417</td>\n",
              "    </tr>\n",
              "    <tr>\n",
              "      <th>9998</th>\n",
              "      <td>-2.169208</td>\n",
              "      <td>11.419935</td>\n",
              "      <td>-5.335483</td>\n",
              "      <td>3.089792</td>\n",
              "      <td>8.711882</td>\n",
              "      <td>6.311260</td>\n",
              "      <td>-4.494053</td>\n",
              "      <td>11.339766</td>\n",
              "      <td>-1.473491</td>\n",
              "      <td>10.446842</td>\n",
              "      <td>-9.495673</td>\n",
              "      <td>9.596118</td>\n",
              "      <td>5.562927</td>\n",
              "      <td>-7.996054</td>\n",
              "      <td>4.785754</td>\n",
              "      <td>-5.670202</td>\n",
              "      <td>1.141286</td>\n",
              "      <td>0.046121</td>\n",
              "      <td>-7.345678</td>\n",
              "      <td>5.898585</td>\n",
              "      <td>8.302183</td>\n",
              "      <td>2.210728</td>\n",
              "      <td>22.839871</td>\n",
              "      <td>13.053641</td>\n",
              "    </tr>\n",
              "    <tr>\n",
              "      <th>9999</th>\n",
              "      <td>-1.127325</td>\n",
              "      <td>7.843972</td>\n",
              "      <td>-4.099255</td>\n",
              "      <td>4.558747</td>\n",
              "      <td>7.852268</td>\n",
              "      <td>5.034660</td>\n",
              "      <td>-4.552104</td>\n",
              "      <td>8.939836</td>\n",
              "      <td>-1.925336</td>\n",
              "      <td>6.983523</td>\n",
              "      <td>-8.159121</td>\n",
              "      <td>7.927639</td>\n",
              "      <td>7.834505</td>\n",
              "      <td>-9.620846</td>\n",
              "      <td>3.095374</td>\n",
              "      <td>-6.055264</td>\n",
              "      <td>0.180302</td>\n",
              "      <td>-1.477641</td>\n",
              "      <td>-9.056913</td>\n",
              "      <td>5.848816</td>\n",
              "      <td>7.980008</td>\n",
              "      <td>0.949692</td>\n",
              "      <td>15.687945</td>\n",
              "      <td>6.748462</td>\n",
              "    </tr>\n",
              "  </tbody>\n",
              "</table>\n",
              "<p>10000 rows × 24 columns</p>\n",
              "</div>"
            ],
            "text/plain": [
              "             0          1         2   ...         21         22         23\n",
              "0     -0.889351  -3.687852  5.854784  ... -11.231579  -7.375703 -54.157893\n",
              "1      6.888596  -6.324905 -5.740092  ...  -1.858061 -12.649810  -7.290306\n",
              "2      8.017362   8.473604  3.038962  ...   5.240675  16.947207  28.203376\n",
              "3     -5.259314   7.534503  7.437431  ...   1.137825  15.069006   7.689124\n",
              "4     11.803001  -5.373877 -6.309848  ...  -0.672218 -10.747753  -1.361092\n",
              "...         ...        ...       ...  ...        ...        ...        ...\n",
              "9995   9.386310   0.143661  7.034918  ...  -0.350062   0.287322   0.249688\n",
              "9996  -5.933911   7.865360  7.554697  ...   1.544812  15.730721   9.724062\n",
              "9997  -9.191507  -5.048968  4.294216  ...   3.287883 -10.097935  18.439417\n",
              "9998  -2.169208  11.419935 -5.335483  ...   2.210728  22.839871  13.053641\n",
              "9999  -1.127325   7.843972 -4.099255  ...   0.949692  15.687945   6.748462\n",
              "\n",
              "[10000 rows x 24 columns]"
            ]
          },
          "metadata": {
            "tags": []
          },
          "execution_count": 15
        }
      ]
    },
    {
      "cell_type": "markdown",
      "metadata": {
        "id": "hd1p7sibEj-o"
      },
      "source": [
        "# **เตรียมข้อมูล**"
      ]
    },
    {
      "cell_type": "code",
      "metadata": {
        "id": "v-FazN52E55R",
        "colab": {
          "base_uri": "https://localhost:8080/"
        },
        "outputId": "6ca22c81-5232-41f7-e2da-6a529dd284d9"
      },
      "source": [
        "Data.shape         ### มี 10000 แถว 24 คอลัมน์"
      ],
      "execution_count": null,
      "outputs": [
        {
          "output_type": "execute_result",
          "data": {
            "text/plain": [
              "(10000, 24)"
            ]
          },
          "metadata": {
            "tags": []
          },
          "execution_count": 6
        }
      ]
    },
    {
      "cell_type": "markdown",
      "metadata": {
        "id": "AnAdxkI4IASm"
      },
      "source": [
        "### หาคอลัมน์ที่มีค่าซ้ำกัน"
      ]
    },
    {
      "cell_type": "code",
      "metadata": {
        "id": "BZbNKei0E_z6",
        "colab": {
          "base_uri": "https://localhost:8080/"
        },
        "outputId": "232fd8d8-8661-4d4a-bc85-afd590fa6fe8"
      },
      "source": [
        "corr = np.corrcoef(Data.to_numpy().T)\n",
        "corr.shape"
      ],
      "execution_count": null,
      "outputs": [
        {
          "output_type": "execute_result",
          "data": {
            "text/plain": [
              "(24, 24)"
            ]
          },
          "metadata": {
            "tags": []
          },
          "execution_count": 7
        }
      ]
    },
    {
      "cell_type": "code",
      "metadata": {
        "id": "yb7qtRP1FZkf",
        "colab": {
          "base_uri": "https://localhost:8080/"
        },
        "outputId": "5c75d4c0-5916-41aa-d4f7-3ab60524c8ea"
      },
      "source": [
        "for i in range(corr.shape[0]):                                 ### ทำการวนลูปหาค่า correlation = 1\n",
        "    for j in range(corr.shape[1]):\n",
        "        if (i !=j) and (corr[i,j] == 1.):\n",
        "            print(f'row = {i} column = {j} corrcoef = {corr[i,j]}')"
      ],
      "execution_count": null,
      "outputs": [
        {
          "output_type": "stream",
          "text": [
            "row = 1 column = 22 corrcoef = 1.0\n",
            "row = 21 column = 23 corrcoef = 1.0\n",
            "row = 22 column = 1 corrcoef = 1.0\n",
            "row = 23 column = 21 corrcoef = 1.0\n"
          ],
          "name": "stdout"
        }
      ]
    },
    {
      "cell_type": "markdown",
      "metadata": {
        "id": "VvJPJt6PGwMN"
      },
      "source": [
        "มีคอลัมน์ที่มีค่า correlation = 1 อยู่ 2 คู่ คือ คอลัมน์ 1 กับ 22 และ 21 กับ 23\n",
        "\n",
        "แสดงว่า มีค่าซ้ำกัน"
      ]
    },
    {
      "cell_type": "markdown",
      "metadata": {
        "id": "jTSQsXCDIOeG"
      },
      "source": [
        "### ลบคอลัมน์ที่มีค่าซ้ำออก"
      ]
    },
    {
      "cell_type": "code",
      "metadata": {
        "id": "l7Y64-UNIXcJ",
        "colab": {
          "base_uri": "https://localhost:8080/",
          "height": 419
        },
        "outputId": "f4814e87-78b8-4378-efa5-9393a7ec8fb6"
      },
      "source": [
        "Data_dropped = Data.iloc[:,0:-2]            ### ลบคอลัมน์ 22 กับ 23 ออก\n",
        "Data_dropped"
      ],
      "execution_count": null,
      "outputs": [
        {
          "output_type": "execute_result",
          "data": {
            "text/html": [
              "<div>\n",
              "<style scoped>\n",
              "    .dataframe tbody tr th:only-of-type {\n",
              "        vertical-align: middle;\n",
              "    }\n",
              "\n",
              "    .dataframe tbody tr th {\n",
              "        vertical-align: top;\n",
              "    }\n",
              "\n",
              "    .dataframe thead th {\n",
              "        text-align: right;\n",
              "    }\n",
              "</style>\n",
              "<table border=\"1\" class=\"dataframe\">\n",
              "  <thead>\n",
              "    <tr style=\"text-align: right;\">\n",
              "      <th></th>\n",
              "      <th>0</th>\n",
              "      <th>1</th>\n",
              "      <th>2</th>\n",
              "      <th>3</th>\n",
              "      <th>4</th>\n",
              "      <th>5</th>\n",
              "      <th>6</th>\n",
              "      <th>7</th>\n",
              "      <th>8</th>\n",
              "      <th>9</th>\n",
              "      <th>10</th>\n",
              "      <th>11</th>\n",
              "      <th>12</th>\n",
              "      <th>13</th>\n",
              "      <th>14</th>\n",
              "      <th>15</th>\n",
              "      <th>16</th>\n",
              "      <th>17</th>\n",
              "      <th>18</th>\n",
              "      <th>19</th>\n",
              "      <th>20</th>\n",
              "      <th>21</th>\n",
              "    </tr>\n",
              "  </thead>\n",
              "  <tbody>\n",
              "    <tr>\n",
              "      <th>0</th>\n",
              "      <td>-0.889351</td>\n",
              "      <td>-3.687852</td>\n",
              "      <td>5.854784</td>\n",
              "      <td>-3.415873</td>\n",
              "      <td>-5.610665</td>\n",
              "      <td>-2.582173</td>\n",
              "      <td>3.694650</td>\n",
              "      <td>-5.062654</td>\n",
              "      <td>-4.586200</td>\n",
              "      <td>6.457132</td>\n",
              "      <td>2.304650</td>\n",
              "      <td>4.329046</td>\n",
              "      <td>7.206710</td>\n",
              "      <td>-5.144610</td>\n",
              "      <td>-1.245484</td>\n",
              "      <td>-7.250447</td>\n",
              "      <td>9.249019</td>\n",
              "      <td>4.797001</td>\n",
              "      <td>5.020432</td>\n",
              "      <td>-3.889117</td>\n",
              "      <td>8.994408</td>\n",
              "      <td>-11.231579</td>\n",
              "    </tr>\n",
              "    <tr>\n",
              "      <th>1</th>\n",
              "      <td>6.888596</td>\n",
              "      <td>-6.324905</td>\n",
              "      <td>-5.740092</td>\n",
              "      <td>5.299575</td>\n",
              "      <td>-2.842515</td>\n",
              "      <td>2.372734</td>\n",
              "      <td>7.933971</td>\n",
              "      <td>-9.659946</td>\n",
              "      <td>6.361068</td>\n",
              "      <td>-10.214856</td>\n",
              "      <td>0.338380</td>\n",
              "      <td>-1.412124</td>\n",
              "      <td>3.624184</td>\n",
              "      <td>4.602672</td>\n",
              "      <td>-8.628475</td>\n",
              "      <td>-7.482172</td>\n",
              "      <td>-0.471848</td>\n",
              "      <td>5.111467</td>\n",
              "      <td>-7.731085</td>\n",
              "      <td>2.441740</td>\n",
              "      <td>-7.366802</td>\n",
              "      <td>-1.858061</td>\n",
              "    </tr>\n",
              "    <tr>\n",
              "      <th>2</th>\n",
              "      <td>8.017362</td>\n",
              "      <td>8.473604</td>\n",
              "      <td>3.038962</td>\n",
              "      <td>-6.893468</td>\n",
              "      <td>-7.191756</td>\n",
              "      <td>-2.181812</td>\n",
              "      <td>-8.602517</td>\n",
              "      <td>1.635662</td>\n",
              "      <td>-4.501795</td>\n",
              "      <td>-8.114539</td>\n",
              "      <td>-6.316734</td>\n",
              "      <td>-4.982942</td>\n",
              "      <td>1.302537</td>\n",
              "      <td>-2.022844</td>\n",
              "      <td>0.086704</td>\n",
              "      <td>-2.306383</td>\n",
              "      <td>-8.802485</td>\n",
              "      <td>-6.781084</td>\n",
              "      <td>-3.476832</td>\n",
              "      <td>-4.668904</td>\n",
              "      <td>-9.690799</td>\n",
              "      <td>5.240675</td>\n",
              "    </tr>\n",
              "    <tr>\n",
              "      <th>3</th>\n",
              "      <td>-5.259314</td>\n",
              "      <td>7.534503</td>\n",
              "      <td>7.437431</td>\n",
              "      <td>4.414411</td>\n",
              "      <td>-0.059253</td>\n",
              "      <td>-7.445860</td>\n",
              "      <td>-4.424710</td>\n",
              "      <td>-3.564299</td>\n",
              "      <td>-3.465228</td>\n",
              "      <td>-0.862653</td>\n",
              "      <td>2.011504</td>\n",
              "      <td>-4.724475</td>\n",
              "      <td>6.885026</td>\n",
              "      <td>4.804179</td>\n",
              "      <td>7.909228</td>\n",
              "      <td>-4.198045</td>\n",
              "      <td>4.079989</td>\n",
              "      <td>2.923757</td>\n",
              "      <td>-2.001206</td>\n",
              "      <td>-2.269056</td>\n",
              "      <td>6.894771</td>\n",
              "      <td>1.137825</td>\n",
              "    </tr>\n",
              "    <tr>\n",
              "      <th>4</th>\n",
              "      <td>11.803001</td>\n",
              "      <td>-5.373877</td>\n",
              "      <td>-6.309848</td>\n",
              "      <td>5.999780</td>\n",
              "      <td>-2.165905</td>\n",
              "      <td>3.767224</td>\n",
              "      <td>8.701775</td>\n",
              "      <td>-8.471486</td>\n",
              "      <td>5.789175</td>\n",
              "      <td>-9.041266</td>\n",
              "      <td>0.967662</td>\n",
              "      <td>-0.752092</td>\n",
              "      <td>4.443130</td>\n",
              "      <td>3.572116</td>\n",
              "      <td>-9.602990</td>\n",
              "      <td>-7.327553</td>\n",
              "      <td>2.603626</td>\n",
              "      <td>3.287083</td>\n",
              "      <td>-6.879058</td>\n",
              "      <td>1.562324</td>\n",
              "      <td>-6.132335</td>\n",
              "      <td>-0.672218</td>\n",
              "    </tr>\n",
              "    <tr>\n",
              "      <th>...</th>\n",
              "      <td>...</td>\n",
              "      <td>...</td>\n",
              "      <td>...</td>\n",
              "      <td>...</td>\n",
              "      <td>...</td>\n",
              "      <td>...</td>\n",
              "      <td>...</td>\n",
              "      <td>...</td>\n",
              "      <td>...</td>\n",
              "      <td>...</td>\n",
              "      <td>...</td>\n",
              "      <td>...</td>\n",
              "      <td>...</td>\n",
              "      <td>...</td>\n",
              "      <td>...</td>\n",
              "      <td>...</td>\n",
              "      <td>...</td>\n",
              "      <td>...</td>\n",
              "      <td>...</td>\n",
              "      <td>...</td>\n",
              "      <td>...</td>\n",
              "      <td>...</td>\n",
              "    </tr>\n",
              "    <tr>\n",
              "      <th>9995</th>\n",
              "      <td>9.386310</td>\n",
              "      <td>0.143661</td>\n",
              "      <td>7.034918</td>\n",
              "      <td>8.043940</td>\n",
              "      <td>6.736725</td>\n",
              "      <td>6.999241</td>\n",
              "      <td>4.103643</td>\n",
              "      <td>-2.564332</td>\n",
              "      <td>-3.517837</td>\n",
              "      <td>6.354337</td>\n",
              "      <td>-7.514451</td>\n",
              "      <td>-2.221127</td>\n",
              "      <td>-5.829928</td>\n",
              "      <td>2.024862</td>\n",
              "      <td>6.591702</td>\n",
              "      <td>-3.938688</td>\n",
              "      <td>6.786948</td>\n",
              "      <td>5.749472</td>\n",
              "      <td>2.184205</td>\n",
              "      <td>-5.268825</td>\n",
              "      <td>6.337545</td>\n",
              "      <td>-0.350062</td>\n",
              "    </tr>\n",
              "    <tr>\n",
              "      <th>9996</th>\n",
              "      <td>-5.933911</td>\n",
              "      <td>7.865360</td>\n",
              "      <td>7.554697</td>\n",
              "      <td>5.966666</td>\n",
              "      <td>-0.086257</td>\n",
              "      <td>-5.588988</td>\n",
              "      <td>-3.534003</td>\n",
              "      <td>-2.527750</td>\n",
              "      <td>-4.761734</td>\n",
              "      <td>-0.426129</td>\n",
              "      <td>1.003535</td>\n",
              "      <td>-6.136890</td>\n",
              "      <td>5.449768</td>\n",
              "      <td>3.955082</td>\n",
              "      <td>6.685563</td>\n",
              "      <td>-6.451825</td>\n",
              "      <td>3.396171</td>\n",
              "      <td>3.630983</td>\n",
              "      <td>-1.397212</td>\n",
              "      <td>-3.044932</td>\n",
              "      <td>5.194200</td>\n",
              "      <td>1.544812</td>\n",
              "    </tr>\n",
              "    <tr>\n",
              "      <th>9997</th>\n",
              "      <td>-9.191507</td>\n",
              "      <td>-5.048968</td>\n",
              "      <td>4.294216</td>\n",
              "      <td>-9.342154</td>\n",
              "      <td>-7.362920</td>\n",
              "      <td>-9.229852</td>\n",
              "      <td>-4.192468</td>\n",
              "      <td>3.754275</td>\n",
              "      <td>-2.734278</td>\n",
              "      <td>4.230375</td>\n",
              "      <td>-9.031066</td>\n",
              "      <td>7.426534</td>\n",
              "      <td>-6.797743</td>\n",
              "      <td>-5.650139</td>\n",
              "      <td>2.036746</td>\n",
              "      <td>8.826735</td>\n",
              "      <td>5.432167</td>\n",
              "      <td>9.468526</td>\n",
              "      <td>6.800718</td>\n",
              "      <td>-1.900056</td>\n",
              "      <td>-3.067357</td>\n",
              "      <td>3.287883</td>\n",
              "    </tr>\n",
              "    <tr>\n",
              "      <th>9998</th>\n",
              "      <td>-2.169208</td>\n",
              "      <td>11.419935</td>\n",
              "      <td>-5.335483</td>\n",
              "      <td>3.089792</td>\n",
              "      <td>8.711882</td>\n",
              "      <td>6.311260</td>\n",
              "      <td>-4.494053</td>\n",
              "      <td>11.339766</td>\n",
              "      <td>-1.473491</td>\n",
              "      <td>10.446842</td>\n",
              "      <td>-9.495673</td>\n",
              "      <td>9.596118</td>\n",
              "      <td>5.562927</td>\n",
              "      <td>-7.996054</td>\n",
              "      <td>4.785754</td>\n",
              "      <td>-5.670202</td>\n",
              "      <td>1.141286</td>\n",
              "      <td>0.046121</td>\n",
              "      <td>-7.345678</td>\n",
              "      <td>5.898585</td>\n",
              "      <td>8.302183</td>\n",
              "      <td>2.210728</td>\n",
              "    </tr>\n",
              "    <tr>\n",
              "      <th>9999</th>\n",
              "      <td>-1.127325</td>\n",
              "      <td>7.843972</td>\n",
              "      <td>-4.099255</td>\n",
              "      <td>4.558747</td>\n",
              "      <td>7.852268</td>\n",
              "      <td>5.034660</td>\n",
              "      <td>-4.552104</td>\n",
              "      <td>8.939836</td>\n",
              "      <td>-1.925336</td>\n",
              "      <td>6.983523</td>\n",
              "      <td>-8.159121</td>\n",
              "      <td>7.927639</td>\n",
              "      <td>7.834505</td>\n",
              "      <td>-9.620846</td>\n",
              "      <td>3.095374</td>\n",
              "      <td>-6.055264</td>\n",
              "      <td>0.180302</td>\n",
              "      <td>-1.477641</td>\n",
              "      <td>-9.056913</td>\n",
              "      <td>5.848816</td>\n",
              "      <td>7.980008</td>\n",
              "      <td>0.949692</td>\n",
              "    </tr>\n",
              "  </tbody>\n",
              "</table>\n",
              "<p>10000 rows × 22 columns</p>\n",
              "</div>"
            ],
            "text/plain": [
              "             0          1         2   ...        19        20         21\n",
              "0     -0.889351  -3.687852  5.854784  ... -3.889117  8.994408 -11.231579\n",
              "1      6.888596  -6.324905 -5.740092  ...  2.441740 -7.366802  -1.858061\n",
              "2      8.017362   8.473604  3.038962  ... -4.668904 -9.690799   5.240675\n",
              "3     -5.259314   7.534503  7.437431  ... -2.269056  6.894771   1.137825\n",
              "4     11.803001  -5.373877 -6.309848  ...  1.562324 -6.132335  -0.672218\n",
              "...         ...        ...       ...  ...       ...       ...        ...\n",
              "9995   9.386310   0.143661  7.034918  ... -5.268825  6.337545  -0.350062\n",
              "9996  -5.933911   7.865360  7.554697  ... -3.044932  5.194200   1.544812\n",
              "9997  -9.191507  -5.048968  4.294216  ... -1.900056 -3.067357   3.287883\n",
              "9998  -2.169208  11.419935 -5.335483  ...  5.898585  8.302183   2.210728\n",
              "9999  -1.127325   7.843972 -4.099255  ...  5.848816  7.980008   0.949692\n",
              "\n",
              "[10000 rows x 22 columns]"
            ]
          },
          "metadata": {
            "tags": []
          },
          "execution_count": 16
        }
      ]
    },
    {
      "cell_type": "markdown",
      "metadata": {
        "id": "Y2MhIJckpeMy"
      },
      "source": [
        "# **2. ทำ clustering แล้วทำ visualize ข้อมูลแบบ 2 มิติ**"
      ]
    },
    {
      "cell_type": "markdown",
      "metadata": {
        "id": "aZ0ERfekUjZk"
      },
      "source": [
        "## K-mean\n",
        "\n",
        "ทำ K-mean เพื่อแบ่งกลุ่มข้อมุล"
      ]
    },
    {
      "cell_type": "markdown",
      "metadata": {
        "id": "Kgmo0ZN9VYlV"
      },
      "source": [
        "### Import"
      ]
    },
    {
      "cell_type": "code",
      "metadata": {
        "id": "jUARadkFEuyJ"
      },
      "source": [
        "from sklearn.cluster import KMeans           ### import KMeans จาก Packages sklearn"
      ],
      "execution_count": null,
      "outputs": []
    },
    {
      "cell_type": "markdown",
      "metadata": {
        "id": "tquyXzQ1XbbA"
      },
      "source": [
        "### Define"
      ]
    },
    {
      "cell_type": "code",
      "metadata": {
        "id": "HJIMVsB0XUYi"
      },
      "source": [
        "kmeans = KMeans(random_state=1313)        ### กำหนดให้ KMeans เริ่มสุ่มที่จุด 1313 "
      ],
      "execution_count": null,
      "outputs": []
    },
    {
      "cell_type": "markdown",
      "metadata": {
        "id": "E4iMYJIEcZZS"
      },
      "source": [
        "### Fit-tranform"
      ]
    },
    {
      "cell_type": "code",
      "metadata": {
        "colab": {
          "base_uri": "https://localhost:8080/"
        },
        "id": "gZF1BZzmcX6v",
        "outputId": "2525171a-4852-4313-ac6e-e49fd8423c34"
      },
      "source": [
        "kmeans.fit(Data_dropped)          ### คำนวณหา จุด cluster centers ของข้อมูล Data ด้วยวิธี K-means clustering"
      ],
      "execution_count": null,
      "outputs": [
        {
          "output_type": "execute_result",
          "data": {
            "text/plain": [
              "KMeans(algorithm='auto', copy_x=True, init='k-means++', max_iter=300,\n",
              "       n_clusters=8, n_init=10, n_jobs=None, precompute_distances='auto',\n",
              "       random_state=1313, tol=0.0001, verbose=0)"
            ]
          },
          "metadata": {
            "tags": []
          },
          "execution_count": 26
        }
      ]
    },
    {
      "cell_type": "code",
      "metadata": {
        "colab": {
          "base_uri": "https://localhost:8080/"
        },
        "id": "E-DNK9MndNrq",
        "outputId": "a02172fd-0a81-4f99-ce06-f1f617f7194e"
      },
      "source": [
        "kmeans.cluster_centers_      ### แสดง จุด cluster centers ที่คำนวณออกมาได้    ### จะมี 8 กลุ่มตามค่า default ของ KMeans"
      ],
      "execution_count": null,
      "outputs": [
        {
          "output_type": "execute_result",
          "data": {
            "text/plain": [
              "array([[ 0.79987817, -4.13327576, -2.6112147 , -4.63424571, -8.14523499,\n",
              "         5.04060677,  4.64575823, -9.8987588 , -5.23545328, -4.59016345,\n",
              "         5.83404448,  0.12378214, -0.70778139, -4.76360664,  2.10403771,\n",
              "         7.55216488,  9.83123863, -9.4360858 ,  0.45854318, -9.16352277,\n",
              "         6.91082925,  2.77306995],\n",
              "       [ 0.0678383 ,  0.55236933,  7.25390119,  2.00054691, -4.12969564,\n",
              "        -5.40143779,  2.17414862, -3.78324967, -3.51903237, -0.78834556,\n",
              "         1.44830514,  1.75230001,  7.30332604, -2.04148981,  4.93609967,\n",
              "        -6.16657217,  2.96617422,  2.33933001,  0.71967454, -2.50849706,\n",
              "         5.40329971, -2.29006213],\n",
              "       [ 8.67244034, -5.09695471, -5.88644493,  6.31655648, -3.95553084,\n",
              "         3.5133926 ,  8.41324115, -8.60057394,  5.64116929, -9.32911563,\n",
              "         0.21395263, -1.28506623,  3.85688739,  5.54771592, -9.05053468,\n",
              "        -8.56511236,  2.10125735,  4.24010352, -6.97781587,  2.29127865,\n",
              "        -6.95348213, -0.72589719],\n",
              "       [-1.5034321 ,  8.91149737, -3.62436713,  5.5381974 ,  9.53660492,\n",
              "         4.02624385, -3.89676623,  9.38427185, -2.0854296 ,  9.01943037,\n",
              "        -7.39081824,  8.72376471,  5.11414794, -9.07888494,  3.24556395,\n",
              "        -5.46806148,  0.38653515,  0.27006106, -7.84262534,  6.26729205,\n",
              "         9.20395614,  1.8087313 ],\n",
              "       [ 7.9178545 ,  8.47869576,  2.32418024, -7.17773029, -7.22657294,\n",
              "        -2.70575044, -7.71586865,  0.26335974, -4.82439414, -7.76829056,\n",
              "        -6.28656189, -3.51888235,  3.30304971, -3.73801829,  0.43650592,\n",
              "        -3.32555424, -8.26674027, -8.24147189, -4.92650912, -5.70167798,\n",
              "        -8.72907926,  5.54374871],\n",
              "       [ 8.77937711,  3.33697678,  5.16330468,  3.2286871 ,  7.01977676,\n",
              "         6.22551454, -3.00544074,  1.30543503, -1.13929025,  3.03895574,\n",
              "        -4.27975902, -2.34884745, -4.85295342,  3.61541849,  6.05407544,\n",
              "        -5.05756662,  5.63730766,  5.83636917,  4.02906192, -5.32069353,\n",
              "         1.44726987, -2.58214311],\n",
              "       [-9.03857717, -4.22698997,  4.3943962 , -9.53972231, -5.90491154,\n",
              "        -8.96995863, -3.94302809,  3.30010585, -3.80390308,  1.62849487,\n",
              "        -8.6536268 ,  7.3621654 , -7.26613062, -6.43014969, -0.05466693,\n",
              "         7.31602103,  5.19282624,  9.46849281,  5.15636366, -2.2369466 ,\n",
              "        -1.79084552,  4.28468014],\n",
              "       [-1.87698639,  3.03693648, -2.08243998,  1.83889866, -1.28298219,\n",
              "        -6.95165179,  7.07499903, -2.86259489, -7.92647701, -9.2040186 ,\n",
              "        -0.90735429, -7.43574197,  4.09483737, -8.7367951 , -9.92193738,\n",
              "        -8.18746636,  6.1434334 ,  4.04255704,  7.22153418,  5.95980977,\n",
              "        -5.43660661,  0.19049413]])"
            ]
          },
          "metadata": {
            "tags": []
          },
          "execution_count": 27
        }
      ]
    },
    {
      "cell_type": "code",
      "metadata": {
        "colab": {
          "base_uri": "https://localhost:8080/"
        },
        "id": "9SZEDMkGdczw",
        "outputId": "0c29b59f-3ddf-4462-e2e6-3ca1951a1704"
      },
      "source": [
        "test = kmeans.predict(Data_dropped)           ### ทดสอบการจัดกลุ่มของข้อมูลด้วยการทำ K-mean        ### ดูว่าจุดไหนอยู่กลุ่มไหน\n",
        "test"
      ],
      "execution_count": null,
      "outputs": [
        {
          "output_type": "execute_result",
          "data": {
            "text/plain": [
              "array([1, 2, 4, ..., 6, 3, 3], dtype=int32)"
            ]
          },
          "metadata": {
            "tags": []
          },
          "execution_count": 28
        }
      ]
    },
    {
      "cell_type": "markdown",
      "metadata": {
        "id": "Nz3o26DXbdkC"
      },
      "source": [
        "## พล็อตกราฟ"
      ]
    },
    {
      "cell_type": "markdown",
      "metadata": {
        "id": "qsrBoB-hht88"
      },
      "source": [
        "### ทำ PCA \n",
        "\n",
        "เพื่อลดจำนวน Dimension ของข้อมูลให้เหลือ 2 Dimension เพื่อพล็อตกราฟ"
      ]
    },
    {
      "cell_type": "code",
      "metadata": {
        "id": "IZl3rr5Of3uF"
      },
      "source": [
        "from sklearn.decomposition import PCA             ### import PCA จาก sklearn\n",
        "\n",
        "pca = PCA(n_components=2)                         ### กำหนดให้มี 2 dimension\n",
        "\n",
        "new_pca = pca.fit_transform(Data_dropped)                 ### คำนวณ PCA"
      ],
      "execution_count": null,
      "outputs": []
    },
    {
      "cell_type": "code",
      "metadata": {
        "id": "E55vEgO3jmyU"
      },
      "source": [
        "from matplotlib import pyplot as plt              ### import pypplot จาก matplotlib    "
      ],
      "execution_count": null,
      "outputs": []
    },
    {
      "cell_type": "code",
      "metadata": {
        "colab": {
          "base_uri": "https://localhost:8080/",
          "height": 282
        },
        "id": "Y8dX2KT6kCkB",
        "outputId": "10b26ad6-eab2-4289-a94a-288ece51d3bf"
      },
      "source": [
        "plt.scatter(new_pca[:,0],new_pca[:,1],c=test,alpha=0.25)        ### พล็อตกราฟของ new_pca โดยกำหนดสีตาม test(test คือ กลุ่มของข้อมูลจากการทำ K-mean) "
      ],
      "execution_count": null,
      "outputs": [
        {
          "output_type": "execute_result",
          "data": {
            "text/plain": [
              "<matplotlib.collections.PathCollection at 0x7f563c1b2350>"
            ]
          },
          "metadata": {
            "tags": []
          },
          "execution_count": 31
        },
        {
          "output_type": "display_data",
          "data": {
            "image/png": "[encoded data removed]",
            "text/plain": [
              "<Figure size 432x288 with 1 Axes>"
            ]
          },
          "metadata": {
            "tags": [],
            "needs_background": "light"
          }
        }
      ]
    },
    {
      "cell_type": "markdown",
      "metadata": {
        "id": "gGJJCodcq8ni"
      },
      "source": [
        "## หาว่าควรมีกี่กลุ่ม หรือ ค่า K ควรจะเป็นเท่าไหร่\n",
        "\n",
        "จากกราฟด้านบน จะเห็นว่า k ควรมี 11 กลุ่ม"
      ]
    },
    {
      "cell_type": "markdown",
      "metadata": {
        "id": "leZYBt7ct39X"
      },
      "source": [
        "### **Elbow Method**"
      ]
    },
    {
      "cell_type": "markdown",
      "metadata": {
        "id": "nBoMZzVOuXvP"
      },
      "source": [
        "SSE"
      ]
    },
    {
      "cell_type": "code",
      "metadata": {
        "colab": {
          "base_uri": "https://localhost:8080/"
        },
        "id": "fpi8zLUilP2E",
        "outputId": "32fa399e-b825-44be-adfe-84018c512b39"
      },
      "source": [
        "kmeans.inertia_                      ### SSE (Sum of Squared Errors)"
      ],
      "execution_count": null,
      "outputs": [
        {
          "output_type": "execute_result",
          "data": {
            "text/plain": [
              "219019.87278668472"
            ]
          },
          "metadata": {
            "tags": []
          },
          "execution_count": 55
        }
      ]
    },
    {
      "cell_type": "code",
      "metadata": {
        "id": "LykjSrVGuVmG"
      },
      "source": [
        "SSE = list()                            ### หา SSE ของแต่ล่ะกลุ่ม\n",
        "for k in [1,2,3,4,5,6,7,8,9,10,11,12]:\n",
        "  kmeans = KMeans(n_clusters=k, random_state=1313)\n",
        "  kmeans.fit(Data_dropped)\n",
        "  SSE.append(kmeans.inertia_)"
      ],
      "execution_count": null,
      "outputs": []
    },
    {
      "cell_type": "code",
      "metadata": {
        "colab": {
          "base_uri": "https://localhost:8080/"
        },
        "id": "NFcTpDptuwXB",
        "outputId": "56479625-a7e9-49fe-a481-8b204717ff36"
      },
      "source": [
        "SSE              ### ค่า SSE ของแต่ล่ะกลุ่ม"
      ],
      "execution_count": null,
      "outputs": [
        {
          "output_type": "execute_result",
          "data": {
            "text/plain": [
              "[6625518.1602167,\n",
              " 5430124.163133319,\n",
              " 4622355.204722752,\n",
              " 3790142.8807181506,\n",
              " 3033333.3859628867,\n",
              " 2404273.2881047176,\n",
              " 1732710.0740116707,\n",
              " 1266331.880537109,\n",
              " 843632.4496311974,\n",
              " 499044.5255125349,\n",
              " 219801.03551220635,\n",
              " 219019.87278668472]"
            ]
          },
          "metadata": {
            "tags": []
          },
          "execution_count": 57
        }
      ]
    },
    {
      "cell_type": "code",
      "metadata": {
        "colab": {
          "base_uri": "https://localhost:8080/",
          "height": 290
        },
        "id": "AH7L8rfku3tI",
        "outputId": "6928a963-abf8-4df2-c4d7-a18d292dacce"
      },
      "source": [
        "plt.plot([1,2,3,4,5,6,7,8,9,10,11,12],SSE,'o-b')              ### พล็อตกราฟ k กับ SSE\n",
        "\n",
        "plt.xlabel('k')              ### กำหนดแกน X เป็น k\n",
        "plt.ylabel('SSE');           ### กำหนดแกน Y เป็น SSE"
      ],
      "execution_count": null,
      "outputs": [
        {
          "output_type": "display_data",
          "data": {
            "image/png": "[encoded data removed]",
            "text/plain": [
              "<Figure size 432x288 with 1 Axes>"
            ]
          },
          "metadata": {
            "tags": [],
            "needs_background": "light"
          }
        }
      ]
    },
    {
      "cell_type": "markdown",
      "metadata": {
        "id": "ow04xqzrfKNQ"
      },
      "source": [
        "จากกราฟ ตำแหน่งที่มีการหักมุมมากที่ คือ k = 11\n",
        "\n",
        "ดังนั้น ควรมี 11 กลุ่ม หรือ k = 11"
      ]
    },
    {
      "cell_type": "markdown",
      "metadata": {
        "id": "rC_9-vbRvH3q"
      },
      "source": [
        "### **Silhouette coefficient**\n",
        "\n",
        "- จุดที่อยู่ในกลุ่มเดียวกันใกล้กันมากแค่ไหน\n",
        "- จุดที่อยู่คนล่ะกลุ่มกันห่างกันมากแค่ไหน"
      ]
    },
    {
      "cell_type": "code",
      "metadata": {
        "id": "DBw6Qkmcu8mr"
      },
      "source": [
        "from sklearn import metrics             ### import metrics จาก sklearn"
      ],
      "execution_count": null,
      "outputs": []
    },
    {
      "cell_type": "code",
      "metadata": {
        "id": "H0QgxWRGvVDS"
      },
      "source": [
        "SilH = list()                                    ### หาค่า Silhouette Score \n",
        "for k in [2,3,4,5,6,7,8,9,10,11,12]:                        ### Silhouette Score เป็น 1 ไม่ได้\n",
        "    kmeans = KMeans(n_clusters=k, random_state=1313)\n",
        "    kmeans.fit(Data_dropped)\n",
        "    score = metrics.silhouette_score(Data,kmeans.labels_)\n",
        "    SilH.append(score)"
      ],
      "execution_count": null,
      "outputs": []
    },
    {
      "cell_type": "code",
      "metadata": {
        "id": "A8QboWXofvB4",
        "colab": {
          "base_uri": "https://localhost:8080/"
        },
        "outputId": "b2ac7b0f-279b-4dff-87a5-11812d42efe4"
      },
      "source": [
        "SilH         ### ค่า Silhouette Score"
      ],
      "execution_count": null,
      "outputs": [
        {
          "output_type": "execute_result",
          "data": {
            "text/plain": [
              "[0.2306413938780372,\n",
              " 0.20425714116761592,\n",
              " 0.26155177924540196,\n",
              " 0.34956950373306833,\n",
              " 0.3841748366647043,\n",
              " 0.4664285852127488,\n",
              " 0.5131945634744345,\n",
              " 0.6348025121973004,\n",
              " 0.6857819922989067,\n",
              " 0.7381197805497008,\n",
              " 0.6752423388147792]"
            ]
          },
          "metadata": {
            "tags": []
          },
          "execution_count": 60
        }
      ]
    },
    {
      "cell_type": "code",
      "metadata": {
        "colab": {
          "base_uri": "https://localhost:8080/",
          "height": 279
        },
        "id": "YU--91aAvj-B",
        "outputId": "6e780f9f-6906-4e50-c8f3-5708377e8f64"
      },
      "source": [
        "plt.plot([2,3,4,5,6,7,8,9,10,11,12],SilH,'o-g')            ### พล็อตกราฟ  k กับ Silhouette Score\n",
        "\n",
        "plt.xlabel('k')\n",
        "plt.ylabel('Silhouette Score');"
      ],
      "execution_count": null,
      "outputs": [
        {
          "output_type": "display_data",
          "data": {
            "image/png": "[encoded data removed]",
            "text/plain": [
              "<Figure size 432x288 with 1 Axes>"
            ]
          },
          "metadata": {
            "tags": [],
            "needs_background": "light"
          }
        }
      ]
    },
    {
      "cell_type": "markdown",
      "metadata": {
        "id": "A-OJrEVzikS1"
      },
      "source": [
        "จากกราฟ k = 11 มีค่า Silhouette Score สูงที่สุด แสดงว่า ข้อมูลมีความใกล้กันมากในกลุ่มเดียวกันและมีความห่างกันมากของต่างกลุ่มกัน\n",
        "\n",
        "ดังนั้น ข้อมูลชุดนี้ควรมี 8 กลุ่ม"
      ]
    },
    {
      "cell_type": "markdown",
      "metadata": {
        "id": "i6vJJ9oOTznj"
      },
      "source": [
        "**ดังนัน จากทั้งสองวิธี จะได้ K = 11**"
      ]
    },
    {
      "cell_type": "code",
      "metadata": {
        "id": "k4yVBJ1WU78U"
      },
      "source": [
        "from sklearn.decomposition import PCA             ### import PCA จาก sklearn\n",
        "\n",
        "pca = PCA(n_components=2)                         ### กำหนดให้มี 2 dimension\n",
        "\n",
        "new_pca = pca.fit_transform(Data_dropped)                 ### คำนวณ PCA"
      ],
      "execution_count": null,
      "outputs": []
    },
    {
      "cell_type": "code",
      "metadata": {
        "id": "sOrQOmGaUXhU",
        "colab": {
          "base_uri": "https://localhost:8080/",
          "height": 282
        },
        "outputId": "3042197a-2df0-4a2b-900f-c25b208508a2"
      },
      "source": [
        "kmeans = KMeans(n_clusters=11, random_state=1313)               ### พล็อตกราฟ 11 กลุ่ม\n",
        "kmeans.fit(Data_dropped)\n",
        "y = kmeans.predict(Data_dropped)\n",
        "\n",
        "plt.scatter(new_pca[:,0],new_pca[:,1],c=y)"
      ],
      "execution_count": null,
      "outputs": [
        {
          "output_type": "execute_result",
          "data": {
            "text/plain": [
              "<matplotlib.collections.PathCollection at 0x7f5639b1ab50>"
            ]
          },
          "metadata": {
            "tags": []
          },
          "execution_count": 63
        },
        {
          "output_type": "display_data",
          "data": {
            "image/png": "[encoded data removed]",
            "text/plain": [
              "<Figure size 432x288 with 1 Axes>"
            ]
          },
          "metadata": {
            "tags": [],
            "needs_background": "light"
          }
        }
      ]
    },
    {
      "cell_type": "markdown",
      "metadata": {
        "id": "duwblKZtAvvc"
      },
      "source": [
        "# **3. ลด Dimension ของข้อมูลเหลือ 2 มิติ แล้วทำ clustering แล้ว visualize ข้อมูลแบบ 2 มิติ**"
      ]
    },
    {
      "cell_type": "markdown",
      "metadata": {
        "id": "e7f1-6xZB6g2"
      },
      "source": [
        "## ทำ MDS\n",
        "\n",
        "เพื่อลดให้เหลือ 2 Dimension"
      ]
    },
    {
      "cell_type": "code",
      "metadata": {
        "id": "EAikKRd0ARdC"
      },
      "source": [
        "from sklearn.manifold import MDS        ### import MDS จาก sklearn"
      ],
      "execution_count": null,
      "outputs": []
    },
    {
      "cell_type": "code",
      "metadata": {
        "id": "9BOzr-MpDtUx"
      },
      "source": [
        "mds = MDS(n_components=2)                   ### กำหนด components เท่ากลับ 2 กลุ่ม"
      ],
      "execution_count": null,
      "outputs": []
    },
    {
      "cell_type": "code",
      "metadata": {
        "id": "7KqvFCDtWr21"
      },
      "source": [
        "new_mds = mds.fit_transform(Data_dropped)        ### คำนวณระยะห่างระหว่างจุด"
      ],
      "execution_count": null,
      "outputs": []
    },
    {
      "cell_type": "markdown",
      "metadata": {
        "id": "sUhhmP0qnt1p"
      },
      "source": [
        "## หา K-mean"
      ]
    },
    {
      "cell_type": "code",
      "metadata": {
        "id": "DfHVNT6V0I2J"
      },
      "source": [
        "from sklearn.cluster import KMeans    "
      ],
      "execution_count": null,
      "outputs": []
    },
    {
      "cell_type": "code",
      "metadata": {
        "id": "wSBHISnGnzuJ"
      },
      "source": [
        "kmeans2 = KMeans(n_clusters=11)                     ### กำหนดกลุ่ม k = 11 ตามการหาค่า k ที่เหมาะสมข้างต้น \n",
        "kmeans2.fit(Data_dropped) \n",
        "P = kmeans2.predict(Data_dropped)"
      ],
      "execution_count": null,
      "outputs": []
    },
    {
      "cell_type": "code",
      "metadata": {
        "id": "w6VZd71E0SgA"
      },
      "source": [
        "from matplotlib import pyplot as plt   "
      ],
      "execution_count": null,
      "outputs": []
    },
    {
      "cell_type": "code",
      "metadata": {
        "colab": {
          "base_uri": "https://localhost:8080/",
          "height": 282
        },
        "id": "uIfHcF8IoOHi",
        "outputId": "ee78a764-7e76-4236-e67b-13b73d6ab712"
      },
      "source": [
        "plt.scatter(new_mds[:,0],new_mds[:,1],c=P)            ### พล็อตกราฟ"
      ],
      "execution_count": null,
      "outputs": [
        {
          "output_type": "execute_result",
          "data": {
            "text/plain": [
              "<matplotlib.collections.PathCollection at 0x7f45e2b2df10>"
            ]
          },
          "metadata": {
            "tags": []
          },
          "execution_count": 32
        },
        {
          "output_type": "display_data",
          "data": {
            "image/png": "[encoded data removed]",
            "text/plain": [
              "<Figure size 432x288 with 1 Axes>"
            ]
          },
          "metadata": {
            "tags": [],
            "needs_background": "light"
          }
        }
      ]
    },
    {
      "cell_type": "markdown",
      "metadata": {
        "id": "BAPQTAtFqCS4"
      },
      "source": [
        "# **4. เปรียบเทียบความแตกต่างของผลข้อ 2. กับ ข้อ 3.**"
      ]
    },
    {
      "cell_type": "markdown",
      "metadata": {
        "id": "xq0BVKgqqk3v"
      },
      "source": [
        "### กราฟ การทำ clustering แล้วทำ visualize ข้อมูลแบบ 2 มิติ (ข้อ 2)"
      ]
    },
    {
      "cell_type": "code",
      "metadata": {
        "id": "_6xwNKK4q5BW",
        "colab": {
          "base_uri": "https://localhost:8080/",
          "height": 282
        },
        "outputId": "15ba8110-3bf6-4e3e-9f7d-b8610d2abd9f"
      },
      "source": [
        "kmeans = KMeans(n_clusters=11, random_state=1313)              \n",
        "kmeans.fit(Data_dropped)\n",
        "y = kmeans.predict(Data_dropped)\n",
        "\n",
        "plt.scatter(new_pca[:,0],new_pca[:,1],c=y)"
      ],
      "execution_count": null,
      "outputs": [
        {
          "output_type": "execute_result",
          "data": {
            "text/plain": [
              "<matplotlib.collections.PathCollection at 0x7f45e2cb9690>"
            ]
          },
          "metadata": {
            "tags": []
          },
          "execution_count": 28
        },
        {
          "output_type": "display_data",
          "data": {
            "image/png": "[encoded data removed]",
            "text/plain": [
              "<Figure size 432x288 with 1 Axes>"
            ]
          },
          "metadata": {
            "tags": [],
            "needs_background": "light"
          }
        }
      ]
    },
    {
      "cell_type": "markdown",
      "metadata": {
        "id": "Bah2lmGKrWQ-"
      },
      "source": [
        "### กราฟ การลด Dimension ของข้อมูลเหลือ 2 มิติ แล้วทำ clustering แล้ว visualize ข้อมูลแบบ 2 มิติ (ข้อ 3)"
      ]
    },
    {
      "cell_type": "code",
      "metadata": {
        "id": "xKLndrHlrjEG",
        "colab": {
          "base_uri": "https://localhost:8080/",
          "height": 282
        },
        "outputId": "9fd40a3e-38c5-49f0-be7e-097444721709"
      },
      "source": [
        "plt.scatter(new_mds[:,0],new_mds[:,1],c=P)       "
      ],
      "execution_count": null,
      "outputs": [
        {
          "output_type": "execute_result",
          "data": {
            "text/plain": [
              "<matplotlib.collections.PathCollection at 0x7f45e2c1c890>"
            ]
          },
          "metadata": {
            "tags": []
          },
          "execution_count": 33
        },
        {
          "output_type": "display_data",
          "data": {
            "image/png": "[encoded data removed]",
            "text/plain": [
              "<Figure size 432x288 with 1 Axes>"
            ]
          },
          "metadata": {
            "tags": [],
            "needs_background": "light"
          }
        }
      ]
    },
    {
      "cell_type": "markdown",
      "metadata": {
        "id": "e7G3XkYnrnq-"
      },
      "source": [
        "**สรุปผล** \n",
        "\n",
        "จากทั้งสองวิธี การลด Dimension ของข้อมูลเหลือ 2 มิติ แล้วทำ clustering แล้ว visualize ข้อมูลแบบ 2 มิติ (ข้อ 3) จะเห็นการแบ่งกลุ่มที่ชัดเจนกว่า การทำ clustering แล้วทำ visualize ข้อมูลแบบ 2 มิติ (ข้อ 2) เล็กน้อย\n",
        "\n",
        "ซึ่งโดยภาพรวมทั้งสองวิธีจะเห็นการแบ่งข้อมูลออกเป็นกลุ่มๆ ที่ค่อนข้างจะชัดเจน"
      ]
    },
    {
      "cell_type": "code",
      "metadata": {
        "id": "YWTGFo4V2upX"
      },
      "source": [
        ""
      ],
      "execution_count": null,
      "outputs": []
    }
  ]
}