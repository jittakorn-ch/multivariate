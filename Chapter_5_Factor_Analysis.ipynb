{
  "nbformat": 4,
  "nbformat_minor": 0,
  "metadata": {
    "colab": {
      "name": "Chapter 5 Factor Analysis.ipynb",
      "provenance": [],
      "authorship_tag": "ABX9TyPJJ6ppoKNMZbG2fHVcc03C",
      "include_colab_link": true
    },
    "kernelspec": {
      "name": "python3",
      "display_name": "Python 3"
    },
    "language_info": {
      "name": "python"
    }
  },
  "cells": [
    {
      "cell_type": "markdown",
      "metadata": {
        "id": "view-in-github",
        "colab_type": "text"
      },
      "source": [
        "<a href=\"https://colab.research.google.com/github/jittakorn-ch/multivariate/blob/main/Chapter_5_Factor_Analysis.ipynb\" target=\"_parent\"><img src=\"https://colab.research.google.com/assets/colab-badge.svg\" alt=\"Open In Colab\"/></a>"
      ]
    },
    {
      "cell_type": "markdown",
      "metadata": {
        "id": "ZdRoCCNJFcow"
      },
      "source": [
        "https://www.datacamp.com/community/tutorials/introduction-factor-analysis"
      ]
    },
    {
      "cell_type": "code",
      "metadata": {
        "id": "Mow-TweDGgRz"
      },
      "source": [
        "import pandas as pd"
      ],
      "execution_count": 40,
      "outputs": []
    },
    {
      "cell_type": "code",
      "metadata": {
        "colab": {
          "base_uri": "https://localhost:8080/",
          "height": 204
        },
        "id": "982Xvx_TG3wV",
        "outputId": "dc80e17d-af16-4fcd-c195-38045486ff2a"
      },
      "source": [
        "BFI_data = pd.read_csv('/content/bfi.csv')\n",
        "BFI_data.head()"
      ],
      "execution_count": 41,
      "outputs": [
        {
          "output_type": "execute_result",
          "data": {
            "text/html": [
              "<div>\n",
              "<style scoped>\n",
              "    .dataframe tbody tr th:only-of-type {\n",
              "        vertical-align: middle;\n",
              "    }\n",
              "\n",
              "    .dataframe tbody tr th {\n",
              "        vertical-align: top;\n",
              "    }\n",
              "\n",
              "    .dataframe thead th {\n",
              "        text-align: right;\n",
              "    }\n",
              "</style>\n",
              "<table border=\"1\" class=\"dataframe\">\n",
              "  <thead>\n",
              "    <tr style=\"text-align: right;\">\n",
              "      <th></th>\n",
              "      <th>Unnamed: 0</th>\n",
              "      <th>A1</th>\n",
              "      <th>A2</th>\n",
              "      <th>A3</th>\n",
              "      <th>A4</th>\n",
              "      <th>A5</th>\n",
              "      <th>C1</th>\n",
              "      <th>C2</th>\n",
              "      <th>C3</th>\n",
              "      <th>C4</th>\n",
              "      <th>C5</th>\n",
              "      <th>E1</th>\n",
              "      <th>E2</th>\n",
              "      <th>E3</th>\n",
              "      <th>E4</th>\n",
              "      <th>E5</th>\n",
              "      <th>N1</th>\n",
              "      <th>N2</th>\n",
              "      <th>N3</th>\n",
              "      <th>N4</th>\n",
              "      <th>N5</th>\n",
              "      <th>O1</th>\n",
              "      <th>O2</th>\n",
              "      <th>O3</th>\n",
              "      <th>O4</th>\n",
              "      <th>O5</th>\n",
              "      <th>gender</th>\n",
              "      <th>education</th>\n",
              "      <th>age</th>\n",
              "    </tr>\n",
              "  </thead>\n",
              "  <tbody>\n",
              "    <tr>\n",
              "      <th>0</th>\n",
              "      <td>61617</td>\n",
              "      <td>2.0</td>\n",
              "      <td>4.0</td>\n",
              "      <td>3.0</td>\n",
              "      <td>4.0</td>\n",
              "      <td>4.0</td>\n",
              "      <td>2.0</td>\n",
              "      <td>3.0</td>\n",
              "      <td>3.0</td>\n",
              "      <td>4.0</td>\n",
              "      <td>4.0</td>\n",
              "      <td>3.0</td>\n",
              "      <td>3.0</td>\n",
              "      <td>3.0</td>\n",
              "      <td>4.0</td>\n",
              "      <td>4.0</td>\n",
              "      <td>3.0</td>\n",
              "      <td>4.0</td>\n",
              "      <td>2.0</td>\n",
              "      <td>2.0</td>\n",
              "      <td>3.0</td>\n",
              "      <td>3.0</td>\n",
              "      <td>6</td>\n",
              "      <td>3.0</td>\n",
              "      <td>4.0</td>\n",
              "      <td>3.0</td>\n",
              "      <td>1</td>\n",
              "      <td>NaN</td>\n",
              "      <td>16</td>\n",
              "    </tr>\n",
              "    <tr>\n",
              "      <th>1</th>\n",
              "      <td>61618</td>\n",
              "      <td>2.0</td>\n",
              "      <td>4.0</td>\n",
              "      <td>5.0</td>\n",
              "      <td>2.0</td>\n",
              "      <td>5.0</td>\n",
              "      <td>5.0</td>\n",
              "      <td>4.0</td>\n",
              "      <td>4.0</td>\n",
              "      <td>3.0</td>\n",
              "      <td>4.0</td>\n",
              "      <td>1.0</td>\n",
              "      <td>1.0</td>\n",
              "      <td>6.0</td>\n",
              "      <td>4.0</td>\n",
              "      <td>3.0</td>\n",
              "      <td>3.0</td>\n",
              "      <td>3.0</td>\n",
              "      <td>3.0</td>\n",
              "      <td>5.0</td>\n",
              "      <td>5.0</td>\n",
              "      <td>4.0</td>\n",
              "      <td>2</td>\n",
              "      <td>4.0</td>\n",
              "      <td>3.0</td>\n",
              "      <td>3.0</td>\n",
              "      <td>2</td>\n",
              "      <td>NaN</td>\n",
              "      <td>18</td>\n",
              "    </tr>\n",
              "    <tr>\n",
              "      <th>2</th>\n",
              "      <td>61620</td>\n",
              "      <td>5.0</td>\n",
              "      <td>4.0</td>\n",
              "      <td>5.0</td>\n",
              "      <td>4.0</td>\n",
              "      <td>4.0</td>\n",
              "      <td>4.0</td>\n",
              "      <td>5.0</td>\n",
              "      <td>4.0</td>\n",
              "      <td>2.0</td>\n",
              "      <td>5.0</td>\n",
              "      <td>2.0</td>\n",
              "      <td>4.0</td>\n",
              "      <td>4.0</td>\n",
              "      <td>4.0</td>\n",
              "      <td>5.0</td>\n",
              "      <td>4.0</td>\n",
              "      <td>5.0</td>\n",
              "      <td>4.0</td>\n",
              "      <td>2.0</td>\n",
              "      <td>3.0</td>\n",
              "      <td>4.0</td>\n",
              "      <td>2</td>\n",
              "      <td>5.0</td>\n",
              "      <td>5.0</td>\n",
              "      <td>2.0</td>\n",
              "      <td>2</td>\n",
              "      <td>NaN</td>\n",
              "      <td>17</td>\n",
              "    </tr>\n",
              "    <tr>\n",
              "      <th>3</th>\n",
              "      <td>61621</td>\n",
              "      <td>4.0</td>\n",
              "      <td>4.0</td>\n",
              "      <td>6.0</td>\n",
              "      <td>5.0</td>\n",
              "      <td>5.0</td>\n",
              "      <td>4.0</td>\n",
              "      <td>4.0</td>\n",
              "      <td>3.0</td>\n",
              "      <td>5.0</td>\n",
              "      <td>5.0</td>\n",
              "      <td>5.0</td>\n",
              "      <td>3.0</td>\n",
              "      <td>4.0</td>\n",
              "      <td>4.0</td>\n",
              "      <td>4.0</td>\n",
              "      <td>2.0</td>\n",
              "      <td>5.0</td>\n",
              "      <td>2.0</td>\n",
              "      <td>4.0</td>\n",
              "      <td>1.0</td>\n",
              "      <td>3.0</td>\n",
              "      <td>3</td>\n",
              "      <td>4.0</td>\n",
              "      <td>3.0</td>\n",
              "      <td>5.0</td>\n",
              "      <td>2</td>\n",
              "      <td>NaN</td>\n",
              "      <td>17</td>\n",
              "    </tr>\n",
              "    <tr>\n",
              "      <th>4</th>\n",
              "      <td>61622</td>\n",
              "      <td>2.0</td>\n",
              "      <td>3.0</td>\n",
              "      <td>3.0</td>\n",
              "      <td>4.0</td>\n",
              "      <td>5.0</td>\n",
              "      <td>4.0</td>\n",
              "      <td>4.0</td>\n",
              "      <td>5.0</td>\n",
              "      <td>3.0</td>\n",
              "      <td>2.0</td>\n",
              "      <td>2.0</td>\n",
              "      <td>2.0</td>\n",
              "      <td>5.0</td>\n",
              "      <td>4.0</td>\n",
              "      <td>5.0</td>\n",
              "      <td>2.0</td>\n",
              "      <td>3.0</td>\n",
              "      <td>4.0</td>\n",
              "      <td>4.0</td>\n",
              "      <td>3.0</td>\n",
              "      <td>3.0</td>\n",
              "      <td>3</td>\n",
              "      <td>4.0</td>\n",
              "      <td>3.0</td>\n",
              "      <td>3.0</td>\n",
              "      <td>1</td>\n",
              "      <td>NaN</td>\n",
              "      <td>17</td>\n",
              "    </tr>\n",
              "  </tbody>\n",
              "</table>\n",
              "</div>"
            ],
            "text/plain": [
              "   Unnamed: 0   A1   A2   A3   A4   A5  ...   O3   O4   O5  gender  education  age\n",
              "0       61617  2.0  4.0  3.0  4.0  4.0  ...  3.0  4.0  3.0       1        NaN   16\n",
              "1       61618  2.0  4.0  5.0  2.0  5.0  ...  4.0  3.0  3.0       2        NaN   18\n",
              "2       61620  5.0  4.0  5.0  4.0  4.0  ...  5.0  5.0  2.0       2        NaN   17\n",
              "3       61621  4.0  4.0  6.0  5.0  5.0  ...  4.0  3.0  5.0       2        NaN   17\n",
              "4       61622  2.0  3.0  3.0  4.0  5.0  ...  4.0  3.0  3.0       1        NaN   17\n",
              "\n",
              "[5 rows x 29 columns]"
            ]
          },
          "metadata": {
            "tags": []
          },
          "execution_count": 41
        }
      ]
    },
    {
      "cell_type": "code",
      "metadata": {
        "colab": {
          "base_uri": "https://localhost:8080/"
        },
        "id": "U1XtowipHNSm",
        "outputId": "889f0d4a-c331-473e-859f-e819606bdb20"
      },
      "source": [
        "BFI_data.shape"
      ],
      "execution_count": 42,
      "outputs": [
        {
          "output_type": "execute_result",
          "data": {
            "text/plain": [
              "(2800, 29)"
            ]
          },
          "metadata": {
            "tags": []
          },
          "execution_count": 42
        }
      ]
    },
    {
      "cell_type": "markdown",
      "metadata": {
        "id": "n1OxSGQpHqVi"
      },
      "source": [
        " ## factor Analysis' \n",
        " \n",
        " ## assumptions:\n",
        "\n",
        " ในข้อมูล multivariate ที่มีตัวแปร observe variables จำนวน  n ตัว \n",
        " \n",
        " มีตัวแปร factor (Latent variables) จำนวน k ตัว ที่สามารถอธิบายข้อมูลทั้งหมดได้ \n",
        " \n",
        " โดย k < n"
      ]
    },
    {
      "cell_type": "markdown",
      "metadata": {
        "id": "WgvVFvUfNCkS"
      },
      "source": [
        "![factor analysis.png](data:image/png;base64,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)"
      ]
    },
    {
      "cell_type": "markdown",
      "metadata": {
        "id": "MMi4IFwdNWGE"
      },
      "source": [
        "Assumptions ในการทำ Factor Analysis:\n",
        "- There are no outliers in data.\n",
        "- Sample size should be greater than the factor.\n",
        "- There should not be ***perfect multicollinearity***.\n",
        "- There should not be ***homoscedasticity*** between the variables."
      ]
    },
    {
      "cell_type": "markdown",
      "metadata": {
        "id": "FS1jyaePPR15"
      },
      "source": [
        "### การทำ Factor Analysis"
      ]
    },
    {
      "cell_type": "code",
      "metadata": {
        "colab": {
          "base_uri": "https://localhost:8080/"
        },
        "id": "GaCNBhaPSrnh",
        "outputId": "fc83eed0-d422-44a9-dc4d-5eec2a3760a3"
      },
      "source": [
        "!pip install factor_analyzer               ### install ทุกครั้ง"
      ],
      "execution_count": 43,
      "outputs": [
        {
          "output_type": "stream",
          "text": [
            "Requirement already satisfied: factor_analyzer in /usr/local/lib/python3.7/dist-packages (0.3.2)\n",
            "Requirement already satisfied: pandas in /usr/local/lib/python3.7/dist-packages (from factor_analyzer) (1.1.5)\n",
            "Requirement already satisfied: scikit-learn in /usr/local/lib/python3.7/dist-packages (from factor_analyzer) (0.22.2.post1)\n",
            "Requirement already satisfied: scipy in /usr/local/lib/python3.7/dist-packages (from factor_analyzer) (1.4.1)\n",
            "Requirement already satisfied: numpy in /usr/local/lib/python3.7/dist-packages (from factor_analyzer) (1.19.5)\n",
            "Requirement already satisfied: python-dateutil>=2.7.3 in /usr/local/lib/python3.7/dist-packages (from pandas->factor_analyzer) (2.8.1)\n",
            "Requirement already satisfied: pytz>=2017.2 in /usr/local/lib/python3.7/dist-packages (from pandas->factor_analyzer) (2018.9)\n",
            "Requirement already satisfied: joblib>=0.11 in /usr/local/lib/python3.7/dist-packages (from scikit-learn->factor_analyzer) (1.0.1)\n",
            "Requirement already satisfied: six>=1.5 in /usr/local/lib/python3.7/dist-packages (from python-dateutil>=2.7.3->pandas->factor_analyzer) (1.15.0)\n"
          ],
          "name": "stdout"
        }
      ]
    },
    {
      "cell_type": "markdown",
      "metadata": {
        "id": "VbWjy6_KT4nP"
      },
      "source": [
        "## Quiz 5 เลือกข้อมูลมาเแพาะ a1,a2,a3,...,o3,o4,o5 ด้วยคำสั่ง `.iloc[]`"
      ]
    },
    {
      "cell_type": "code",
      "metadata": {
        "id": "fgA7cWnpQEI_"
      },
      "source": [
        "from factor_analyzer import FactorAnalyzer\n",
        "import matplotlib.pyplot as plt "
      ],
      "execution_count": 44,
      "outputs": []
    },
    {
      "cell_type": "code",
      "metadata": {
        "colab": {
          "base_uri": "https://localhost:8080/",
          "height": 204
        },
        "id": "l4Oo5tFPSjTq",
        "outputId": "e6e856cb-7541-44c0-b680-df9f3823809d"
      },
      "source": [
        "BFI_data_dropped = BFI_data.iloc[:,1:26]          ### หรือ  BFI_data.iloc[:,1:-3]\n",
        "BFI_data_dropped.head()"
      ],
      "execution_count": 45,
      "outputs": [
        {
          "output_type": "execute_result",
          "data": {
            "text/html": [
              "<div>\n",
              "<style scoped>\n",
              "    .dataframe tbody tr th:only-of-type {\n",
              "        vertical-align: middle;\n",
              "    }\n",
              "\n",
              "    .dataframe tbody tr th {\n",
              "        vertical-align: top;\n",
              "    }\n",
              "\n",
              "    .dataframe thead th {\n",
              "        text-align: right;\n",
              "    }\n",
              "</style>\n",
              "<table border=\"1\" class=\"dataframe\">\n",
              "  <thead>\n",
              "    <tr style=\"text-align: right;\">\n",
              "      <th></th>\n",
              "      <th>A1</th>\n",
              "      <th>A2</th>\n",
              "      <th>A3</th>\n",
              "      <th>A4</th>\n",
              "      <th>A5</th>\n",
              "      <th>C1</th>\n",
              "      <th>C2</th>\n",
              "      <th>C3</th>\n",
              "      <th>C4</th>\n",
              "      <th>C5</th>\n",
              "      <th>E1</th>\n",
              "      <th>E2</th>\n",
              "      <th>E3</th>\n",
              "      <th>E4</th>\n",
              "      <th>E5</th>\n",
              "      <th>N1</th>\n",
              "      <th>N2</th>\n",
              "      <th>N3</th>\n",
              "      <th>N4</th>\n",
              "      <th>N5</th>\n",
              "      <th>O1</th>\n",
              "      <th>O2</th>\n",
              "      <th>O3</th>\n",
              "      <th>O4</th>\n",
              "      <th>O5</th>\n",
              "    </tr>\n",
              "  </thead>\n",
              "  <tbody>\n",
              "    <tr>\n",
              "      <th>0</th>\n",
              "      <td>2.0</td>\n",
              "      <td>4.0</td>\n",
              "      <td>3.0</td>\n",
              "      <td>4.0</td>\n",
              "      <td>4.0</td>\n",
              "      <td>2.0</td>\n",
              "      <td>3.0</td>\n",
              "      <td>3.0</td>\n",
              "      <td>4.0</td>\n",
              "      <td>4.0</td>\n",
              "      <td>3.0</td>\n",
              "      <td>3.0</td>\n",
              "      <td>3.0</td>\n",
              "      <td>4.0</td>\n",
              "      <td>4.0</td>\n",
              "      <td>3.0</td>\n",
              "      <td>4.0</td>\n",
              "      <td>2.0</td>\n",
              "      <td>2.0</td>\n",
              "      <td>3.0</td>\n",
              "      <td>3.0</td>\n",
              "      <td>6</td>\n",
              "      <td>3.0</td>\n",
              "      <td>4.0</td>\n",
              "      <td>3.0</td>\n",
              "    </tr>\n",
              "    <tr>\n",
              "      <th>1</th>\n",
              "      <td>2.0</td>\n",
              "      <td>4.0</td>\n",
              "      <td>5.0</td>\n",
              "      <td>2.0</td>\n",
              "      <td>5.0</td>\n",
              "      <td>5.0</td>\n",
              "      <td>4.0</td>\n",
              "      <td>4.0</td>\n",
              "      <td>3.0</td>\n",
              "      <td>4.0</td>\n",
              "      <td>1.0</td>\n",
              "      <td>1.0</td>\n",
              "      <td>6.0</td>\n",
              "      <td>4.0</td>\n",
              "      <td>3.0</td>\n",
              "      <td>3.0</td>\n",
              "      <td>3.0</td>\n",
              "      <td>3.0</td>\n",
              "      <td>5.0</td>\n",
              "      <td>5.0</td>\n",
              "      <td>4.0</td>\n",
              "      <td>2</td>\n",
              "      <td>4.0</td>\n",
              "      <td>3.0</td>\n",
              "      <td>3.0</td>\n",
              "    </tr>\n",
              "    <tr>\n",
              "      <th>2</th>\n",
              "      <td>5.0</td>\n",
              "      <td>4.0</td>\n",
              "      <td>5.0</td>\n",
              "      <td>4.0</td>\n",
              "      <td>4.0</td>\n",
              "      <td>4.0</td>\n",
              "      <td>5.0</td>\n",
              "      <td>4.0</td>\n",
              "      <td>2.0</td>\n",
              "      <td>5.0</td>\n",
              "      <td>2.0</td>\n",
              "      <td>4.0</td>\n",
              "      <td>4.0</td>\n",
              "      <td>4.0</td>\n",
              "      <td>5.0</td>\n",
              "      <td>4.0</td>\n",
              "      <td>5.0</td>\n",
              "      <td>4.0</td>\n",
              "      <td>2.0</td>\n",
              "      <td>3.0</td>\n",
              "      <td>4.0</td>\n",
              "      <td>2</td>\n",
              "      <td>5.0</td>\n",
              "      <td>5.0</td>\n",
              "      <td>2.0</td>\n",
              "    </tr>\n",
              "    <tr>\n",
              "      <th>3</th>\n",
              "      <td>4.0</td>\n",
              "      <td>4.0</td>\n",
              "      <td>6.0</td>\n",
              "      <td>5.0</td>\n",
              "      <td>5.0</td>\n",
              "      <td>4.0</td>\n",
              "      <td>4.0</td>\n",
              "      <td>3.0</td>\n",
              "      <td>5.0</td>\n",
              "      <td>5.0</td>\n",
              "      <td>5.0</td>\n",
              "      <td>3.0</td>\n",
              "      <td>4.0</td>\n",
              "      <td>4.0</td>\n",
              "      <td>4.0</td>\n",
              "      <td>2.0</td>\n",
              "      <td>5.0</td>\n",
              "      <td>2.0</td>\n",
              "      <td>4.0</td>\n",
              "      <td>1.0</td>\n",
              "      <td>3.0</td>\n",
              "      <td>3</td>\n",
              "      <td>4.0</td>\n",
              "      <td>3.0</td>\n",
              "      <td>5.0</td>\n",
              "    </tr>\n",
              "    <tr>\n",
              "      <th>4</th>\n",
              "      <td>2.0</td>\n",
              "      <td>3.0</td>\n",
              "      <td>3.0</td>\n",
              "      <td>4.0</td>\n",
              "      <td>5.0</td>\n",
              "      <td>4.0</td>\n",
              "      <td>4.0</td>\n",
              "      <td>5.0</td>\n",
              "      <td>3.0</td>\n",
              "      <td>2.0</td>\n",
              "      <td>2.0</td>\n",
              "      <td>2.0</td>\n",
              "      <td>5.0</td>\n",
              "      <td>4.0</td>\n",
              "      <td>5.0</td>\n",
              "      <td>2.0</td>\n",
              "      <td>3.0</td>\n",
              "      <td>4.0</td>\n",
              "      <td>4.0</td>\n",
              "      <td>3.0</td>\n",
              "      <td>3.0</td>\n",
              "      <td>3</td>\n",
              "      <td>4.0</td>\n",
              "      <td>3.0</td>\n",
              "      <td>3.0</td>\n",
              "    </tr>\n",
              "  </tbody>\n",
              "</table>\n",
              "</div>"
            ],
            "text/plain": [
              "    A1   A2   A3   A4   A5   C1   C2  ...   N4   N5   O1  O2   O3   O4   O5\n",
              "0  2.0  4.0  3.0  4.0  4.0  2.0  3.0  ...  2.0  3.0  3.0   6  3.0  4.0  3.0\n",
              "1  2.0  4.0  5.0  2.0  5.0  5.0  4.0  ...  5.0  5.0  4.0   2  4.0  3.0  3.0\n",
              "2  5.0  4.0  5.0  4.0  4.0  4.0  5.0  ...  2.0  3.0  4.0   2  5.0  5.0  2.0\n",
              "3  4.0  4.0  6.0  5.0  5.0  4.0  4.0  ...  4.0  1.0  3.0   3  4.0  3.0  5.0\n",
              "4  2.0  3.0  3.0  4.0  5.0  4.0  4.0  ...  4.0  3.0  3.0   3  4.0  3.0  3.0\n",
              "\n",
              "[5 rows x 25 columns]"
            ]
          },
          "metadata": {
            "tags": []
          },
          "execution_count": 45
        }
      ]
    },
    {
      "cell_type": "code",
      "metadata": {
        "colab": {
          "base_uri": "https://localhost:8080/"
        },
        "id": "31-luERSTec7",
        "outputId": "f930a56d-ca33-4506-e318-ef6e2b8873d3"
      },
      "source": [
        "BFI_data_dropped.shape"
      ],
      "execution_count": 46,
      "outputs": [
        {
          "output_type": "execute_result",
          "data": {
            "text/plain": [
              "(2800, 25)"
            ]
          },
          "metadata": {
            "tags": []
          },
          "execution_count": 46
        }
      ]
    },
    {
      "cell_type": "code",
      "metadata": {
        "id": "LoyE_Ax1T3PX",
        "colab": {
          "base_uri": "https://localhost:8080/",
          "height": 419
        },
        "outputId": "5822b2b2-9302-497a-e93d-a15d796e9971"
      },
      "source": [
        "BFI_data_dropped = BFI_data_dropped.dropna()         ###   .dropna ตัดแถวที่ไม่มีข้อมูล\n",
        "BFI_data_dropped"
      ],
      "execution_count": 47,
      "outputs": [
        {
          "output_type": "execute_result",
          "data": {
            "text/html": [
              "<div>\n",
              "<style scoped>\n",
              "    .dataframe tbody tr th:only-of-type {\n",
              "        vertical-align: middle;\n",
              "    }\n",
              "\n",
              "    .dataframe tbody tr th {\n",
              "        vertical-align: top;\n",
              "    }\n",
              "\n",
              "    .dataframe thead th {\n",
              "        text-align: right;\n",
              "    }\n",
              "</style>\n",
              "<table border=\"1\" class=\"dataframe\">\n",
              "  <thead>\n",
              "    <tr style=\"text-align: right;\">\n",
              "      <th></th>\n",
              "      <th>A1</th>\n",
              "      <th>A2</th>\n",
              "      <th>A3</th>\n",
              "      <th>A4</th>\n",
              "      <th>A5</th>\n",
              "      <th>C1</th>\n",
              "      <th>C2</th>\n",
              "      <th>C3</th>\n",
              "      <th>C4</th>\n",
              "      <th>C5</th>\n",
              "      <th>E1</th>\n",
              "      <th>E2</th>\n",
              "      <th>E3</th>\n",
              "      <th>E4</th>\n",
              "      <th>E5</th>\n",
              "      <th>N1</th>\n",
              "      <th>N2</th>\n",
              "      <th>N3</th>\n",
              "      <th>N4</th>\n",
              "      <th>N5</th>\n",
              "      <th>O1</th>\n",
              "      <th>O2</th>\n",
              "      <th>O3</th>\n",
              "      <th>O4</th>\n",
              "      <th>O5</th>\n",
              "    </tr>\n",
              "  </thead>\n",
              "  <tbody>\n",
              "    <tr>\n",
              "      <th>0</th>\n",
              "      <td>2.0</td>\n",
              "      <td>4.0</td>\n",
              "      <td>3.0</td>\n",
              "      <td>4.0</td>\n",
              "      <td>4.0</td>\n",
              "      <td>2.0</td>\n",
              "      <td>3.0</td>\n",
              "      <td>3.0</td>\n",
              "      <td>4.0</td>\n",
              "      <td>4.0</td>\n",
              "      <td>3.0</td>\n",
              "      <td>3.0</td>\n",
              "      <td>3.0</td>\n",
              "      <td>4.0</td>\n",
              "      <td>4.0</td>\n",
              "      <td>3.0</td>\n",
              "      <td>4.0</td>\n",
              "      <td>2.0</td>\n",
              "      <td>2.0</td>\n",
              "      <td>3.0</td>\n",
              "      <td>3.0</td>\n",
              "      <td>6</td>\n",
              "      <td>3.0</td>\n",
              "      <td>4.0</td>\n",
              "      <td>3.0</td>\n",
              "    </tr>\n",
              "    <tr>\n",
              "      <th>1</th>\n",
              "      <td>2.0</td>\n",
              "      <td>4.0</td>\n",
              "      <td>5.0</td>\n",
              "      <td>2.0</td>\n",
              "      <td>5.0</td>\n",
              "      <td>5.0</td>\n",
              "      <td>4.0</td>\n",
              "      <td>4.0</td>\n",
              "      <td>3.0</td>\n",
              "      <td>4.0</td>\n",
              "      <td>1.0</td>\n",
              "      <td>1.0</td>\n",
              "      <td>6.0</td>\n",
              "      <td>4.0</td>\n",
              "      <td>3.0</td>\n",
              "      <td>3.0</td>\n",
              "      <td>3.0</td>\n",
              "      <td>3.0</td>\n",
              "      <td>5.0</td>\n",
              "      <td>5.0</td>\n",
              "      <td>4.0</td>\n",
              "      <td>2</td>\n",
              "      <td>4.0</td>\n",
              "      <td>3.0</td>\n",
              "      <td>3.0</td>\n",
              "    </tr>\n",
              "    <tr>\n",
              "      <th>2</th>\n",
              "      <td>5.0</td>\n",
              "      <td>4.0</td>\n",
              "      <td>5.0</td>\n",
              "      <td>4.0</td>\n",
              "      <td>4.0</td>\n",
              "      <td>4.0</td>\n",
              "      <td>5.0</td>\n",
              "      <td>4.0</td>\n",
              "      <td>2.0</td>\n",
              "      <td>5.0</td>\n",
              "      <td>2.0</td>\n",
              "      <td>4.0</td>\n",
              "      <td>4.0</td>\n",
              "      <td>4.0</td>\n",
              "      <td>5.0</td>\n",
              "      <td>4.0</td>\n",
              "      <td>5.0</td>\n",
              "      <td>4.0</td>\n",
              "      <td>2.0</td>\n",
              "      <td>3.0</td>\n",
              "      <td>4.0</td>\n",
              "      <td>2</td>\n",
              "      <td>5.0</td>\n",
              "      <td>5.0</td>\n",
              "      <td>2.0</td>\n",
              "    </tr>\n",
              "    <tr>\n",
              "      <th>3</th>\n",
              "      <td>4.0</td>\n",
              "      <td>4.0</td>\n",
              "      <td>6.0</td>\n",
              "      <td>5.0</td>\n",
              "      <td>5.0</td>\n",
              "      <td>4.0</td>\n",
              "      <td>4.0</td>\n",
              "      <td>3.0</td>\n",
              "      <td>5.0</td>\n",
              "      <td>5.0</td>\n",
              "      <td>5.0</td>\n",
              "      <td>3.0</td>\n",
              "      <td>4.0</td>\n",
              "      <td>4.0</td>\n",
              "      <td>4.0</td>\n",
              "      <td>2.0</td>\n",
              "      <td>5.0</td>\n",
              "      <td>2.0</td>\n",
              "      <td>4.0</td>\n",
              "      <td>1.0</td>\n",
              "      <td>3.0</td>\n",
              "      <td>3</td>\n",
              "      <td>4.0</td>\n",
              "      <td>3.0</td>\n",
              "      <td>5.0</td>\n",
              "    </tr>\n",
              "    <tr>\n",
              "      <th>4</th>\n",
              "      <td>2.0</td>\n",
              "      <td>3.0</td>\n",
              "      <td>3.0</td>\n",
              "      <td>4.0</td>\n",
              "      <td>5.0</td>\n",
              "      <td>4.0</td>\n",
              "      <td>4.0</td>\n",
              "      <td>5.0</td>\n",
              "      <td>3.0</td>\n",
              "      <td>2.0</td>\n",
              "      <td>2.0</td>\n",
              "      <td>2.0</td>\n",
              "      <td>5.0</td>\n",
              "      <td>4.0</td>\n",
              "      <td>5.0</td>\n",
              "      <td>2.0</td>\n",
              "      <td>3.0</td>\n",
              "      <td>4.0</td>\n",
              "      <td>4.0</td>\n",
              "      <td>3.0</td>\n",
              "      <td>3.0</td>\n",
              "      <td>3</td>\n",
              "      <td>4.0</td>\n",
              "      <td>3.0</td>\n",
              "      <td>3.0</td>\n",
              "    </tr>\n",
              "    <tr>\n",
              "      <th>...</th>\n",
              "      <td>...</td>\n",
              "      <td>...</td>\n",
              "      <td>...</td>\n",
              "      <td>...</td>\n",
              "      <td>...</td>\n",
              "      <td>...</td>\n",
              "      <td>...</td>\n",
              "      <td>...</td>\n",
              "      <td>...</td>\n",
              "      <td>...</td>\n",
              "      <td>...</td>\n",
              "      <td>...</td>\n",
              "      <td>...</td>\n",
              "      <td>...</td>\n",
              "      <td>...</td>\n",
              "      <td>...</td>\n",
              "      <td>...</td>\n",
              "      <td>...</td>\n",
              "      <td>...</td>\n",
              "      <td>...</td>\n",
              "      <td>...</td>\n",
              "      <td>...</td>\n",
              "      <td>...</td>\n",
              "      <td>...</td>\n",
              "      <td>...</td>\n",
              "    </tr>\n",
              "    <tr>\n",
              "      <th>2793</th>\n",
              "      <td>3.0</td>\n",
              "      <td>4.0</td>\n",
              "      <td>3.0</td>\n",
              "      <td>1.0</td>\n",
              "      <td>3.0</td>\n",
              "      <td>5.0</td>\n",
              "      <td>4.0</td>\n",
              "      <td>5.0</td>\n",
              "      <td>3.0</td>\n",
              "      <td>4.0</td>\n",
              "      <td>3.0</td>\n",
              "      <td>5.0</td>\n",
              "      <td>2.0</td>\n",
              "      <td>3.0</td>\n",
              "      <td>1.0</td>\n",
              "      <td>5.0</td>\n",
              "      <td>6.0</td>\n",
              "      <td>5.0</td>\n",
              "      <td>5.0</td>\n",
              "      <td>6.0</td>\n",
              "      <td>6.0</td>\n",
              "      <td>1</td>\n",
              "      <td>4.0</td>\n",
              "      <td>5.0</td>\n",
              "      <td>2.0</td>\n",
              "    </tr>\n",
              "    <tr>\n",
              "      <th>2794</th>\n",
              "      <td>5.0</td>\n",
              "      <td>5.0</td>\n",
              "      <td>5.0</td>\n",
              "      <td>5.0</td>\n",
              "      <td>3.0</td>\n",
              "      <td>5.0</td>\n",
              "      <td>4.0</td>\n",
              "      <td>2.0</td>\n",
              "      <td>3.0</td>\n",
              "      <td>5.0</td>\n",
              "      <td>3.0</td>\n",
              "      <td>5.0</td>\n",
              "      <td>5.0</td>\n",
              "      <td>6.0</td>\n",
              "      <td>5.0</td>\n",
              "      <td>4.0</td>\n",
              "      <td>5.0</td>\n",
              "      <td>3.0</td>\n",
              "      <td>5.0</td>\n",
              "      <td>2.0</td>\n",
              "      <td>6.0</td>\n",
              "      <td>1</td>\n",
              "      <td>5.0</td>\n",
              "      <td>6.0</td>\n",
              "      <td>2.0</td>\n",
              "    </tr>\n",
              "    <tr>\n",
              "      <th>2797</th>\n",
              "      <td>2.0</td>\n",
              "      <td>3.0</td>\n",
              "      <td>5.0</td>\n",
              "      <td>2.0</td>\n",
              "      <td>5.0</td>\n",
              "      <td>5.0</td>\n",
              "      <td>5.0</td>\n",
              "      <td>5.0</td>\n",
              "      <td>1.0</td>\n",
              "      <td>1.0</td>\n",
              "      <td>2.0</td>\n",
              "      <td>2.0</td>\n",
              "      <td>6.0</td>\n",
              "      <td>3.0</td>\n",
              "      <td>6.0</td>\n",
              "      <td>3.0</td>\n",
              "      <td>4.0</td>\n",
              "      <td>3.0</td>\n",
              "      <td>3.0</td>\n",
              "      <td>1.0</td>\n",
              "      <td>5.0</td>\n",
              "      <td>1</td>\n",
              "      <td>6.0</td>\n",
              "      <td>4.0</td>\n",
              "      <td>3.0</td>\n",
              "    </tr>\n",
              "    <tr>\n",
              "      <th>2798</th>\n",
              "      <td>5.0</td>\n",
              "      <td>2.0</td>\n",
              "      <td>2.0</td>\n",
              "      <td>4.0</td>\n",
              "      <td>4.0</td>\n",
              "      <td>5.0</td>\n",
              "      <td>5.0</td>\n",
              "      <td>5.0</td>\n",
              "      <td>2.0</td>\n",
              "      <td>6.0</td>\n",
              "      <td>2.0</td>\n",
              "      <td>2.0</td>\n",
              "      <td>4.0</td>\n",
              "      <td>5.0</td>\n",
              "      <td>4.0</td>\n",
              "      <td>5.0</td>\n",
              "      <td>5.0</td>\n",
              "      <td>6.0</td>\n",
              "      <td>4.0</td>\n",
              "      <td>1.0</td>\n",
              "      <td>5.0</td>\n",
              "      <td>2</td>\n",
              "      <td>5.0</td>\n",
              "      <td>5.0</td>\n",
              "      <td>1.0</td>\n",
              "    </tr>\n",
              "    <tr>\n",
              "      <th>2799</th>\n",
              "      <td>2.0</td>\n",
              "      <td>3.0</td>\n",
              "      <td>1.0</td>\n",
              "      <td>4.0</td>\n",
              "      <td>2.0</td>\n",
              "      <td>5.0</td>\n",
              "      <td>5.0</td>\n",
              "      <td>3.0</td>\n",
              "      <td>3.0</td>\n",
              "      <td>3.0</td>\n",
              "      <td>3.0</td>\n",
              "      <td>3.0</td>\n",
              "      <td>1.0</td>\n",
              "      <td>2.0</td>\n",
              "      <td>2.0</td>\n",
              "      <td>1.0</td>\n",
              "      <td>2.0</td>\n",
              "      <td>2.0</td>\n",
              "      <td>1.0</td>\n",
              "      <td>1.0</td>\n",
              "      <td>3.0</td>\n",
              "      <td>1</td>\n",
              "      <td>3.0</td>\n",
              "      <td>5.0</td>\n",
              "      <td>1.0</td>\n",
              "    </tr>\n",
              "  </tbody>\n",
              "</table>\n",
              "<p>2436 rows × 25 columns</p>\n",
              "</div>"
            ],
            "text/plain": [
              "       A1   A2   A3   A4   A5   C1   C2  ...   N4   N5   O1  O2   O3   O4   O5\n",
              "0     2.0  4.0  3.0  4.0  4.0  2.0  3.0  ...  2.0  3.0  3.0   6  3.0  4.0  3.0\n",
              "1     2.0  4.0  5.0  2.0  5.0  5.0  4.0  ...  5.0  5.0  4.0   2  4.0  3.0  3.0\n",
              "2     5.0  4.0  5.0  4.0  4.0  4.0  5.0  ...  2.0  3.0  4.0   2  5.0  5.0  2.0\n",
              "3     4.0  4.0  6.0  5.0  5.0  4.0  4.0  ...  4.0  1.0  3.0   3  4.0  3.0  5.0\n",
              "4     2.0  3.0  3.0  4.0  5.0  4.0  4.0  ...  4.0  3.0  3.0   3  4.0  3.0  3.0\n",
              "...   ...  ...  ...  ...  ...  ...  ...  ...  ...  ...  ...  ..  ...  ...  ...\n",
              "2793  3.0  4.0  3.0  1.0  3.0  5.0  4.0  ...  5.0  6.0  6.0   1  4.0  5.0  2.0\n",
              "2794  5.0  5.0  5.0  5.0  3.0  5.0  4.0  ...  5.0  2.0  6.0   1  5.0  6.0  2.0\n",
              "2797  2.0  3.0  5.0  2.0  5.0  5.0  5.0  ...  3.0  1.0  5.0   1  6.0  4.0  3.0\n",
              "2798  5.0  2.0  2.0  4.0  4.0  5.0  5.0  ...  4.0  1.0  5.0   2  5.0  5.0  1.0\n",
              "2799  2.0  3.0  1.0  4.0  2.0  5.0  5.0  ...  1.0  1.0  3.0   1  3.0  5.0  1.0\n",
              "\n",
              "[2436 rows x 25 columns]"
            ]
          },
          "metadata": {
            "tags": []
          },
          "execution_count": 47
        }
      ]
    },
    {
      "cell_type": "markdown",
      "metadata": {
        "id": "N6P0-2aD07p7"
      },
      "source": [
        " ## Bartlett’s test\n",
        "\n",
        " p-value เข้าใกล้ 0 ดี"
      ]
    },
    {
      "cell_type": "code",
      "metadata": {
        "id": "MHL6Q0nq0S5Q",
        "colab": {
          "base_uri": "https://localhost:8080/"
        },
        "outputId": "06676053-9ec1-454e-e460-e90564fb967e"
      },
      "source": [
        "from factor_analyzer.factor_analyzer import calculate_bartlett_sphericity      ### import function ที่ต้องการใช้งาน\n",
        "\n",
        "chi_square_value,p_value=calculate_bartlett_sphericity(BFI_data_dropped)        \n",
        "\n",
        "chi_square_value, p_value"
      ],
      "execution_count": 48,
      "outputs": [
        {
          "output_type": "execute_result",
          "data": {
            "text/plain": [
              "(18170.966350869243, 0.0)"
            ]
          },
          "metadata": {
            "tags": []
          },
          "execution_count": 48
        }
      ]
    },
    {
      "cell_type": "markdown",
      "metadata": {
        "id": "cSGwO8z62Rzo"
      },
      "source": [
        "## Kaiser-Meyer-Olkin (KMO) Test"
      ]
    },
    {
      "cell_type": "markdown",
      "metadata": {
        "id": "i461foja2-C9"
      },
      "source": [
        "ถ้าค่า KMO model มีค่ามากกว่า 0.6 แปลว่าข้อมูลเหมาะสมที่จะนำไปใช้"
      ]
    },
    {
      "cell_type": "code",
      "metadata": {
        "id": "wQ9e3mF81C1X",
        "colab": {
          "base_uri": "https://localhost:8080/"
        },
        "outputId": "78fde559-21e8-4e38-9130-f176bb8f5070"
      },
      "source": [
        "from factor_analyzer.factor_analyzer import calculate_kmo\n",
        "\n",
        "kmo_all,kmo_model=calculate_kmo(BFI_data_dropped)\n",
        "\n",
        "kmo_model"
      ],
      "execution_count": 49,
      "outputs": [
        {
          "output_type": "execute_result",
          "data": {
            "text/plain": [
              "0.8485397221949221"
            ]
          },
          "metadata": {
            "tags": []
          },
          "execution_count": 49
        }
      ]
    },
    {
      "cell_type": "markdown",
      "metadata": {
        "id": "ca1y36en4x2C"
      },
      "source": [
        "## Factor Analysis"
      ]
    },
    {
      "cell_type": "markdown",
      "metadata": {
        "id": "z2YP4_hB6SwY"
      },
      "source": [
        "### Import"
      ]
    },
    {
      "cell_type": "code",
      "metadata": {
        "id": "mGLCUyC26cQU"
      },
      "source": [
        "from factor_analyzer import FactorAnalyzer"
      ],
      "execution_count": 50,
      "outputs": []
    },
    {
      "cell_type": "markdown",
      "metadata": {
        "id": "i_L47jPH6qn1"
      },
      "source": [
        "### Define"
      ]
    },
    {
      "cell_type": "code",
      "metadata": {
        "id": "-uLKybP58j08"
      },
      "source": [
        "fa = FactorAnalyzer(n_factors=20)"
      ],
      "execution_count": 51,
      "outputs": []
    },
    {
      "cell_type": "markdown",
      "metadata": {
        "id": "rDRpVori8qRc"
      },
      "source": [
        "### Fit-transform"
      ]
    },
    {
      "cell_type": "code",
      "metadata": {
        "id": "uXglBW_W8yxo"
      },
      "source": [
        "data_fa = fa.fit_transform(BFI_data_dropped)"
      ],
      "execution_count": 52,
      "outputs": []
    },
    {
      "cell_type": "code",
      "metadata": {
        "id": "_1_IuSC89J5j",
        "colab": {
          "base_uri": "https://localhost:8080/"
        },
        "outputId": "68d8cc43-aa0c-4924-88f8-cfdc8f386a63"
      },
      "source": [
        "data_fa.shape"
      ],
      "execution_count": 53,
      "outputs": [
        {
          "output_type": "execute_result",
          "data": {
            "text/plain": [
              "(2436, 20)"
            ]
          },
          "metadata": {
            "tags": []
          },
          "execution_count": 53
        }
      ]
    },
    {
      "cell_type": "markdown",
      "metadata": {
        "id": "tR0eVMB_-jho"
      },
      "source": [
        "### วิธีตัดสินว่าเราจะลดเหลือกกี่ dimension (มี factor ทั้งหมดกี่ตัว)"
      ]
    },
    {
      "cell_type": "code",
      "metadata": {
        "id": "RqqbbTXG9hli"
      },
      "source": [
        "ev,v = fa.get_eigenvalues()"
      ],
      "execution_count": 54,
      "outputs": []
    },
    {
      "cell_type": "markdown",
      "metadata": {
        "id": "fO2bUAop-0nc"
      },
      "source": [
        "#### ใช้ eigen values"
      ]
    },
    {
      "cell_type": "code",
      "metadata": {
        "id": "CgY5wz7s-hUc",
        "colab": {
          "base_uri": "https://localhost:8080/"
        },
        "outputId": "720d5615-7a07-447e-d611-d56b1ce390cb"
      },
      "source": [
        "ev"
      ],
      "execution_count": 55,
      "outputs": [
        {
          "output_type": "execute_result",
          "data": {
            "text/plain": [
              "array([5.13431118, 2.75188667, 2.14270195, 1.85232761, 1.54816285,\n",
              "       1.07358247, 0.83953893, 0.79920618, 0.71898919, 0.68808879,\n",
              "       0.67637336, 0.65179984, 0.62325295, 0.59656284, 0.56309083,\n",
              "       0.54330533, 0.51451752, 0.49450315, 0.48263952, 0.448921  ,\n",
              "       0.42336611, 0.40067145, 0.38780448, 0.38185679, 0.26253902])"
            ]
          },
          "metadata": {
            "tags": []
          },
          "execution_count": 55
        }
      ]
    },
    {
      "cell_type": "markdown",
      "metadata": {
        "id": "iviP_83c_L-d"
      },
      "source": [
        "#### scree plot"
      ]
    },
    {
      "cell_type": "code",
      "metadata": {
        "id": "MjUpAw61_HIm",
        "colab": {
          "base_uri": "https://localhost:8080/",
          "height": 0
        },
        "outputId": "af9edba8-9dd8-488e-f802-3b7bc70d26fc"
      },
      "source": [
        "# Create scree plot using matplotlib\n",
        "plt.plot(range(1,BFI_data_dropped.shape[1]+1),ev,'bo-')\n",
        "plt.plot([0,BFI_data_dropped.shape[1]+1],[1,1],'r--')\n",
        "plt.title('Scree Plot')\n",
        "plt.xlabel('Factors')\n",
        "plt.ylabel('Eigenvalue')\n",
        "plt.grid()\n",
        "plt.show()"
      ],
      "execution_count": 56,
      "outputs": [
        {
          "output_type": "display_data",
          "data": {
            "image/png": "[encoded data removed]",
            "text/plain": [
              "<Figure size 1080x1080 with 1 Axes>"
            ]
          },
          "metadata": {
            "tags": [],
            "needs_background": "light"
          }
        }
      ]
    },
    {
      "cell_type": "code",
      "metadata": {
        "id": "muuc33EO_G2y",
        "colab": {
          "base_uri": "https://localhost:8080/"
        },
        "outputId": "681701fa-3138-48a2-bd15-b31e61c8f075"
      },
      "source": [
        "data_fa[:,:6]"
      ],
      "execution_count": 57,
      "outputs": [
        {
          "output_type": "execute_result",
          "data": {
            "text/plain": [
              "array([[-0.89749661, -0.12809666, -1.22649076,  1.08665889,  0.42476701,\n",
              "         0.03981611],\n",
              "       [ 0.33679356, -0.15018138, -0.04332274, -0.10339328,  0.29665648,\n",
              "        -1.11019718],\n",
              "       [-0.24521029,  0.80409961,  0.39343377, -0.30106518,  0.82703928,\n",
              "        -0.2982022 ],\n",
              "       ...,\n",
              "       [ 0.38724631, -0.02183587,  1.19616826, -1.19357208,  0.79669501,\n",
              "        -0.95295109],\n",
              "       [-0.75695976,  0.94984758,  1.24363484, -1.15230215,  2.2534133 ,\n",
              "        -1.0218667 ],\n",
              "       [-2.35583952, -1.49829856,  0.49436981, -1.64734311,  0.94742323,\n",
              "         0.43462495]])"
            ]
          },
          "metadata": {
            "tags": []
          },
          "execution_count": 57
        }
      ]
    },
    {
      "cell_type": "markdown",
      "metadata": {
        "id": "5e8vAvk7MilI"
      },
      "source": [
        "### รัน Factor Analyzer อีกรอบ ด้วย paremeters จำนวน factor เท่ากับ 6"
      ]
    },
    {
      "cell_type": "code",
      "metadata": {
        "id": "CxEYT-JXNPcp"
      },
      "source": [
        "from factor_analyzer import FactorAnalyzer\n",
        "fa2 = FactorAnalyzer(n_factors=6)\n",
        "data_fa2 = fa2.fit_transform(BFI_data_dropped)"
      ],
      "execution_count": 58,
      "outputs": []
    },
    {
      "cell_type": "code",
      "metadata": {
        "id": "Df19HrmwOzNB",
        "colab": {
          "base_uri": "https://localhost:8080/"
        },
        "outputId": "9f1768ba-cc9d-4c08-ef0e-8cc8983a8204"
      },
      "source": [
        "fa2.loadings_.shape"
      ],
      "execution_count": 59,
      "outputs": [
        {
          "output_type": "execute_result",
          "data": {
            "text/plain": [
              "(25, 6)"
            ]
          },
          "metadata": {
            "tags": []
          },
          "execution_count": 59
        }
      ]
    },
    {
      "cell_type": "markdown",
      "metadata": {
        "id": "Ma0-8AryPP54"
      },
      "source": [
        "#### Plot factor loadings"
      ]
    },
    {
      "cell_type": "code",
      "metadata": {
        "id": "xo3jdnKeDYRI"
      },
      "source": [
        "from matplotlib import pyplot as plt\n",
        "import numpy as np\n",
        "import matplotlib"
      ],
      "execution_count": 60,
      "outputs": []
    },
    {
      "cell_type": "markdown",
      "metadata": {
        "id": "JC3y3O5PQ1YW"
      },
      "source": [
        "### matrix plot\n",
        "\n",
        "confimatory"
      ]
    },
    {
      "cell_type": "code",
      "metadata": {
        "id": "84DQCuqaPh8O",
        "colab": {
          "base_uri": "https://localhost:8080/",
          "height": 0
        },
        "outputId": "93894a4d-047e-4c45-8f56-2e57d0cef78c"
      },
      "source": [
        "matplotlib.rcParams['figure.figsize']=[15,15]\n",
        "plt.imshow(np.absolute(fa2.loadings_))"
      ],
      "execution_count": 61,
      "outputs": [
        {
          "output_type": "execute_result",
          "data": {
            "text/plain": [
              "<matplotlib.image.AxesImage at 0x7f660bfa9dd0>"
            ]
          },
          "metadata": {
            "tags": []
          },
          "execution_count": 61
        },
        {
          "output_type": "display_data",
          "data": {
            "image/png": "[encoded data removed]",
            "text/plain": [
              "<Figure size 1080x1080 with 1 Axes>"
            ]
          },
          "metadata": {
            "tags": [],
            "needs_background": "light"
          }
        }
      ]
    },
    {
      "cell_type": "markdown",
      "metadata": {
        "id": "4TkLvDDyRGJA"
      },
      "source": [
        "### กราฟแท่ง\n",
        "\n",
        "Exploratory"
      ]
    },
    {
      "cell_type": "code",
      "metadata": {
        "id": "u1AmOnsMRRY-",
        "colab": {
          "base_uri": "https://localhost:8080/"
        },
        "outputId": "70c1a054-5427-4628-cc82-3164ab6b3a3f"
      },
      "source": [
        "BFI_data_dropped.columns"
      ],
      "execution_count": 62,
      "outputs": [
        {
          "output_type": "execute_result",
          "data": {
            "text/plain": [
              "Index(['A1', 'A2', 'A3', 'A4', 'A5', 'C1', 'C2', 'C3', 'C4', 'C5', 'E1', 'E2',\n",
              "       'E3', 'E4', 'E5', 'N1', 'N2', 'N3', 'N4', 'N5', 'O1', 'O2', 'O3', 'O4',\n",
              "       'O5'],\n",
              "      dtype='object')"
            ]
          },
          "metadata": {
            "tags": []
          },
          "execution_count": 62
        }
      ]
    },
    {
      "cell_type": "code",
      "metadata": {
        "id": "0Q86FrBVQod4",
        "colab": {
          "base_uri": "https://localhost:8080/",
          "height": 880
        },
        "outputId": "046bb22b-31aa-4f9e-cd8e-57bb170fe570"
      },
      "source": [
        "plt.bar(range(25),np.absolute(fa2.loadings_[:,0]),tick_label=BFI_data_dropped.columns)"
      ],
      "execution_count": 63,
      "outputs": [
        {
          "output_type": "execute_result",
          "data": {
            "text/plain": [
              "<BarContainer object of 25 artists>"
            ]
          },
          "metadata": {
            "tags": []
          },
          "execution_count": 63
        },
        {
          "output_type": "display_data",
          "data": {
            "image/png": "[encoded data removed]",
            "text/plain": [
              "<Figure size 1080x1080 with 1 Axes>"
            ]
          },
          "metadata": {
            "tags": [],
            "needs_background": "light"
          }
        }
      ]
    },
    {
      "cell_type": "markdown",
      "metadata": {
        "id": "Pp9YOIMIR9mV"
      },
      "source": [
        "# Exam 3\n",
        "\n",
        "ทำ Factor Analysis ข้อมูล Fifa 2018  https://drive.google.com/file/d/1UORRKWMb8GCN455eJE_n9MvBHupnSVwv/view?usp=sharing"
      ]
    },
    {
      "cell_type": "code",
      "metadata": {
        "id": "dEcF_okATXnI"
      },
      "source": [
        "import pandas as pd"
      ],
      "execution_count": 97,
      "outputs": []
    },
    {
      "cell_type": "code",
      "metadata": {
        "id": "BpOjj-9BSro0",
        "colab": {
          "base_uri": "https://localhost:8080/",
          "height": 623
        },
        "outputId": "1835781e-a437-4ec3-d15c-90d48efb04be"
      },
      "source": [
        "Fifa_data = pd.read_csv('/content/FIFA 2018 Statistics.csv')\n",
        "Fifa_data"
      ],
      "execution_count": 98,
      "outputs": [
        {
          "output_type": "execute_result",
          "data": {
            "text/html": [
              "<div>\n",
              "<style scoped>\n",
              "    .dataframe tbody tr th:only-of-type {\n",
              "        vertical-align: middle;\n",
              "    }\n",
              "\n",
              "    .dataframe tbody tr th {\n",
              "        vertical-align: top;\n",
              "    }\n",
              "\n",
              "    .dataframe thead th {\n",
              "        text-align: right;\n",
              "    }\n",
              "</style>\n",
              "<table border=\"1\" class=\"dataframe\">\n",
              "  <thead>\n",
              "    <tr style=\"text-align: right;\">\n",
              "      <th></th>\n",
              "      <th>Date</th>\n",
              "      <th>Team</th>\n",
              "      <th>Opponent</th>\n",
              "      <th>Goal Scored</th>\n",
              "      <th>Ball Possession %</th>\n",
              "      <th>Attempts</th>\n",
              "      <th>On-Target</th>\n",
              "      <th>Off-Target</th>\n",
              "      <th>Blocked</th>\n",
              "      <th>Corners</th>\n",
              "      <th>Offsides</th>\n",
              "      <th>Free Kicks</th>\n",
              "      <th>Saves</th>\n",
              "      <th>Pass Accuracy %</th>\n",
              "      <th>Passes</th>\n",
              "      <th>Distance Covered (Kms)</th>\n",
              "      <th>Fouls Committed</th>\n",
              "      <th>Yellow Card</th>\n",
              "      <th>Yellow &amp; Red</th>\n",
              "      <th>Red</th>\n",
              "      <th>Man of the Match</th>\n",
              "      <th>1st Goal</th>\n",
              "      <th>Round</th>\n",
              "      <th>PSO</th>\n",
              "      <th>Goals in PSO</th>\n",
              "      <th>Own goals</th>\n",
              "      <th>Own goal Time</th>\n",
              "    </tr>\n",
              "  </thead>\n",
              "  <tbody>\n",
              "    <tr>\n",
              "      <th>0</th>\n",
              "      <td>14-06-2018</td>\n",
              "      <td>Russia</td>\n",
              "      <td>Saudi Arabia</td>\n",
              "      <td>5</td>\n",
              "      <td>40</td>\n",
              "      <td>13</td>\n",
              "      <td>7</td>\n",
              "      <td>3</td>\n",
              "      <td>3</td>\n",
              "      <td>6</td>\n",
              "      <td>3</td>\n",
              "      <td>11</td>\n",
              "      <td>0</td>\n",
              "      <td>78</td>\n",
              "      <td>306</td>\n",
              "      <td>118</td>\n",
              "      <td>22</td>\n",
              "      <td>0</td>\n",
              "      <td>0</td>\n",
              "      <td>0</td>\n",
              "      <td>Yes</td>\n",
              "      <td>12.0</td>\n",
              "      <td>Group Stage</td>\n",
              "      <td>No</td>\n",
              "      <td>0</td>\n",
              "      <td>NaN</td>\n",
              "      <td>NaN</td>\n",
              "    </tr>\n",
              "    <tr>\n",
              "      <th>1</th>\n",
              "      <td>14-06-2018</td>\n",
              "      <td>Saudi Arabia</td>\n",
              "      <td>Russia</td>\n",
              "      <td>0</td>\n",
              "      <td>60</td>\n",
              "      <td>6</td>\n",
              "      <td>0</td>\n",
              "      <td>3</td>\n",
              "      <td>3</td>\n",
              "      <td>2</td>\n",
              "      <td>1</td>\n",
              "      <td>25</td>\n",
              "      <td>2</td>\n",
              "      <td>86</td>\n",
              "      <td>511</td>\n",
              "      <td>105</td>\n",
              "      <td>10</td>\n",
              "      <td>0</td>\n",
              "      <td>0</td>\n",
              "      <td>0</td>\n",
              "      <td>No</td>\n",
              "      <td>NaN</td>\n",
              "      <td>Group Stage</td>\n",
              "      <td>No</td>\n",
              "      <td>0</td>\n",
              "      <td>NaN</td>\n",
              "      <td>NaN</td>\n",
              "    </tr>\n",
              "    <tr>\n",
              "      <th>2</th>\n",
              "      <td>15-06-2018</td>\n",
              "      <td>Egypt</td>\n",
              "      <td>Uruguay</td>\n",
              "      <td>0</td>\n",
              "      <td>43</td>\n",
              "      <td>8</td>\n",
              "      <td>3</td>\n",
              "      <td>3</td>\n",
              "      <td>2</td>\n",
              "      <td>0</td>\n",
              "      <td>1</td>\n",
              "      <td>7</td>\n",
              "      <td>3</td>\n",
              "      <td>78</td>\n",
              "      <td>395</td>\n",
              "      <td>112</td>\n",
              "      <td>12</td>\n",
              "      <td>2</td>\n",
              "      <td>0</td>\n",
              "      <td>0</td>\n",
              "      <td>No</td>\n",
              "      <td>NaN</td>\n",
              "      <td>Group Stage</td>\n",
              "      <td>No</td>\n",
              "      <td>0</td>\n",
              "      <td>NaN</td>\n",
              "      <td>NaN</td>\n",
              "    </tr>\n",
              "    <tr>\n",
              "      <th>3</th>\n",
              "      <td>15-06-2018</td>\n",
              "      <td>Uruguay</td>\n",
              "      <td>Egypt</td>\n",
              "      <td>1</td>\n",
              "      <td>57</td>\n",
              "      <td>14</td>\n",
              "      <td>4</td>\n",
              "      <td>6</td>\n",
              "      <td>4</td>\n",
              "      <td>5</td>\n",
              "      <td>1</td>\n",
              "      <td>13</td>\n",
              "      <td>3</td>\n",
              "      <td>86</td>\n",
              "      <td>589</td>\n",
              "      <td>111</td>\n",
              "      <td>6</td>\n",
              "      <td>0</td>\n",
              "      <td>0</td>\n",
              "      <td>0</td>\n",
              "      <td>Yes</td>\n",
              "      <td>89.0</td>\n",
              "      <td>Group Stage</td>\n",
              "      <td>No</td>\n",
              "      <td>0</td>\n",
              "      <td>NaN</td>\n",
              "      <td>NaN</td>\n",
              "    </tr>\n",
              "    <tr>\n",
              "      <th>4</th>\n",
              "      <td>15-06-2018</td>\n",
              "      <td>Morocco</td>\n",
              "      <td>Iran</td>\n",
              "      <td>0</td>\n",
              "      <td>64</td>\n",
              "      <td>13</td>\n",
              "      <td>3</td>\n",
              "      <td>6</td>\n",
              "      <td>4</td>\n",
              "      <td>5</td>\n",
              "      <td>0</td>\n",
              "      <td>14</td>\n",
              "      <td>2</td>\n",
              "      <td>86</td>\n",
              "      <td>433</td>\n",
              "      <td>101</td>\n",
              "      <td>22</td>\n",
              "      <td>1</td>\n",
              "      <td>0</td>\n",
              "      <td>0</td>\n",
              "      <td>No</td>\n",
              "      <td>NaN</td>\n",
              "      <td>Group Stage</td>\n",
              "      <td>No</td>\n",
              "      <td>0</td>\n",
              "      <td>1.0</td>\n",
              "      <td>90.0</td>\n",
              "    </tr>\n",
              "    <tr>\n",
              "      <th>...</th>\n",
              "      <td>...</td>\n",
              "      <td>...</td>\n",
              "      <td>...</td>\n",
              "      <td>...</td>\n",
              "      <td>...</td>\n",
              "      <td>...</td>\n",
              "      <td>...</td>\n",
              "      <td>...</td>\n",
              "      <td>...</td>\n",
              "      <td>...</td>\n",
              "      <td>...</td>\n",
              "      <td>...</td>\n",
              "      <td>...</td>\n",
              "      <td>...</td>\n",
              "      <td>...</td>\n",
              "      <td>...</td>\n",
              "      <td>...</td>\n",
              "      <td>...</td>\n",
              "      <td>...</td>\n",
              "      <td>...</td>\n",
              "      <td>...</td>\n",
              "      <td>...</td>\n",
              "      <td>...</td>\n",
              "      <td>...</td>\n",
              "      <td>...</td>\n",
              "      <td>...</td>\n",
              "      <td>...</td>\n",
              "    </tr>\n",
              "    <tr>\n",
              "      <th>123</th>\n",
              "      <td>11-07-2018</td>\n",
              "      <td>England</td>\n",
              "      <td>Croatia</td>\n",
              "      <td>1</td>\n",
              "      <td>46</td>\n",
              "      <td>11</td>\n",
              "      <td>1</td>\n",
              "      <td>6</td>\n",
              "      <td>4</td>\n",
              "      <td>4</td>\n",
              "      <td>3</td>\n",
              "      <td>24</td>\n",
              "      <td>5</td>\n",
              "      <td>79</td>\n",
              "      <td>479</td>\n",
              "      <td>148</td>\n",
              "      <td>14</td>\n",
              "      <td>1</td>\n",
              "      <td>0</td>\n",
              "      <td>0</td>\n",
              "      <td>No</td>\n",
              "      <td>5.0</td>\n",
              "      <td>Semi- Finals</td>\n",
              "      <td>No</td>\n",
              "      <td>0</td>\n",
              "      <td>NaN</td>\n",
              "      <td>NaN</td>\n",
              "    </tr>\n",
              "    <tr>\n",
              "      <th>124</th>\n",
              "      <td>14-07-2018</td>\n",
              "      <td>Belgium</td>\n",
              "      <td>England</td>\n",
              "      <td>2</td>\n",
              "      <td>43</td>\n",
              "      <td>12</td>\n",
              "      <td>4</td>\n",
              "      <td>3</td>\n",
              "      <td>5</td>\n",
              "      <td>4</td>\n",
              "      <td>1</td>\n",
              "      <td>5</td>\n",
              "      <td>5</td>\n",
              "      <td>88</td>\n",
              "      <td>510</td>\n",
              "      <td>108</td>\n",
              "      <td>11</td>\n",
              "      <td>1</td>\n",
              "      <td>0</td>\n",
              "      <td>0</td>\n",
              "      <td>Yes</td>\n",
              "      <td>4.0</td>\n",
              "      <td>3rd Place</td>\n",
              "      <td>No</td>\n",
              "      <td>0</td>\n",
              "      <td>NaN</td>\n",
              "      <td>NaN</td>\n",
              "    </tr>\n",
              "    <tr>\n",
              "      <th>125</th>\n",
              "      <td>14-07-2018</td>\n",
              "      <td>England</td>\n",
              "      <td>Belgium</td>\n",
              "      <td>0</td>\n",
              "      <td>57</td>\n",
              "      <td>15</td>\n",
              "      <td>5</td>\n",
              "      <td>7</td>\n",
              "      <td>3</td>\n",
              "      <td>5</td>\n",
              "      <td>0</td>\n",
              "      <td>12</td>\n",
              "      <td>2</td>\n",
              "      <td>92</td>\n",
              "      <td>698</td>\n",
              "      <td>110</td>\n",
              "      <td>5</td>\n",
              "      <td>2</td>\n",
              "      <td>0</td>\n",
              "      <td>0</td>\n",
              "      <td>No</td>\n",
              "      <td>NaN</td>\n",
              "      <td>3rd Place</td>\n",
              "      <td>No</td>\n",
              "      <td>0</td>\n",
              "      <td>NaN</td>\n",
              "      <td>NaN</td>\n",
              "    </tr>\n",
              "    <tr>\n",
              "      <th>126</th>\n",
              "      <td>15-07-2018</td>\n",
              "      <td>France</td>\n",
              "      <td>Croatia</td>\n",
              "      <td>4</td>\n",
              "      <td>39</td>\n",
              "      <td>8</td>\n",
              "      <td>6</td>\n",
              "      <td>1</td>\n",
              "      <td>1</td>\n",
              "      <td>2</td>\n",
              "      <td>1</td>\n",
              "      <td>14</td>\n",
              "      <td>1</td>\n",
              "      <td>75</td>\n",
              "      <td>271</td>\n",
              "      <td>99</td>\n",
              "      <td>14</td>\n",
              "      <td>2</td>\n",
              "      <td>0</td>\n",
              "      <td>0</td>\n",
              "      <td>Yes</td>\n",
              "      <td>18.0</td>\n",
              "      <td>Final</td>\n",
              "      <td>No</td>\n",
              "      <td>0</td>\n",
              "      <td>1.0</td>\n",
              "      <td>18.0</td>\n",
              "    </tr>\n",
              "    <tr>\n",
              "      <th>127</th>\n",
              "      <td>15-07-2018</td>\n",
              "      <td>Croatia</td>\n",
              "      <td>France</td>\n",
              "      <td>2</td>\n",
              "      <td>61</td>\n",
              "      <td>15</td>\n",
              "      <td>3</td>\n",
              "      <td>8</td>\n",
              "      <td>4</td>\n",
              "      <td>6</td>\n",
              "      <td>1</td>\n",
              "      <td>15</td>\n",
              "      <td>3</td>\n",
              "      <td>83</td>\n",
              "      <td>547</td>\n",
              "      <td>100</td>\n",
              "      <td>13</td>\n",
              "      <td>1</td>\n",
              "      <td>0</td>\n",
              "      <td>0</td>\n",
              "      <td>No</td>\n",
              "      <td>28.0</td>\n",
              "      <td>Final</td>\n",
              "      <td>No</td>\n",
              "      <td>0</td>\n",
              "      <td>NaN</td>\n",
              "      <td>NaN</td>\n",
              "    </tr>\n",
              "  </tbody>\n",
              "</table>\n",
              "<p>128 rows × 27 columns</p>\n",
              "</div>"
            ],
            "text/plain": [
              "           Date          Team  ... Own goals  Own goal Time\n",
              "0    14-06-2018        Russia  ...       NaN            NaN\n",
              "1    14-06-2018  Saudi Arabia  ...       NaN            NaN\n",
              "2    15-06-2018         Egypt  ...       NaN            NaN\n",
              "3    15-06-2018       Uruguay  ...       NaN            NaN\n",
              "4    15-06-2018       Morocco  ...       1.0           90.0\n",
              "..          ...           ...  ...       ...            ...\n",
              "123  11-07-2018       England  ...       NaN            NaN\n",
              "124  14-07-2018       Belgium  ...       NaN            NaN\n",
              "125  14-07-2018       England  ...       NaN            NaN\n",
              "126  15-07-2018        France  ...       1.0           18.0\n",
              "127  15-07-2018       Croatia  ...       NaN            NaN\n",
              "\n",
              "[128 rows x 27 columns]"
            ]
          },
          "metadata": {
            "tags": []
          },
          "execution_count": 98
        }
      ]
    },
    {
      "cell_type": "code",
      "metadata": {
        "id": "D1MaO82nS9Fm",
        "colab": {
          "base_uri": "https://localhost:8080/"
        },
        "outputId": "5f4fc6b9-8b17-4b6e-faf6-d9873b0972a5"
      },
      "source": [
        "Fifa_data.shape       ### ดูขนาด"
      ],
      "execution_count": 66,
      "outputs": [
        {
          "output_type": "execute_result",
          "data": {
            "text/plain": [
              "(128, 27)"
            ]
          },
          "metadata": {
            "tags": []
          },
          "execution_count": 66
        }
      ]
    },
    {
      "cell_type": "code",
      "metadata": {
        "id": "kcB6PP71bDhB",
        "colab": {
          "base_uri": "https://localhost:8080/",
          "height": 419
        },
        "outputId": "860c334b-bec7-45a5-f818-c8932e6a0a15"
      },
      "source": [
        "Fifa_data_dropped = Fifa_data.iloc[:,3:-7]       ### เลือกมาเฉพาะข้อมูลที่เป็นตัวเลข\n",
        "Fifa_data_dropped"
      ],
      "execution_count": 67,
      "outputs": [
        {
          "output_type": "execute_result",
          "data": {
            "text/html": [
              "<div>\n",
              "<style scoped>\n",
              "    .dataframe tbody tr th:only-of-type {\n",
              "        vertical-align: middle;\n",
              "    }\n",
              "\n",
              "    .dataframe tbody tr th {\n",
              "        vertical-align: top;\n",
              "    }\n",
              "\n",
              "    .dataframe thead th {\n",
              "        text-align: right;\n",
              "    }\n",
              "</style>\n",
              "<table border=\"1\" class=\"dataframe\">\n",
              "  <thead>\n",
              "    <tr style=\"text-align: right;\">\n",
              "      <th></th>\n",
              "      <th>Goal Scored</th>\n",
              "      <th>Ball Possession %</th>\n",
              "      <th>Attempts</th>\n",
              "      <th>On-Target</th>\n",
              "      <th>Off-Target</th>\n",
              "      <th>Blocked</th>\n",
              "      <th>Corners</th>\n",
              "      <th>Offsides</th>\n",
              "      <th>Free Kicks</th>\n",
              "      <th>Saves</th>\n",
              "      <th>Pass Accuracy %</th>\n",
              "      <th>Passes</th>\n",
              "      <th>Distance Covered (Kms)</th>\n",
              "      <th>Fouls Committed</th>\n",
              "      <th>Yellow Card</th>\n",
              "      <th>Yellow &amp; Red</th>\n",
              "      <th>Red</th>\n",
              "    </tr>\n",
              "  </thead>\n",
              "  <tbody>\n",
              "    <tr>\n",
              "      <th>0</th>\n",
              "      <td>5</td>\n",
              "      <td>40</td>\n",
              "      <td>13</td>\n",
              "      <td>7</td>\n",
              "      <td>3</td>\n",
              "      <td>3</td>\n",
              "      <td>6</td>\n",
              "      <td>3</td>\n",
              "      <td>11</td>\n",
              "      <td>0</td>\n",
              "      <td>78</td>\n",
              "      <td>306</td>\n",
              "      <td>118</td>\n",
              "      <td>22</td>\n",
              "      <td>0</td>\n",
              "      <td>0</td>\n",
              "      <td>0</td>\n",
              "    </tr>\n",
              "    <tr>\n",
              "      <th>1</th>\n",
              "      <td>0</td>\n",
              "      <td>60</td>\n",
              "      <td>6</td>\n",
              "      <td>0</td>\n",
              "      <td>3</td>\n",
              "      <td>3</td>\n",
              "      <td>2</td>\n",
              "      <td>1</td>\n",
              "      <td>25</td>\n",
              "      <td>2</td>\n",
              "      <td>86</td>\n",
              "      <td>511</td>\n",
              "      <td>105</td>\n",
              "      <td>10</td>\n",
              "      <td>0</td>\n",
              "      <td>0</td>\n",
              "      <td>0</td>\n",
              "    </tr>\n",
              "    <tr>\n",
              "      <th>2</th>\n",
              "      <td>0</td>\n",
              "      <td>43</td>\n",
              "      <td>8</td>\n",
              "      <td>3</td>\n",
              "      <td>3</td>\n",
              "      <td>2</td>\n",
              "      <td>0</td>\n",
              "      <td>1</td>\n",
              "      <td>7</td>\n",
              "      <td>3</td>\n",
              "      <td>78</td>\n",
              "      <td>395</td>\n",
              "      <td>112</td>\n",
              "      <td>12</td>\n",
              "      <td>2</td>\n",
              "      <td>0</td>\n",
              "      <td>0</td>\n",
              "    </tr>\n",
              "    <tr>\n",
              "      <th>3</th>\n",
              "      <td>1</td>\n",
              "      <td>57</td>\n",
              "      <td>14</td>\n",
              "      <td>4</td>\n",
              "      <td>6</td>\n",
              "      <td>4</td>\n",
              "      <td>5</td>\n",
              "      <td>1</td>\n",
              "      <td>13</td>\n",
              "      <td>3</td>\n",
              "      <td>86</td>\n",
              "      <td>589</td>\n",
              "      <td>111</td>\n",
              "      <td>6</td>\n",
              "      <td>0</td>\n",
              "      <td>0</td>\n",
              "      <td>0</td>\n",
              "    </tr>\n",
              "    <tr>\n",
              "      <th>4</th>\n",
              "      <td>0</td>\n",
              "      <td>64</td>\n",
              "      <td>13</td>\n",
              "      <td>3</td>\n",
              "      <td>6</td>\n",
              "      <td>4</td>\n",
              "      <td>5</td>\n",
              "      <td>0</td>\n",
              "      <td>14</td>\n",
              "      <td>2</td>\n",
              "      <td>86</td>\n",
              "      <td>433</td>\n",
              "      <td>101</td>\n",
              "      <td>22</td>\n",
              "      <td>1</td>\n",
              "      <td>0</td>\n",
              "      <td>0</td>\n",
              "    </tr>\n",
              "    <tr>\n",
              "      <th>...</th>\n",
              "      <td>...</td>\n",
              "      <td>...</td>\n",
              "      <td>...</td>\n",
              "      <td>...</td>\n",
              "      <td>...</td>\n",
              "      <td>...</td>\n",
              "      <td>...</td>\n",
              "      <td>...</td>\n",
              "      <td>...</td>\n",
              "      <td>...</td>\n",
              "      <td>...</td>\n",
              "      <td>...</td>\n",
              "      <td>...</td>\n",
              "      <td>...</td>\n",
              "      <td>...</td>\n",
              "      <td>...</td>\n",
              "      <td>...</td>\n",
              "    </tr>\n",
              "    <tr>\n",
              "      <th>123</th>\n",
              "      <td>1</td>\n",
              "      <td>46</td>\n",
              "      <td>11</td>\n",
              "      <td>1</td>\n",
              "      <td>6</td>\n",
              "      <td>4</td>\n",
              "      <td>4</td>\n",
              "      <td>3</td>\n",
              "      <td>24</td>\n",
              "      <td>5</td>\n",
              "      <td>79</td>\n",
              "      <td>479</td>\n",
              "      <td>148</td>\n",
              "      <td>14</td>\n",
              "      <td>1</td>\n",
              "      <td>0</td>\n",
              "      <td>0</td>\n",
              "    </tr>\n",
              "    <tr>\n",
              "      <th>124</th>\n",
              "      <td>2</td>\n",
              "      <td>43</td>\n",
              "      <td>12</td>\n",
              "      <td>4</td>\n",
              "      <td>3</td>\n",
              "      <td>5</td>\n",
              "      <td>4</td>\n",
              "      <td>1</td>\n",
              "      <td>5</td>\n",
              "      <td>5</td>\n",
              "      <td>88</td>\n",
              "      <td>510</td>\n",
              "      <td>108</td>\n",
              "      <td>11</td>\n",
              "      <td>1</td>\n",
              "      <td>0</td>\n",
              "      <td>0</td>\n",
              "    </tr>\n",
              "    <tr>\n",
              "      <th>125</th>\n",
              "      <td>0</td>\n",
              "      <td>57</td>\n",
              "      <td>15</td>\n",
              "      <td>5</td>\n",
              "      <td>7</td>\n",
              "      <td>3</td>\n",
              "      <td>5</td>\n",
              "      <td>0</td>\n",
              "      <td>12</td>\n",
              "      <td>2</td>\n",
              "      <td>92</td>\n",
              "      <td>698</td>\n",
              "      <td>110</td>\n",
              "      <td>5</td>\n",
              "      <td>2</td>\n",
              "      <td>0</td>\n",
              "      <td>0</td>\n",
              "    </tr>\n",
              "    <tr>\n",
              "      <th>126</th>\n",
              "      <td>4</td>\n",
              "      <td>39</td>\n",
              "      <td>8</td>\n",
              "      <td>6</td>\n",
              "      <td>1</td>\n",
              "      <td>1</td>\n",
              "      <td>2</td>\n",
              "      <td>1</td>\n",
              "      <td>14</td>\n",
              "      <td>1</td>\n",
              "      <td>75</td>\n",
              "      <td>271</td>\n",
              "      <td>99</td>\n",
              "      <td>14</td>\n",
              "      <td>2</td>\n",
              "      <td>0</td>\n",
              "      <td>0</td>\n",
              "    </tr>\n",
              "    <tr>\n",
              "      <th>127</th>\n",
              "      <td>2</td>\n",
              "      <td>61</td>\n",
              "      <td>15</td>\n",
              "      <td>3</td>\n",
              "      <td>8</td>\n",
              "      <td>4</td>\n",
              "      <td>6</td>\n",
              "      <td>1</td>\n",
              "      <td>15</td>\n",
              "      <td>3</td>\n",
              "      <td>83</td>\n",
              "      <td>547</td>\n",
              "      <td>100</td>\n",
              "      <td>13</td>\n",
              "      <td>1</td>\n",
              "      <td>0</td>\n",
              "      <td>0</td>\n",
              "    </tr>\n",
              "  </tbody>\n",
              "</table>\n",
              "<p>128 rows × 17 columns</p>\n",
              "</div>"
            ],
            "text/plain": [
              "     Goal Scored  Ball Possession %  Attempts  ...  Yellow Card  Yellow & Red  Red\n",
              "0              5                 40        13  ...            0             0    0\n",
              "1              0                 60         6  ...            0             0    0\n",
              "2              0                 43         8  ...            2             0    0\n",
              "3              1                 57        14  ...            0             0    0\n",
              "4              0                 64        13  ...            1             0    0\n",
              "..           ...                ...       ...  ...          ...           ...  ...\n",
              "123            1                 46        11  ...            1             0    0\n",
              "124            2                 43        12  ...            1             0    0\n",
              "125            0                 57        15  ...            2             0    0\n",
              "126            4                 39         8  ...            2             0    0\n",
              "127            2                 61        15  ...            1             0    0\n",
              "\n",
              "[128 rows x 17 columns]"
            ]
          },
          "metadata": {
            "tags": []
          },
          "execution_count": 67
        }
      ]
    },
    {
      "cell_type": "code",
      "metadata": {
        "id": "WLxJzXPRsmbA"
      },
      "source": [
        "Fifa_data_dropped = Fifa_data_dropped.dropna()    ### ตัดแถวที่ไม่มีข้อมูล"
      ],
      "execution_count": 68,
      "outputs": []
    },
    {
      "cell_type": "code",
      "metadata": {
        "id": "pXVQVKQMtTML",
        "colab": {
          "base_uri": "https://localhost:8080/"
        },
        "outputId": "1294c1a1-29aa-46cc-984c-631a7cf9880b"
      },
      "source": [
        "Fifa_data_dropped.shape     ### ดูขนาด"
      ],
      "execution_count": 69,
      "outputs": [
        {
          "output_type": "execute_result",
          "data": {
            "text/plain": [
              "(128, 17)"
            ]
          },
          "metadata": {
            "tags": []
          },
          "execution_count": 69
        }
      ]
    },
    {
      "cell_type": "markdown",
      "metadata": {
        "id": "wz_lV4p8tqZU"
      },
      "source": [
        "## การทำ Factor Analysis"
      ]
    },
    {
      "cell_type": "code",
      "metadata": {
        "id": "c_4TT1xEtYyc",
        "colab": {
          "base_uri": "https://localhost:8080/"
        },
        "outputId": "9776d20e-0528-42c3-9aaa-7ce670f3b869"
      },
      "source": [
        "!pip install factor_analyzer          ###  install package"
      ],
      "execution_count": 70,
      "outputs": [
        {
          "output_type": "stream",
          "text": [
            "Requirement already satisfied: factor_analyzer in /usr/local/lib/python3.7/dist-packages (0.3.2)\n",
            "Requirement already satisfied: numpy in /usr/local/lib/python3.7/dist-packages (from factor_analyzer) (1.19.5)\n",
            "Requirement already satisfied: scipy in /usr/local/lib/python3.7/dist-packages (from factor_analyzer) (1.4.1)\n",
            "Requirement already satisfied: pandas in /usr/local/lib/python3.7/dist-packages (from factor_analyzer) (1.1.5)\n",
            "Requirement already satisfied: scikit-learn in /usr/local/lib/python3.7/dist-packages (from factor_analyzer) (0.22.2.post1)\n",
            "Requirement already satisfied: python-dateutil>=2.7.3 in /usr/local/lib/python3.7/dist-packages (from pandas->factor_analyzer) (2.8.1)\n",
            "Requirement already satisfied: pytz>=2017.2 in /usr/local/lib/python3.7/dist-packages (from pandas->factor_analyzer) (2018.9)\n",
            "Requirement already satisfied: joblib>=0.11 in /usr/local/lib/python3.7/dist-packages (from scikit-learn->factor_analyzer) (1.0.1)\n",
            "Requirement already satisfied: six>=1.5 in /usr/local/lib/python3.7/dist-packages (from python-dateutil>=2.7.3->pandas->factor_analyzer) (1.15.0)\n"
          ],
          "name": "stdout"
        }
      ]
    },
    {
      "cell_type": "code",
      "metadata": {
        "id": "rsry3p2fuZsN"
      },
      "source": [
        "from factor_analyzer import FactorAnalyzer          ### import function จาก package\n",
        "import matplotlib.pyplot as plt  "
      ],
      "execution_count": 71,
      "outputs": []
    },
    {
      "cell_type": "markdown",
      "metadata": {
        "id": "pIP0R2M_vXII"
      },
      "source": [
        "### Bartlett’s test"
      ]
    },
    {
      "cell_type": "code",
      "metadata": {
        "id": "hDsPFSfOvST3",
        "colab": {
          "base_uri": "https://localhost:8080/"
        },
        "outputId": "cbee761f-6101-4b82-faac-016cd520978f"
      },
      "source": [
        "from factor_analyzer.factor_analyzer import calculate_bartlett_sphericity\n",
        "\n",
        "chi_square_value,p_value = calculate_bartlett_sphericity(Fifa_data_dropped)\n",
        "\n",
        "chi_square_value, p_value"
      ],
      "execution_count": 72,
      "outputs": [
        {
          "output_type": "execute_result",
          "data": {
            "text/plain": [
              "(1299.3697851171412, 2.713580160466225e-189)"
            ]
          },
          "metadata": {
            "tags": []
          },
          "execution_count": 72
        }
      ]
    },
    {
      "cell_type": "markdown",
      "metadata": {
        "id": "a2bNEjeKwBor"
      },
      "source": [
        "p-value เข้าใกล้ 0 แสดงว่า ไม่มี perfect multicollinearity."
      ]
    },
    {
      "cell_type": "markdown",
      "metadata": {
        "id": "IaPngkquwaFH"
      },
      "source": [
        "### Kaiser-Meyer-Olkin (KMO) Test"
      ]
    },
    {
      "cell_type": "code",
      "metadata": {
        "id": "7xRZbnnQv4kq",
        "colab": {
          "base_uri": "https://localhost:8080/"
        },
        "outputId": "83e2fabb-d721-49ea-850d-7d663f8c7995"
      },
      "source": [
        "from factor_analyzer.factor_analyzer import calculate_kmo\n",
        "\n",
        "kmo_all,kmo_model=calculate_kmo(Fifa_data_dropped)\n",
        "\n",
        "kmo_model"
      ],
      "execution_count": 73,
      "outputs": [
        {
          "output_type": "execute_result",
          "data": {
            "text/plain": [
              "0.5594556344508279"
            ]
          },
          "metadata": {
            "tags": []
          },
          "execution_count": 73
        }
      ]
    },
    {
      "cell_type": "markdown",
      "metadata": {
        "id": "BwxYlKyl03Ac"
      },
      "source": [
        "ค่า KMO model มีค่าน้อยกว่า 0.6 แปลว่า นำไปใช้ได้แต่แค่ยังไม่เหมาะสม"
      ]
    },
    {
      "cell_type": "markdown",
      "metadata": {
        "id": "kkC3HjhxAxM1"
      },
      "source": [
        "### ทำ Factor Analysis"
      ]
    },
    {
      "cell_type": "markdown",
      "metadata": {
        "id": "UZW6O8zZMtrR"
      },
      "source": [
        "Implot"
      ]
    },
    {
      "cell_type": "code",
      "metadata": {
        "id": "z-P8YifS9s3d"
      },
      "source": [
        "from factor_analyzer import FactorAnalyzer"
      ],
      "execution_count": 104,
      "outputs": []
    },
    {
      "cell_type": "markdown",
      "metadata": {
        "id": "LELzpW-LMxPJ"
      },
      "source": [
        "Define"
      ]
    },
    {
      "cell_type": "code",
      "metadata": {
        "id": "c6BiFuWEM3yq"
      },
      "source": [
        "fa_Fifa = FactorAnalyzer(n_factors=16)"
      ],
      "execution_count": 105,
      "outputs": []
    },
    {
      "cell_type": "markdown",
      "metadata": {
        "id": "ge-38gOeM9Um"
      },
      "source": [
        "Fit-transform"
      ]
    },
    {
      "cell_type": "code",
      "metadata": {
        "id": "auAbGrGkM-3U"
      },
      "source": [
        "data_fa_Fifa = fa_Fifa.fit_transform(Fifa_data_dropped)"
      ],
      "execution_count": 106,
      "outputs": []
    },
    {
      "cell_type": "code",
      "metadata": {
        "id": "Rg5b_eS0BWOE",
        "outputId": "856d009e-613f-4668-f1a3-0c75c2173166",
        "colab": {
          "base_uri": "https://localhost:8080/"
        }
      },
      "source": [
        "data_fa_Fifa.shape"
      ],
      "execution_count": 102,
      "outputs": [
        {
          "output_type": "execute_result",
          "data": {
            "text/plain": [
              "(128, 16)"
            ]
          },
          "metadata": {
            "tags": []
          },
          "execution_count": 102
        }
      ]
    },
    {
      "cell_type": "markdown",
      "metadata": {
        "id": "99fDesKUNQrh"
      },
      "source": [
        "### ตัดสินว่าเราจะลดเหลือกี่ dimension (มี factors ทั้งหมดกี่ตัว)"
      ]
    },
    {
      "cell_type": "code",
      "metadata": {
        "id": "NQ9EbLUuL3ms"
      },
      "source": [
        "ev,v = fa_Fifa.get_eigenvalues()"
      ],
      "execution_count": 111,
      "outputs": []
    },
    {
      "cell_type": "markdown",
      "metadata": {
        "id": "8-vVelW_NcDA"
      },
      "source": [
        "#### ใช้ eigen values"
      ]
    },
    {
      "cell_type": "code",
      "metadata": {
        "id": "W_m4UU6bNYCy",
        "outputId": "a92f19aa-d72d-4bd0-f11d-1bcbe88e6fa4",
        "colab": {
          "base_uri": "https://localhost:8080/"
        }
      },
      "source": [
        "ev"
      ],
      "execution_count": 112,
      "outputs": [
        {
          "output_type": "execute_result",
          "data": {
            "text/plain": [
              "array([4.93533676, 1.66110682, 1.45898601, 1.31857945, 1.27991548,\n",
              "       1.1607222 , 0.89822418, 0.80740568, 0.78874612, 0.65948826,\n",
              "       0.56563441, 0.48116939, 0.38549929, 0.29659929, 0.22859409,\n",
              "       0.06848785, 0.00550471])"
            ]
          },
          "metadata": {
            "tags": []
          },
          "execution_count": 112
        }
      ]
    },
    {
      "cell_type": "markdown",
      "metadata": {
        "id": "S_paOrmQNj4-"
      },
      "source": [
        "### scree plot"
      ]
    },
    {
      "cell_type": "code",
      "metadata": {
        "id": "dcB_TctQNfLX",
        "outputId": "81c622b1-827d-4027-fe1b-23c6b6af6c4b",
        "colab": {
          "base_uri": "https://localhost:8080/",
          "height": 893
        }
      },
      "source": [
        "# Create scree plot using matplotlib\n",
        "plt.plot(range(1,Fifa_data_dropped.shape[1]+1),ev,'bo-')\n",
        "plt.plot([0,Fifa_data_dropped.shape[1]+1],[1,1],'r--')\n",
        "plt.title('Scree Plot')\n",
        "plt.xlabel('Factors')\n",
        "plt.ylabel('Eigenvalue')\n",
        "plt.grid()\n",
        "plt.show()"
      ],
      "execution_count": 113,
      "outputs": [
        {
          "output_type": "display_data",
          "data": {
            "image/png": "[encoded data removed]",
            "text/plain": [
              "<Figure size 1080x1080 with 1 Axes>"
            ]
          },
          "metadata": {
            "tags": [],
            "needs_background": "light"
          }
        }
      ]
    },
    {
      "cell_type": "markdown",
      "metadata": {
        "id": "zCTxD1wXOcLG"
      },
      "source": [
        "มีทั้งหมด 6 Factors ที่มีค่า Eigenvalue มากกว่า 1"
      ]
    },
    {
      "cell_type": "code",
      "metadata": {
        "id": "q1arZ6JGNv85",
        "outputId": "004a215e-741e-4919-8c5d-4f07aed5fcf2",
        "colab": {
          "base_uri": "https://localhost:8080/"
        }
      },
      "source": [
        "data_fa_Fifa[:,:6]"
      ],
      "execution_count": 114,
      "outputs": [
        {
          "output_type": "execute_result",
          "data": {
            "text/plain": [
              "array([[-1.02852235e+00,  6.84121245e-01,  2.62286805e+00,\n",
              "        -6.13275893e-02, -5.44092674e-02,  2.00934276e-01],\n",
              "       [ 7.27448293e-01, -5.24186679e-01, -1.07869132e+00,\n",
              "        -8.50925779e-01, -2.41176630e-01,  2.50883401e-01],\n",
              "       [-6.45675050e-01,  1.82115619e-01, -5.69637077e-01,\n",
              "         2.26028940e-01,  3.37982843e-02, -1.68147976e-01],\n",
              "       [ 7.47704941e-01,  1.72940207e-01, -2.02499240e-01,\n",
              "        -1.29479087e+00, -1.29504953e-01, -5.66581441e-02],\n",
              "       [ 7.64590473e-01, -1.02338004e+00, -2.54183776e-01,\n",
              "         6.17252933e-01,  1.72354639e-01,  2.04944359e-01],\n",
              "       [-1.37927654e+00, -1.02367999e+00, -1.18075480e-01,\n",
              "         9.43416646e-01, -7.19004216e-01, -5.47973852e-01],\n",
              "       [-7.75361184e-01, -5.36622975e-01,  8.32824491e-01,\n",
              "        -2.23469488e-01,  1.60618514e-01, -8.09773397e-02],\n",
              "       [ 1.44271720e+00, -9.83264072e-02,  1.09942840e+00,\n",
              "        -5.21200358e-01, -4.13879311e-01,  9.66101100e-02],\n",
              "       [ 1.77079119e-01, -3.68717730e-01,  9.49939536e-01,\n",
              "         5.74285080e-02, -5.31285680e-02, -1.07712895e-01],\n",
              "       [-2.05204680e-01, -1.16076259e-01, -4.34660956e-02,\n",
              "         1.24885292e+00, -1.29606940e-01,  5.41460754e-02],\n",
              "       [ 2.02063253e+00, -4.78304897e-01, -6.49979980e-02,\n",
              "        -1.15971616e+00,  6.35985065e-01, -6.82332092e-02],\n",
              "       [-2.16202667e+00,  2.75663475e-01, -2.63195779e-01,\n",
              "        -6.02873239e-01, -6.00771251e-02, -1.39651813e-01],\n",
              "       [ 6.57259768e-03, -4.29535078e-01, -2.87461848e-01,\n",
              "        -4.70878292e-01, -5.54428834e-01,  2.72996177e-01],\n",
              "       [-4.14832680e-01,  1.02085871e-01,  1.15251932e-01,\n",
              "         5.28062710e-01,  1.40253040e-01,  5.59541600e-01],\n",
              "       [ 2.48824820e-01, -1.21418013e-01,  1.70688762e-02,\n",
              "         6.25511423e-01, -3.76106711e-01,  5.20675210e-02],\n",
              "       [-3.86646527e-01, -4.45728621e-01, -1.13771529e+00,\n",
              "         1.39773200e-02,  3.96366683e-01, -5.86362285e-02],\n",
              "       [-8.89307168e-02, -1.36922102e-01, -3.82827753e-01,\n",
              "         6.47014947e-01,  5.02310260e-01,  1.80608913e-01],\n",
              "       [-1.62597903e-01, -2.31723584e-02, -7.06194478e-02,\n",
              "         3.22507982e-01, -3.66638364e-01,  2.24228902e-01],\n",
              "       [ 9.74878398e-01,  2.00195540e-01,  2.05788787e-01,\n",
              "        -1.92876534e-01,  8.98287265e-02, -2.15863681e-01],\n",
              "       [-9.95866679e-01, -1.01868266e-01,  1.26176464e-01,\n",
              "         3.94891583e-01, -4.54767042e-01,  2.09126703e-01],\n",
              "       [ 3.44344940e-01, -1.51902424e-01, -6.34904841e-01,\n",
              "        -4.35476097e-01, -1.27948588e-01, -3.77314002e-01],\n",
              "       [-1.81937058e-01, -1.51893011e-02,  2.34259557e-02,\n",
              "         1.20781273e+00, -2.94793590e-01, -1.66360279e-01],\n",
              "       [ 2.21110645e-02, -4.34298567e-01, -3.12045800e-02,\n",
              "         2.89528229e-01,  2.58672629e-01,  3.28265072e-02],\n",
              "       [-4.56594981e-01, -3.32191868e-01, -8.61401901e-01,\n",
              "         1.00006400e+00,  6.75452832e-01,  2.92316623e-01],\n",
              "       [ 9.37018020e-01, -3.75921433e-01,  1.41214579e+00,\n",
              "         7.17029625e-01, -3.01005419e-01, -8.94855021e-02],\n",
              "       [-9.70088875e-01, -4.20185242e-01, -6.15500779e-01,\n",
              "         1.97111002e+00, -1.92014222e-01, -7.26038247e-02],\n",
              "       [-8.47833474e-01, -4.00926317e-01, -3.37238317e-01,\n",
              "        -4.35449498e-01,  3.35973264e-02,  3.72344057e-01],\n",
              "       [ 7.27290857e-01, -6.88909743e-01,  1.11128257e+00,\n",
              "        -6.11326541e-01, -5.29276419e-01, -3.61366272e-02],\n",
              "       [-7.72254348e-01, -1.14418309e+00, -5.56588571e-01,\n",
              "         5.62407427e-01,  3.76566174e+00, -4.00645798e-02],\n",
              "       [ 8.40432478e-01, -5.28829776e-01,  8.62289509e-01,\n",
              "        -6.70291088e-01, -6.56063424e-02, -3.19887100e-02],\n",
              "       [ 6.96842954e-01, -5.66934660e-02,  2.08382298e-01,\n",
              "        -5.60466630e-01, -7.49739142e-01,  9.52278180e-02],\n",
              "       [-7.39486158e-01, -1.56701000e-01,  1.32932846e-02,\n",
              "         3.24546190e-01, -1.48911717e-01,  1.14230189e-01],\n",
              "       [-4.95615097e-01,  2.70494652e-01,  3.30977471e-01,\n",
              "        -6.45325040e-01,  1.03127589e-01, -5.17763095e-01],\n",
              "       [ 6.90771097e-02, -1.29998360e-01, -1.16467881e+00,\n",
              "        -5.77408534e-01, -3.85020490e-01, -5.88304149e-01],\n",
              "       [-4.62671666e-01,  1.96428494e-01, -4.97222232e-01,\n",
              "         6.76304032e-03,  2.64340563e-01,  2.40691429e-01],\n",
              "       [ 6.48518491e-02,  4.15099446e-01, -4.52979177e-01,\n",
              "         4.51761595e-01, -5.43240395e-01, -1.46713299e-01],\n",
              "       [ 6.29240524e-02, -2.51621914e-01,  1.21759506e-02,\n",
              "        -7.82492313e-01, -4.02507575e-01, -1.03918323e-01],\n",
              "       [ 5.29306847e-01, -2.73255800e-01, -2.49018324e-01,\n",
              "        -5.07304493e-01,  3.56411235e-01,  4.83531508e-01],\n",
              "       [-1.94949726e+00,  2.09744511e-01, -1.47486327e+00,\n",
              "         2.20307680e-01, -3.35409063e-01, -3.34688658e-01],\n",
              "       [ 2.05454268e+00,  1.91245220e-01, -7.69510608e-01,\n",
              "        -8.03837038e-01,  4.80217694e-01,  1.11545100e-01],\n",
              "       [ 1.45157426e-02, -1.64899890e-01,  6.15353389e-01,\n",
              "        -6.80203388e-02, -4.42255670e-01, -1.90529086e-01],\n",
              "       [ 2.21588799e-01,  2.58218734e-01,  1.66158457e-01,\n",
              "        -1.30456431e+00,  1.67422158e-01, -8.63257967e-02],\n",
              "       [-5.68927587e-01, -1.12209555e-01, -2.48230600e-01,\n",
              "        -1.18132431e-01, -1.18352319e-01, -5.10428810e-01],\n",
              "       [ 4.80071451e-01, -2.24821657e-01, -9.36941825e-01,\n",
              "         3.02622960e-01, -6.12867502e-02, -4.68615357e-02],\n",
              "       [ 5.42968329e-01, -2.82414665e-01, -7.55670132e-01,\n",
              "         5.46799768e-01,  3.92226443e-01,  3.80788587e-01],\n",
              "       [-6.84424314e-01,  2.75823207e-01,  6.61834225e-01,\n",
              "         1.58208383e+00, -4.20512038e-01, -1.39667553e-01],\n",
              "       [ 1.69002986e+00,  1.40986394e-01,  1.04673781e+00,\n",
              "        -2.39024424e-01, -5.64272603e-02, -7.82621232e-02],\n",
              "       [-1.52472897e+00,  4.02279412e-01, -1.25034607e+00,\n",
              "        -4.31718276e-01, -3.24415800e-01,  2.89743685e-01],\n",
              "       [ 5.18453830e-01, -7.82826671e-01, -1.07742669e-01,\n",
              "        -7.86575764e-01,  3.70361424e-01, -1.03526750e-01],\n",
              "       [-1.01015027e+00, -3.74017195e-01, -5.46195585e-01,\n",
              "        -8.20808720e-01, -1.01866834e-01, -3.31323127e-01],\n",
              "       [-9.11226359e-01,  4.63247892e-01, -3.73362038e-01,\n",
              "         1.28220134e+00, -5.42753340e-01, -6.44734941e-01],\n",
              "       [ 7.32345027e-01,  3.46098468e-01,  3.18565325e-02,\n",
              "        -5.75812424e-01, -1.40307533e-01,  4.30779494e-02],\n",
              "       [ 1.85490328e-01, -3.50610707e-02,  3.21933488e+00,\n",
              "        -1.02127003e+00, -1.00346619e+00, -5.51590435e-02],\n",
              "       [-5.97410379e-02,  1.03310647e-01,  2.84503347e-01,\n",
              "        -4.40628963e-01, -3.34946247e-01,  2.38568595e-01],\n",
              "       [-7.86949587e-01, -4.91207516e-01,  2.24639518e-01,\n",
              "         1.86276527e+00,  1.88089883e+00, -8.05950042e-03],\n",
              "       [ 6.86336175e-01, -9.91103619e-01,  8.35450460e-01,\n",
              "        -1.21280720e+00, -6.10820437e-01,  2.48898708e-02],\n",
              "       [ 1.91970277e+00,  2.56657430e-01,  7.29823637e-02,\n",
              "        -1.82472671e+00, -5.25907694e-02,  5.80641631e+00],\n",
              "       [-1.88112498e+00,  1.46362105e-01,  9.24181540e-01,\n",
              "         3.11838940e-01,  1.37381956e-01,  1.01668232e-01],\n",
              "       [ 9.91311863e-01, -6.44263399e-01,  3.00652039e+00,\n",
              "        -2.44591968e-01, -5.92792355e-01,  1.93050857e-01],\n",
              "       [-5.00271883e-01, -1.28320795e+00, -3.28157383e-01,\n",
              "         8.07957865e-01, -4.11077165e-01, -5.60182780e-01],\n",
              "       [ 2.36396671e-01, -4.23042719e-01,  2.93278919e-01,\n",
              "        -3.47365700e-01, -1.16486444e-01,  2.42943399e-01],\n",
              "       [-5.60740655e-01, -4.76031396e-01,  9.61853586e-01,\n",
              "         5.86733799e-01, -4.44468929e-02, -8.13588617e-03],\n",
              "       [-4.53476888e-01, -3.07620756e-02, -8.86348955e-01,\n",
              "         3.48607963e-01,  9.19284276e-01, -7.76063894e-02],\n",
              "       [ 3.99634718e-01,  5.01218616e-02,  1.90508722e-01,\n",
              "        -1.19650374e+00, -3.09772943e-02, -9.84264072e-02],\n",
              "       [ 5.09945333e-01, -5.58414638e-01,  1.56682798e+00,\n",
              "         3.74642167e-02, -4.83725708e-01, -2.55551703e-01],\n",
              "       [-5.77813765e-01, -6.82172394e-01, -7.96106835e-01,\n",
              "        -4.17456303e-01, -3.84962456e-01,  5.31739917e+00],\n",
              "       [ 1.21728511e+00, -2.78509465e-01,  5.18548534e-01,\n",
              "        -1.30703349e+00, -6.89293033e-01, -4.66915554e-01],\n",
              "       [-8.82197181e-01,  1.01612831e-01, -6.11615142e-01,\n",
              "         5.09060341e-01, -4.25212021e-01,  1.03497951e-01],\n",
              "       [ 1.87883478e+00, -7.07809670e-02,  9.94819944e-02,\n",
              "        -1.48580094e+00, -1.24337532e+00, -4.01159518e-01],\n",
              "       [-1.51285403e+00, -1.93651297e-01,  4.40461571e-01,\n",
              "         2.42030932e+00, -1.71708109e-02, -6.41462718e-01],\n",
              "       [-1.79172703e+00, -5.48923397e-01, -7.59337621e-01,\n",
              "         3.04879307e-01, -1.20567458e-01, -4.02650662e-01],\n",
              "       [ 1.53486415e+00, -1.36739603e+00, -3.67493208e-01,\n",
              "         6.94330260e-01, -1.39622345e-01, -3.33025250e-01],\n",
              "       [-1.24082079e+00, -4.25317405e-02, -1.09544900e+00,\n",
              "        -5.47030497e-01,  6.47868659e-01,  5.53299911e-02],\n",
              "       [ 1.23780570e+00, -2.39732128e-01, -2.04109144e-01,\n",
              "        -7.43102181e-01, -5.38160932e-01, -3.63876954e-02],\n",
              "       [ 4.52572651e-01,  6.27856242e-02, -1.41235646e+00,\n",
              "         8.79863306e-01,  4.30392596e-01, -1.28501260e-01],\n",
              "       [-2.93648525e-01, -5.92660752e-01,  5.89151258e-01,\n",
              "         9.71634346e-02,  8.27726484e-02,  1.82416745e-02],\n",
              "       [-1.53951687e+00, -4.48243610e-01, -3.81258131e-02,\n",
              "         8.15522058e-01, -2.09323867e-01, -3.75508919e-01],\n",
              "       [ 1.19201294e+00, -5.66177571e-01,  6.65108924e-01,\n",
              "         5.51920465e-01, -1.18887952e-03,  2.82931947e-01],\n",
              "       [-9.96335166e-01, -1.66865119e-01, -1.85277029e-01,\n",
              "         8.27030494e-02,  2.98280137e-01, -7.27477920e-01],\n",
              "       [ 7.41749100e-01, -5.26641733e-01, -2.97614320e-01,\n",
              "        -6.58174093e-02, -3.13016042e-01, -2.44034161e-01],\n",
              "       [-1.81946747e+00,  8.97505916e-01,  6.31356234e-01,\n",
              "         1.15502760e+00, -1.52156708e-01, -4.63041389e-01],\n",
              "       [ 1.82532286e+00,  5.89718211e-01, -8.90001858e-01,\n",
              "        -1.45470967e+00,  5.07248164e-02, -1.31169224e-01],\n",
              "       [ 9.39921836e-01, -1.04090119e+00, -1.50982073e+00,\n",
              "         3.80709831e-01,  7.39377011e-01,  8.97394118e-03],\n",
              "       [-1.68827910e+00, -1.08889088e-01,  4.49065626e-01,\n",
              "        -3.70817989e-01, -6.57891091e-01, -8.39472913e-01],\n",
              "       [-4.14417528e-01,  8.16672739e-01, -1.49832070e+00,\n",
              "         4.31217330e-01,  4.39128765e-01, -5.15733513e-02],\n",
              "       [ 8.42106446e-01,  1.39960076e-02,  8.72529555e-01,\n",
              "        -1.26933661e+00,  5.49265578e-01,  5.33764848e-01],\n",
              "       [ 9.75195823e-01, -2.28623457e-01, -1.47453116e-01,\n",
              "        -1.36836606e-02,  2.51180941e-01, -1.16472295e-02],\n",
              "       [-8.42602710e-01, -3.48054136e-01,  7.87527861e-01,\n",
              "         7.08606685e-01, -1.78405834e-01, -5.43711700e-01],\n",
              "       [ 5.33349397e-01, -1.50398400e+00, -6.41303350e-01,\n",
              "        -3.10191749e-01,  7.20806847e-01,  1.04604484e-01],\n",
              "       [-1.92300031e-01, -1.55118280e+00, -7.75478109e-01,\n",
              "        -1.14786077e+00,  7.37187729e-01, -1.26182991e-01],\n",
              "       [-8.99875122e-01, -8.60522325e-01, -4.15931338e-01,\n",
              "         7.41571414e-02, -3.92737766e-01,  1.23762902e-01],\n",
              "       [ 3.35635020e-01, -8.07762629e-01,  1.24102030e-01,\n",
              "        -4.47286717e-02,  1.68863290e-01,  7.09661623e-01],\n",
              "       [-1.28798272e+00,  4.85332020e-02,  5.98611320e-02,\n",
              "         9.67382328e-01, -5.25848808e-01,  2.44780948e-01],\n",
              "       [ 1.26925911e+00,  1.80282926e-01,  1.25392279e+00,\n",
              "         8.53779068e-01,  2.18824066e-01,  3.00182559e-01],\n",
              "       [ 1.35749400e-02,  1.81761510e-01, -1.25553444e+00,\n",
              "        -7.68136021e-01,  4.58164960e-02,  2.64246537e-01],\n",
              "       [ 4.30151458e-01, -6.88214664e-02, -3.51403066e-01,\n",
              "         2.77246236e-01,  2.90798013e-01, -1.85359219e-01],\n",
              "       [-7.33148610e-01, -6.55978288e-01,  1.43242795e+00,\n",
              "         1.27103280e+00, -7.19179505e-01, -5.38961987e-01],\n",
              "       [ 8.02231373e-01, -8.36982515e-01,  6.54349342e-01,\n",
              "         1.33442305e+00,  4.94107203e-01, -1.97225587e-01],\n",
              "       [-1.31445247e+00, -3.28999975e-02,  2.99417729e-01,\n",
              "        -8.29430547e-01,  9.03972064e-02, -5.95341325e-02],\n",
              "       [ 9.15648836e-01,  3.61707507e-02, -4.04940382e-01,\n",
              "        -6.98363187e-01, -2.52421124e-01, -1.84334510e-01],\n",
              "       [ 3.14173948e+00,  2.87959737e+00,  1.60719046e-01,\n",
              "        -1.31976254e+00,  2.15116345e-01, -1.94897508e-01],\n",
              "       [-2.08170824e+00,  3.00896801e+00, -3.36497647e-01,\n",
              "         6.00652160e-01,  3.53582988e-01,  2.21480758e-01],\n",
              "       [ 5.65537336e-01,  1.93579327e+00, -1.28660721e-01,\n",
              "        -1.60618535e+00, -4.95892596e-01, -2.90257681e-01],\n",
              "       [-1.51690595e-01,  2.41494298e+00, -2.82037857e-01,\n",
              "         1.40878472e-01, -8.30991296e-01, -2.23289472e-01],\n",
              "       [-2.86489102e-01, -1.09305194e+00,  1.34553818e+00,\n",
              "        -5.49899008e-01, -3.30091973e-02, -6.72698262e-01],\n",
              "       [ 1.55352136e-01, -1.13659016e+00, -1.56643333e+00,\n",
              "         1.22556167e+00,  1.72497592e+00,  5.42380746e-01],\n",
              "       [ 7.96454545e-01,  4.61309568e-01,  1.20282274e+00,\n",
              "        -9.40683937e-01, -3.65527604e-02, -1.83134250e-01],\n",
              "       [-3.54646089e-01,  2.62899414e-01,  4.03135722e-01,\n",
              "        -6.79423946e-01,  1.91522410e-01,  3.28641589e-02],\n",
              "       [-1.35023849e+00, -2.85211148e-02, -6.28947677e-01,\n",
              "        -5.46927881e-01, -1.49772619e-01, -3.24157621e-01],\n",
              "       [ 1.07202078e+00, -5.24095072e-01, -1.41446939e+00,\n",
              "         6.23219037e-02,  4.50664463e+00, -2.99557921e-01],\n",
              "       [-9.70038408e-02,  2.24469166e+00, -3.10787803e-01,\n",
              "         2.49139732e+00, -6.48449552e-01, -6.84980454e-01],\n",
              "       [ 2.54509590e-01,  2.73833404e+00, -9.44633945e-01,\n",
              "        -1.34828680e-01, -7.86065650e-01, -2.43433438e-01],\n",
              "       [-1.05735308e+00, -8.76327595e-03, -6.36420001e-01,\n",
              "         3.47955776e-01, -4.78761095e-02, -5.59838521e-01],\n",
              "       [ 5.89143360e-01, -3.39675163e-01, -2.99024632e-01,\n",
              "         7.55949415e-02, -4.92397939e-01, -2.50872915e-01],\n",
              "       [ 7.42353014e-01, -1.84873794e-01,  4.75879561e-01,\n",
              "         9.69200171e-02,  7.30011011e-01, -1.31400349e-01],\n",
              "       [-6.02201128e-01, -2.20669868e-02,  5.65360554e-01,\n",
              "         3.51688767e-01,  2.30799943e-01,  2.88437484e-01],\n",
              "       [-7.44051588e-01, -1.22275179e-01, -7.23707447e-01,\n",
              "        -8.55889509e-03,  2.19079880e-02, -2.77129443e-01],\n",
              "       [ 5.05343000e-01,  8.78804209e-02, -6.41744842e-01,\n",
              "        -1.08916492e+00,  6.02777067e-01, -4.41364644e-02],\n",
              "       [-1.12941774e+00,  3.18433179e+00,  1.49090305e+00,\n",
              "         5.55703188e-01, -2.49809129e-01, -4.28281593e-02],\n",
              "       [ 1.32846646e+00,  2.97542306e+00, -3.69197007e-01,\n",
              "         8.28534161e-01, -7.61168365e-01, -3.86789943e-01],\n",
              "       [-7.82239914e-01, -4.96938035e-01, -4.55903877e-01,\n",
              "        -4.06252775e-01, -3.59640646e-01, -6.39946078e-01],\n",
              "       [ 1.08681990e+00, -3.46744672e-01, -2.18496224e-01,\n",
              "         9.87898071e-01,  2.28957555e-01,  1.97930569e-01],\n",
              "       [ 4.90103148e-01,  2.95514419e+00,  7.79743773e-01,\n",
              "         6.94336473e-01, -9.20608213e-01, -5.05587910e-01],\n",
              "       [-3.03809437e-01,  2.97739951e+00, -7.98317525e-01,\n",
              "        -3.90143899e-01, -7.92325516e-01,  2.24336439e-01],\n",
              "       [-1.90171707e-01,  1.78918691e-01,  3.87533391e-01,\n",
              "        -3.48430165e-01,  5.70201276e-01,  9.03903373e-02],\n",
              "       [ 1.10609582e+00,  2.07843065e-01, -3.16113885e-01,\n",
              "        -3.60607328e-01, -2.70365010e-01, -4.60466910e-01],\n",
              "       [-1.18322117e+00, -6.69964523e-01,  1.80070509e+00,\n",
              "         1.14737893e-01, -1.26794758e-02, -2.78941037e-01],\n",
              "       [ 8.44921413e-01, -3.80277447e-01, -2.54451875e-01,\n",
              "        -5.34511229e-01, -2.03015012e-01, -1.07487974e-01]])"
            ]
          },
          "metadata": {
            "tags": []
          },
          "execution_count": 114
        }
      ]
    },
    {
      "cell_type": "markdown",
      "metadata": {
        "id": "yddR4ZP7Pg-X"
      },
      "source": [
        "### รัน Factor Analyzer อีกรอบ ด้วย paremeters จำนวน factor เท่ากับ 6"
      ]
    },
    {
      "cell_type": "code",
      "metadata": {
        "id": "GSaw352RPVPk"
      },
      "source": [
        "from factor_analyzer import FactorAnalyzer\n",
        "fa2_Fifa = FactorAnalyzer(n_factors=6)\n",
        "data_fa2_Fifa = fa2_Fifa.fit_transform(Fifa_data_dropped)"
      ],
      "execution_count": 116,
      "outputs": []
    },
    {
      "cell_type": "code",
      "metadata": {
        "id": "nRPH5wp_P8Ps",
        "outputId": "0466d00e-1c4f-4110-fe3c-34c22644496a",
        "colab": {
          "base_uri": "https://localhost:8080/"
        }
      },
      "source": [
        "fa2_Fifa.loadings_.shape"
      ],
      "execution_count": 117,
      "outputs": [
        {
          "output_type": "execute_result",
          "data": {
            "text/plain": [
              "(17, 6)"
            ]
          },
          "metadata": {
            "tags": []
          },
          "execution_count": 117
        }
      ]
    },
    {
      "cell_type": "markdown",
      "metadata": {
        "id": "_nrUbBMzQP7Z"
      },
      "source": [
        "#### Plot factor loadings"
      ]
    },
    {
      "cell_type": "code",
      "metadata": {
        "id": "7wQb3tYAQLVD"
      },
      "source": [
        "from matplotlib import pyplot as plt\n",
        "import numpy as np\n",
        "import matplotlib"
      ],
      "execution_count": 118,
      "outputs": []
    },
    {
      "cell_type": "markdown",
      "metadata": {
        "id": "kTrjbeXwQmQ6"
      },
      "source": [
        "### matrix plot\n",
        "\n",
        "confirmatory"
      ]
    },
    {
      "cell_type": "code",
      "metadata": {
        "id": "2keWzFLXQYvd",
        "outputId": "e53ae714-c166-4330-9cd9-6c54f4cc005a",
        "colab": {
          "base_uri": "https://localhost:8080/",
          "height": 880
        }
      },
      "source": [
        "matplotlib.rcParams['figure.figsize']=[15,15]\n",
        "plt.imshow(np.absolute(fa2_Fifa.loadings_))"
      ],
      "execution_count": 119,
      "outputs": [
        {
          "output_type": "execute_result",
          "data": {
            "text/plain": [
              "<matplotlib.image.AxesImage at 0x7f660bc08110>"
            ]
          },
          "metadata": {
            "tags": []
          },
          "execution_count": 119
        },
        {
          "output_type": "display_data",
          "data": {
            "image/png": "[encoded data removed]",
            "text/plain": [
              "<Figure size 1080x1080 with 1 Axes>"
            ]
          },
          "metadata": {
            "tags": [],
            "needs_background": "light"
          }
        }
      ]
    },
    {
      "cell_type": "markdown",
      "metadata": {
        "id": "IO3HSMA7WofD"
      },
      "source": [
        "Factor ตัวที่ 1 มีค่ามากอยู่ตรง ตัวแปรตัว 1 และ 10-12\n",
        "\n",
        "Factor ตัวที่ 2 มีค่ามากอยู่ตรง ตัวแปรตัว 2-6\n",
        "\n",
        "Factor ตัวที่ 3 มีค่ามากอยู่ตรง ตัวแปรตัว 0 และ 3\n",
        "\n",
        "Factor ตัวที่ 4 มีค่ามากอยู่ตรง ตัวแปรตัว 13\n",
        "\n",
        "Factor ตัวที่ 5 มีค่าไม่ค่อยมาก\n",
        "\n",
        "Factor ตัวที่ 6 มีค่าไม่ค่อยมาก"
      ]
    },
    {
      "cell_type": "markdown",
      "metadata": {
        "id": "ttsB2KR6Q69-"
      },
      "source": [
        "### กราฟแท่ง\n",
        "\n",
        "Exploratory"
      ]
    },
    {
      "cell_type": "code",
      "metadata": {
        "id": "STfvWVqLQ0LM",
        "outputId": "5a375430-62e8-42f2-8232-4912e7a638da",
        "colab": {
          "base_uri": "https://localhost:8080/"
        }
      },
      "source": [
        "Fifa_data_dropped.columns"
      ],
      "execution_count": 120,
      "outputs": [
        {
          "output_type": "execute_result",
          "data": {
            "text/plain": [
              "Index(['Goal Scored', 'Ball Possession %', 'Attempts', 'On-Target',\n",
              "       'Off-Target', 'Blocked', 'Corners', 'Offsides', 'Free Kicks', 'Saves',\n",
              "       'Pass Accuracy %', 'Passes', 'Distance Covered (Kms)',\n",
              "       'Fouls Committed', 'Yellow Card', 'Yellow & Red', 'Red'],\n",
              "      dtype='object')"
            ]
          },
          "metadata": {
            "tags": []
          },
          "execution_count": 120
        }
      ]
    },
    {
      "cell_type": "code",
      "metadata": {
        "id": "UgS3AMNnRRfd",
        "outputId": "3560e741-b2af-4066-d97d-b7910c566d76",
        "colab": {
          "base_uri": "https://localhost:8080/",
          "height": 880
        }
      },
      "source": [
        "plt.bar(range(17),np.absolute(fa2_Fifa.loadings_[:,0]),tick_label=Fifa_data_dropped.columns)"
      ],
      "execution_count": 121,
      "outputs": [
        {
          "output_type": "execute_result",
          "data": {
            "text/plain": [
              "<BarContainer object of 17 artists>"
            ]
          },
          "metadata": {
            "tags": []
          },
          "execution_count": 121
        },
        {
          "output_type": "display_data",
          "data": {
            "image/png": "[encoded data removed]",
            "text/plain": [
              "<Figure size 1080x1080 with 1 Axes>"
            ]
          },
          "metadata": {
            "tags": [],
            "needs_background": "light"
          }
        }
      ]
    },
    {
      "cell_type": "markdown",
      "metadata": {
        "id": "kXycyoz_YdJh"
      },
      "source": [
        "พอร์ตเพื่อให้รู้ว่าตัวแปรไหนควรอยู่กลุ่มเดียวกันบ้าง หรือ ตัวแปรไหนควร อยู่ Factor เดียวกัน"
      ]
    },
    {
      "cell_type": "code",
      "metadata": {
        "id": "ThAnAK_1Rwlz"
      },
      "source": [
        ""
      ],
      "execution_count": null,
      "outputs": []
    }
  ]
}